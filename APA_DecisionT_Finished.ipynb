{
  "nbformat": 4,
  "nbformat_minor": 0,
  "metadata": {
    "colab": {
      "name": "APA_DecisionT_Finished.ipynb",
      "provenance": [],
      "collapsed_sections": []
    },
    "kernelspec": {
      "name": "python3",
      "display_name": "Python 3"
    },
    "language_info": {
      "name": "python"
    }
  },
  "cells": [
    {
      "cell_type": "markdown",
      "source": [
        "# **APA - Decision Trees**\n",
        "# DATA 3300"
      ],
      "metadata": {
        "id": "tYu76npmPg1L"
      }
    },
    {
      "cell_type": "markdown",
      "source": [
        "\n",
        "\n",
        "## Name(s): Rebecca Doud\n",
        "\n",
        "## Assignment APA Decision Trees"
      ],
      "metadata": {
        "id": "eFHbnaK3Plcl"
      }
    },
    {
      "cell_type": "markdown",
      "source": [
        "# Q1\n",
        "\n",
        "**Import the `funded.csv` dataset and the required libraries and packages. After viewing a heading of the df, use the `value_counts` function to view the class distribution for `Outcome`.**\n",
        "\n",
        "**What would you predict the Outcome to be for a new observation? What would be the accuracy of an *a priori* (naive) prediction approach? Show your formula.**\n"
      ],
      "metadata": {
        "id": "WKzFzTQfPpVx"
      }
    },
    {
      "cell_type": "code",
      "execution_count": 52,
      "metadata": {
        "id": "Dh84syvWPUnF"
      },
      "outputs": [],
      "source": [
        "import numpy as np\n",
        "import pandas as pd\n",
        "import matplotlib.pyplot as plt \n",
        "\n",
        "from sklearn.model_selection import train_test_split\n",
        "from sklearn.tree import DecisionTreeClassifier\n",
        "from sklearn.metrics import classification_report\n",
        "from sklearn import tree #libraries and packages for training model and evaluating performance on test set\n",
        "\n",
        "import seaborn as sns\n",
        "import graphviz #libraries for producing visualizations"
      ]
    },
    {
      "cell_type": "code",
      "source": [
        "df = pd.read_csv('/content/funded.csv')\n",
        "df.head()"
      ],
      "metadata": {
        "id": "_lEYyK9gQM1r",
        "colab": {
          "base_uri": "https://localhost:8080/",
          "height": 206
        },
        "outputId": "c23945ad-d82b-4967-8557-d4641820e311"
      },
      "execution_count": 53,
      "outputs": [
        {
          "output_type": "execute_result",
          "data": {
            "text/plain": [
              "   id    industry  months  pfunding  patents  smember  elites       outcome\n",
              "0   1  healthcare      36   2900000        0        0       5   soldoff-low\n",
              "1   2  healthcare      31   5500000        0        0       0           ipo\n",
              "2   3     defense      29    500000        0        0       4      bankrupt\n",
              "3   4        tech      29   2400000        1        0       5  soldoff-high\n",
              "4   5  healthcare      31   5300000        0        1       5           ipo"
            ],
            "text/html": [
              "\n",
              "  <div id=\"df-a919ac0d-9cbf-484e-984f-2a9ce86da1ae\">\n",
              "    <div class=\"colab-df-container\">\n",
              "      <div>\n",
              "<style scoped>\n",
              "    .dataframe tbody tr th:only-of-type {\n",
              "        vertical-align: middle;\n",
              "    }\n",
              "\n",
              "    .dataframe tbody tr th {\n",
              "        vertical-align: top;\n",
              "    }\n",
              "\n",
              "    .dataframe thead th {\n",
              "        text-align: right;\n",
              "    }\n",
              "</style>\n",
              "<table border=\"1\" class=\"dataframe\">\n",
              "  <thead>\n",
              "    <tr style=\"text-align: right;\">\n",
              "      <th></th>\n",
              "      <th>id</th>\n",
              "      <th>industry</th>\n",
              "      <th>months</th>\n",
              "      <th>pfunding</th>\n",
              "      <th>patents</th>\n",
              "      <th>smember</th>\n",
              "      <th>elites</th>\n",
              "      <th>outcome</th>\n",
              "    </tr>\n",
              "  </thead>\n",
              "  <tbody>\n",
              "    <tr>\n",
              "      <th>0</th>\n",
              "      <td>1</td>\n",
              "      <td>healthcare</td>\n",
              "      <td>36</td>\n",
              "      <td>2900000</td>\n",
              "      <td>0</td>\n",
              "      <td>0</td>\n",
              "      <td>5</td>\n",
              "      <td>soldoff-low</td>\n",
              "    </tr>\n",
              "    <tr>\n",
              "      <th>1</th>\n",
              "      <td>2</td>\n",
              "      <td>healthcare</td>\n",
              "      <td>31</td>\n",
              "      <td>5500000</td>\n",
              "      <td>0</td>\n",
              "      <td>0</td>\n",
              "      <td>0</td>\n",
              "      <td>ipo</td>\n",
              "    </tr>\n",
              "    <tr>\n",
              "      <th>2</th>\n",
              "      <td>3</td>\n",
              "      <td>defense</td>\n",
              "      <td>29</td>\n",
              "      <td>500000</td>\n",
              "      <td>0</td>\n",
              "      <td>0</td>\n",
              "      <td>4</td>\n",
              "      <td>bankrupt</td>\n",
              "    </tr>\n",
              "    <tr>\n",
              "      <th>3</th>\n",
              "      <td>4</td>\n",
              "      <td>tech</td>\n",
              "      <td>29</td>\n",
              "      <td>2400000</td>\n",
              "      <td>1</td>\n",
              "      <td>0</td>\n",
              "      <td>5</td>\n",
              "      <td>soldoff-high</td>\n",
              "    </tr>\n",
              "    <tr>\n",
              "      <th>4</th>\n",
              "      <td>5</td>\n",
              "      <td>healthcare</td>\n",
              "      <td>31</td>\n",
              "      <td>5300000</td>\n",
              "      <td>0</td>\n",
              "      <td>1</td>\n",
              "      <td>5</td>\n",
              "      <td>ipo</td>\n",
              "    </tr>\n",
              "  </tbody>\n",
              "</table>\n",
              "</div>\n",
              "      <button class=\"colab-df-convert\" onclick=\"convertToInteractive('df-a919ac0d-9cbf-484e-984f-2a9ce86da1ae')\"\n",
              "              title=\"Convert this dataframe to an interactive table.\"\n",
              "              style=\"display:none;\">\n",
              "        \n",
              "  <svg xmlns=\"http://www.w3.org/2000/svg\" height=\"24px\"viewBox=\"0 0 24 24\"\n",
              "       width=\"24px\">\n",
              "    <path d=\"M0 0h24v24H0V0z\" fill=\"none\"/>\n",
              "    <path d=\"M18.56 5.44l.94 2.06.94-2.06 2.06-.94-2.06-.94-.94-2.06-.94 2.06-2.06.94zm-11 1L8.5 8.5l.94-2.06 2.06-.94-2.06-.94L8.5 2.5l-.94 2.06-2.06.94zm10 10l.94 2.06.94-2.06 2.06-.94-2.06-.94-.94-2.06-.94 2.06-2.06.94z\"/><path d=\"M17.41 7.96l-1.37-1.37c-.4-.4-.92-.59-1.43-.59-.52 0-1.04.2-1.43.59L10.3 9.45l-7.72 7.72c-.78.78-.78 2.05 0 2.83L4 21.41c.39.39.9.59 1.41.59.51 0 1.02-.2 1.41-.59l7.78-7.78 2.81-2.81c.8-.78.8-2.07 0-2.86zM5.41 20L4 18.59l7.72-7.72 1.47 1.35L5.41 20z\"/>\n",
              "  </svg>\n",
              "      </button>\n",
              "      \n",
              "  <style>\n",
              "    .colab-df-container {\n",
              "      display:flex;\n",
              "      flex-wrap:wrap;\n",
              "      gap: 12px;\n",
              "    }\n",
              "\n",
              "    .colab-df-convert {\n",
              "      background-color: #E8F0FE;\n",
              "      border: none;\n",
              "      border-radius: 50%;\n",
              "      cursor: pointer;\n",
              "      display: none;\n",
              "      fill: #1967D2;\n",
              "      height: 32px;\n",
              "      padding: 0 0 0 0;\n",
              "      width: 32px;\n",
              "    }\n",
              "\n",
              "    .colab-df-convert:hover {\n",
              "      background-color: #E2EBFA;\n",
              "      box-shadow: 0px 1px 2px rgba(60, 64, 67, 0.3), 0px 1px 3px 1px rgba(60, 64, 67, 0.15);\n",
              "      fill: #174EA6;\n",
              "    }\n",
              "\n",
              "    [theme=dark] .colab-df-convert {\n",
              "      background-color: #3B4455;\n",
              "      fill: #D2E3FC;\n",
              "    }\n",
              "\n",
              "    [theme=dark] .colab-df-convert:hover {\n",
              "      background-color: #434B5C;\n",
              "      box-shadow: 0px 1px 3px 1px rgba(0, 0, 0, 0.15);\n",
              "      filter: drop-shadow(0px 1px 2px rgba(0, 0, 0, 0.3));\n",
              "      fill: #FFFFFF;\n",
              "    }\n",
              "  </style>\n",
              "\n",
              "      <script>\n",
              "        const buttonEl =\n",
              "          document.querySelector('#df-a919ac0d-9cbf-484e-984f-2a9ce86da1ae button.colab-df-convert');\n",
              "        buttonEl.style.display =\n",
              "          google.colab.kernel.accessAllowed ? 'block' : 'none';\n",
              "\n",
              "        async function convertToInteractive(key) {\n",
              "          const element = document.querySelector('#df-a919ac0d-9cbf-484e-984f-2a9ce86da1ae');\n",
              "          const dataTable =\n",
              "            await google.colab.kernel.invokeFunction('convertToInteractive',\n",
              "                                                     [key], {});\n",
              "          if (!dataTable) return;\n",
              "\n",
              "          const docLinkHtml = 'Like what you see? Visit the ' +\n",
              "            '<a target=\"_blank\" href=https://colab.research.google.com/notebooks/data_table.ipynb>data table notebook</a>'\n",
              "            + ' to learn more about interactive tables.';\n",
              "          element.innerHTML = '';\n",
              "          dataTable['output_type'] = 'display_data';\n",
              "          await google.colab.output.renderOutput(dataTable, element);\n",
              "          const docLink = document.createElement('div');\n",
              "          docLink.innerHTML = docLinkHtml;\n",
              "          element.appendChild(docLink);\n",
              "        }\n",
              "      </script>\n",
              "    </div>\n",
              "  </div>\n",
              "  "
            ]
          },
          "metadata": {},
          "execution_count": 53
        }
      ]
    },
    {
      "cell_type": "code",
      "source": [
        "df['outcome'].value_counts()"
      ],
      "metadata": {
        "id": "5qdkKEK6QXt1",
        "colab": {
          "base_uri": "https://localhost:8080/"
        },
        "outputId": "d8ad827a-caa5-4daa-a301-92304d400370"
      },
      "execution_count": 54,
      "outputs": [
        {
          "output_type": "execute_result",
          "data": {
            "text/plain": [
              "soldoff-high    384\n",
              "bankrupt        337\n",
              "soldoff-low     264\n",
              "ipo             174\n",
              "Name: outcome, dtype: int64"
            ]
          },
          "metadata": {},
          "execution_count": 54
        }
      ]
    },
    {
      "cell_type": "code",
      "source": [
        "a = 384/len(df)\n",
        "print(\"apriori accuracy = \", a)"
      ],
      "metadata": {
        "id": "qnxDiBFsQalq",
        "colab": {
          "base_uri": "https://localhost:8080/"
        },
        "outputId": "c773f0bc-c80b-4848-a7ce-f3287cdd9394"
      },
      "execution_count": 55,
      "outputs": [
        {
          "output_type": "stream",
          "name": "stdout",
          "text": [
            "apriori accuracy =  0.33132010353753233\n"
          ]
        }
      ]
    },
    {
      "cell_type": "markdown",
      "source": [
        "I would predict the outcome to be Sold Off at a high rate, and the a priori accuracy would be 33% (see formula above)"
      ],
      "metadata": {
        "id": "cKb-Yop2OB8q"
      }
    },
    {
      "cell_type": "markdown",
      "source": [
        "# Q2\n",
        "\n",
        "**Assign your IVs to an x object and your DV to a y object, then split your data into a training and test set for x and y, using a 80-20 split. Remember to perform any preprocessing necessary on your IVs (*hint: any categorical variables?)***\n",
        "\n",
        "\n",
        "**Then train a `DecisionTreeClassifier` model from the training set, using \"gini\" as the criterion, with a max depth of 9, a minimum leaf size of 5, and `min_impurity_decrease = 0.004`.**"
      ],
      "metadata": {
        "id": "sbGMN8gYQpur"
      }
    },
    {
      "cell_type": "code",
      "source": [
        "\n",
        "x = df.drop(['id','outcome'], axis=1) \n",
        "x = pd.get_dummies(data = x, drop_first = False) \n",
        "\n",
        "y = df['outcome']\n",
        "\n",
        "x_train, x_test, y_train, y_test = train_test_split( \n",
        "    x, y, test_size = 0.2, random_state = 100)"
      ],
      "metadata": {
        "id": "m5pmSrvtRBvc"
      },
      "execution_count": 56,
      "outputs": []
    },
    {
      "cell_type": "code",
      "source": [
        "model = DecisionTreeClassifier(criterion = \"gini\", random_state=100, \n",
        "                               max_depth=9, min_samples_leaf=5, min_impurity_decrease=0.004)"
      ],
      "metadata": {
        "id": "3zf58gmhRe_Y"
      },
      "execution_count": 57,
      "outputs": []
    },
    {
      "cell_type": "code",
      "source": [
        "model.fit(x_train, y_train)\n",
        "\n",
        "DecisionTreeClassifier(max_depth=9, min_samples_leaf=5, random_state=100)"
      ],
      "metadata": {
        "colab": {
          "base_uri": "https://localhost:8080/"
        },
        "id": "FqEOhPx_c2tW",
        "outputId": "82f7b537-ad22-47e4-c926-58b79a5579a7"
      },
      "execution_count": 58,
      "outputs": [
        {
          "output_type": "execute_result",
          "data": {
            "text/plain": [
              "DecisionTreeClassifier(max_depth=9, min_samples_leaf=5, random_state=100)"
            ]
          },
          "metadata": {},
          "execution_count": 58
        }
      ]
    },
    {
      "cell_type": "markdown",
      "source": [
        "## A \n",
        "\n",
        "**Plot your decision tree using the `export_graphviz` function from the `tree` library.**"
      ],
      "metadata": {
        "id": "x-1gIkagS3G6"
      }
    },
    {
      "cell_type": "code",
      "source": [
        "labels = y.value_counts()\n",
        "dot_data = tree.export_graphviz(model, out_file=None, \n",
        "                                feature_names=x.columns,  \n",
        "                                class_names=labels.index.values,\n",
        "                                filled=True) \n",
        "graph = graphviz.Source(dot_data, format=\"png\") \n",
        "graph"
      ],
      "metadata": {
        "id": "5_MJDzhhS_A5",
        "colab": {
          "base_uri": "https://localhost:8080/",
          "height": 1000
        },
        "outputId": "d6d83122-e3db-478a-f97b-dd311c6cf614"
      },
      "execution_count": 59,
      "outputs": [
        {
          "output_type": "execute_result",
          "data": {
            "text/plain": [
              "<graphviz.files.Source at 0x7f8dda244490>"
            ],
            "image/svg+xml": "<?xml version=\"1.0\" encoding=\"UTF-8\" standalone=\"no\"?>\n<!DOCTYPE svg PUBLIC \"-//W3C//DTD SVG 1.1//EN\"\n \"http://www.w3.org/Graphics/SVG/1.1/DTD/svg11.dtd\">\n<!-- Generated by graphviz version 2.40.1 (20161225.0304)\n -->\n<!-- Title: Tree Pages: 1 -->\n<svg width=\"1390pt\" height=\"790pt\"\n viewBox=\"0.00 0.00 1389.50 790.00\" xmlns=\"http://www.w3.org/2000/svg\" xmlns:xlink=\"http://www.w3.org/1999/xlink\">\n<g id=\"graph0\" class=\"graph\" transform=\"scale(1 1) rotate(0) translate(4 786)\">\n<title>Tree</title>\n<polygon fill=\"#ffffff\" stroke=\"transparent\" points=\"-4,4 -4,-786 1385.5,-786 1385.5,4 -4,4\"/>\n<!-- 0 -->\n<g id=\"node1\" class=\"node\">\n<title>0</title>\n<polygon fill=\"#f4fafe\" stroke=\"#000000\" points=\"1120,-782 923,-782 923,-699 1120,-699 1120,-782\"/>\n<text text-anchor=\"middle\" x=\"1021.5\" y=\"-766.8\" font-family=\"Helvetica,sans-Serif\" font-size=\"14.00\" fill=\"#000000\">industry_tech &lt;= 0.5</text>\n<text text-anchor=\"middle\" x=\"1021.5\" y=\"-751.8\" font-family=\"Helvetica,sans-Serif\" font-size=\"14.00\" fill=\"#000000\">gini = 0.731</text>\n<text text-anchor=\"middle\" x=\"1021.5\" y=\"-736.8\" font-family=\"Helvetica,sans-Serif\" font-size=\"14.00\" fill=\"#000000\">samples = 927</text>\n<text text-anchor=\"middle\" x=\"1021.5\" y=\"-721.8\" font-family=\"Helvetica,sans-Serif\" font-size=\"14.00\" fill=\"#000000\">value = [267, 134, 304, 222]</text>\n<text text-anchor=\"middle\" x=\"1021.5\" y=\"-706.8\" font-family=\"Helvetica,sans-Serif\" font-size=\"14.00\" fill=\"#000000\">class = soldoff&#45;low</text>\n</g>\n<!-- 1 -->\n<g id=\"node2\" class=\"node\">\n<title>1</title>\n<polygon fill=\"#ffffff\" stroke=\"#000000\" points=\"950,-663 753,-663 753,-580 950,-580 950,-663\"/>\n<text text-anchor=\"middle\" x=\"851.5\" y=\"-647.8\" font-family=\"Helvetica,sans-Serif\" font-size=\"14.00\" fill=\"#000000\">patents &lt;= 0.5</text>\n<text text-anchor=\"middle\" x=\"851.5\" y=\"-632.8\" font-family=\"Helvetica,sans-Serif\" font-size=\"14.00\" fill=\"#000000\">gini = 0.735</text>\n<text text-anchor=\"middle\" x=\"851.5\" y=\"-617.8\" font-family=\"Helvetica,sans-Serif\" font-size=\"14.00\" fill=\"#000000\">samples = 636</text>\n<text text-anchor=\"middle\" x=\"851.5\" y=\"-602.8\" font-family=\"Helvetica,sans-Serif\" font-size=\"14.00\" fill=\"#000000\">value = [137, 106, 197, 196]</text>\n<text text-anchor=\"middle\" x=\"851.5\" y=\"-587.8\" font-family=\"Helvetica,sans-Serif\" font-size=\"14.00\" fill=\"#000000\">class = soldoff&#45;low</text>\n</g>\n<!-- 0&#45;&gt;1 -->\n<g id=\"edge1\" class=\"edge\">\n<title>0&#45;&gt;1</title>\n<path fill=\"none\" stroke=\"#000000\" d=\"M962.0422,-698.8796C948.1954,-689.1868 933.3516,-678.7961 919.1788,-668.8752\"/>\n<polygon fill=\"#000000\" stroke=\"#000000\" points=\"921.1236,-665.9643 910.9242,-663.0969 917.1094,-671.6989 921.1236,-665.9643\"/>\n<text text-anchor=\"middle\" x=\"915.2688\" y=\"-684.0165\" font-family=\"Helvetica,sans-Serif\" font-size=\"14.00\" fill=\"#000000\">True</text>\n</g>\n<!-- 24 -->\n<g id=\"node25\" class=\"node\">\n<title>24</title>\n<polygon fill=\"#fcefe6\" stroke=\"#000000\" points=\"1215.5,-663 1035.5,-663 1035.5,-580 1215.5,-580 1215.5,-663\"/>\n<text text-anchor=\"middle\" x=\"1125.5\" y=\"-647.8\" font-family=\"Helvetica,sans-Serif\" font-size=\"14.00\" fill=\"#000000\">pfunding &lt;= 4950000.0</text>\n<text text-anchor=\"middle\" x=\"1125.5\" y=\"-632.8\" font-family=\"Helvetica,sans-Serif\" font-size=\"14.00\" fill=\"#000000\">gini = 0.648</text>\n<text text-anchor=\"middle\" x=\"1125.5\" y=\"-617.8\" font-family=\"Helvetica,sans-Serif\" font-size=\"14.00\" fill=\"#000000\">samples = 291</text>\n<text text-anchor=\"middle\" x=\"1125.5\" y=\"-602.8\" font-family=\"Helvetica,sans-Serif\" font-size=\"14.00\" fill=\"#000000\">value = [130, 28, 107, 26]</text>\n<text text-anchor=\"middle\" x=\"1125.5\" y=\"-587.8\" font-family=\"Helvetica,sans-Serif\" font-size=\"14.00\" fill=\"#000000\">class = soldoff&#45;high</text>\n</g>\n<!-- 0&#45;&gt;24 -->\n<g id=\"edge24\" class=\"edge\">\n<title>0&#45;&gt;24</title>\n<path fill=\"none\" stroke=\"#000000\" d=\"M1057.8742,-698.8796C1065.7452,-689.8733 1074.1429,-680.2644 1082.2485,-670.9897\"/>\n<polygon fill=\"#000000\" stroke=\"#000000\" points=\"1085.0254,-673.131 1088.9706,-663.2981 1079.7546,-668.5246 1085.0254,-673.131\"/>\n<text text-anchor=\"middle\" x=\"1090.6484\" y=\"-684.5417\" font-family=\"Helvetica,sans-Serif\" font-size=\"14.00\" fill=\"#000000\">False</text>\n</g>\n<!-- 2 -->\n<g id=\"node3\" class=\"node\">\n<title>2</title>\n<polygon fill=\"#fcf1e9\" stroke=\"#000000\" points=\"677.5,-544 505.5,-544 505.5,-461 677.5,-461 677.5,-544\"/>\n<text text-anchor=\"middle\" x=\"591.5\" y=\"-528.8\" font-family=\"Helvetica,sans-Serif\" font-size=\"14.00\" fill=\"#000000\">industry_media &lt;= 0.5</text>\n<text text-anchor=\"middle\" x=\"591.5\" y=\"-513.8\" font-family=\"Helvetica,sans-Serif\" font-size=\"14.00\" fill=\"#000000\">gini = 0.734</text>\n<text text-anchor=\"middle\" x=\"591.5\" y=\"-498.8\" font-family=\"Helvetica,sans-Serif\" font-size=\"14.00\" fill=\"#000000\">samples = 303</text>\n<text text-anchor=\"middle\" x=\"591.5\" y=\"-483.8\" font-family=\"Helvetica,sans-Serif\" font-size=\"14.00\" fill=\"#000000\">value = [102, 48, 77, 76]</text>\n<text text-anchor=\"middle\" x=\"591.5\" y=\"-468.8\" font-family=\"Helvetica,sans-Serif\" font-size=\"14.00\" fill=\"#000000\">class = soldoff&#45;high</text>\n</g>\n<!-- 1&#45;&gt;2 -->\n<g id=\"edge2\" class=\"edge\">\n<title>1&#45;&gt;2</title>\n<path fill=\"none\" stroke=\"#000000\" d=\"M760.5646,-579.8796C736.6723,-568.9442 710.8392,-557.1206 686.7285,-546.0853\"/>\n<polygon fill=\"#000000\" stroke=\"#000000\" points=\"688.1292,-542.8773 677.5798,-541.898 685.216,-549.2423 688.1292,-542.8773\"/>\n</g>\n<!-- 15 -->\n<g id=\"node16\" class=\"node\">\n<title>15</title>\n<polygon fill=\"#ffffff\" stroke=\"#000000\" points=\"941.5,-544 761.5,-544 761.5,-461 941.5,-461 941.5,-544\"/>\n<text text-anchor=\"middle\" x=\"851.5\" y=\"-528.8\" font-family=\"Helvetica,sans-Serif\" font-size=\"14.00\" fill=\"#000000\">pfunding &lt;= 5150000.0</text>\n<text text-anchor=\"middle\" x=\"851.5\" y=\"-513.8\" font-family=\"Helvetica,sans-Serif\" font-size=\"14.00\" fill=\"#000000\">gini = 0.699</text>\n<text text-anchor=\"middle\" x=\"851.5\" y=\"-498.8\" font-family=\"Helvetica,sans-Serif\" font-size=\"14.00\" fill=\"#000000\">samples = 333</text>\n<text text-anchor=\"middle\" x=\"851.5\" y=\"-483.8\" font-family=\"Helvetica,sans-Serif\" font-size=\"14.00\" fill=\"#000000\">value = [35, 58, 120, 120]</text>\n<text text-anchor=\"middle\" x=\"851.5\" y=\"-468.8\" font-family=\"Helvetica,sans-Serif\" font-size=\"14.00\" fill=\"#000000\">class = soldoff&#45;low</text>\n</g>\n<!-- 1&#45;&gt;15 -->\n<g id=\"edge15\" class=\"edge\">\n<title>1&#45;&gt;15</title>\n<path fill=\"none\" stroke=\"#000000\" d=\"M851.5,-579.8796C851.5,-571.6838 851.5,-562.9891 851.5,-554.5013\"/>\n<polygon fill=\"#000000\" stroke=\"#000000\" points=\"855.0001,-554.298 851.5,-544.2981 848.0001,-554.2981 855.0001,-554.298\"/>\n</g>\n<!-- 3 -->\n<g id=\"node4\" class=\"node\">\n<title>3</title>\n<polygon fill=\"#fceee5\" stroke=\"#000000\" points=\"496,-425 323,-425 323,-342 496,-342 496,-425\"/>\n<text text-anchor=\"middle\" x=\"409.5\" y=\"-409.8\" font-family=\"Helvetica,sans-Serif\" font-size=\"14.00\" fill=\"#000000\">industry_defense &lt;= 0.5</text>\n<text text-anchor=\"middle\" x=\"409.5\" y=\"-394.8\" font-family=\"Helvetica,sans-Serif\" font-size=\"14.00\" fill=\"#000000\">gini = 0.725</text>\n<text text-anchor=\"middle\" x=\"409.5\" y=\"-379.8\" font-family=\"Helvetica,sans-Serif\" font-size=\"14.00\" fill=\"#000000\">samples = 238</text>\n<text text-anchor=\"middle\" x=\"409.5\" y=\"-364.8\" font-family=\"Helvetica,sans-Serif\" font-size=\"14.00\" fill=\"#000000\">value = [88, 45, 40, 65]</text>\n<text text-anchor=\"middle\" x=\"409.5\" y=\"-349.8\" font-family=\"Helvetica,sans-Serif\" font-size=\"14.00\" fill=\"#000000\">class = soldoff&#45;high</text>\n</g>\n<!-- 2&#45;&gt;3 -->\n<g id=\"edge3\" class=\"edge\">\n<title>2&#45;&gt;3</title>\n<path fill=\"none\" stroke=\"#000000\" d=\"M527.8452,-460.8796C512.8824,-451.0962 496.8323,-440.6019 481.5309,-430.5971\"/>\n<polygon fill=\"#000000\" stroke=\"#000000\" points=\"483.4039,-427.6401 473.1188,-425.0969 479.5731,-433.4989 483.4039,-427.6401\"/>\n</g>\n<!-- 12 -->\n<g id=\"node13\" class=\"node\">\n<title>12</title>\n<polygon fill=\"#a6d3f3\" stroke=\"#000000\" points=\"669,-425 514,-425 514,-342 669,-342 669,-425\"/>\n<text text-anchor=\"middle\" x=\"591.5\" y=\"-409.8\" font-family=\"Helvetica,sans-Serif\" font-size=\"14.00\" fill=\"#000000\">months &lt;= 35.5</text>\n<text text-anchor=\"middle\" x=\"591.5\" y=\"-394.8\" font-family=\"Helvetica,sans-Serif\" font-size=\"14.00\" fill=\"#000000\">gini = 0.599</text>\n<text text-anchor=\"middle\" x=\"591.5\" y=\"-379.8\" font-family=\"Helvetica,sans-Serif\" font-size=\"14.00\" fill=\"#000000\">samples = 65</text>\n<text text-anchor=\"middle\" x=\"591.5\" y=\"-364.8\" font-family=\"Helvetica,sans-Serif\" font-size=\"14.00\" fill=\"#000000\">value = [14, 3, 37, 11]</text>\n<text text-anchor=\"middle\" x=\"591.5\" y=\"-349.8\" font-family=\"Helvetica,sans-Serif\" font-size=\"14.00\" fill=\"#000000\">class = soldoff&#45;low</text>\n</g>\n<!-- 2&#45;&gt;12 -->\n<g id=\"edge12\" class=\"edge\">\n<title>2&#45;&gt;12</title>\n<path fill=\"none\" stroke=\"#000000\" d=\"M591.5,-460.8796C591.5,-452.6838 591.5,-443.9891 591.5,-435.5013\"/>\n<polygon fill=\"#000000\" stroke=\"#000000\" points=\"595.0001,-435.298 591.5,-425.2981 588.0001,-435.2981 595.0001,-435.298\"/>\n</g>\n<!-- 4 -->\n<g id=\"node5\" class=\"node\">\n<title>4</title>\n<polygon fill=\"#eefded\" stroke=\"#000000\" points=\"319,-306 152,-306 152,-223 319,-223 319,-306\"/>\n<text text-anchor=\"middle\" x=\"235.5\" y=\"-290.8\" font-family=\"Helvetica,sans-Serif\" font-size=\"14.00\" fill=\"#000000\">pfunding &lt;= 5100000.0</text>\n<text text-anchor=\"middle\" x=\"235.5\" y=\"-275.8\" font-family=\"Helvetica,sans-Serif\" font-size=\"14.00\" fill=\"#000000\">gini = 0.734</text>\n<text text-anchor=\"middle\" x=\"235.5\" y=\"-260.8\" font-family=\"Helvetica,sans-Serif\" font-size=\"14.00\" fill=\"#000000\">samples = 118</text>\n<text text-anchor=\"middle\" x=\"235.5\" y=\"-245.8\" font-family=\"Helvetica,sans-Serif\" font-size=\"14.00\" fill=\"#000000\">value = [31, 39, 18, 30]</text>\n<text text-anchor=\"middle\" x=\"235.5\" y=\"-230.8\" font-family=\"Helvetica,sans-Serif\" font-size=\"14.00\" fill=\"#000000\">class = bankrupt</text>\n</g>\n<!-- 3&#45;&gt;4 -->\n<g id=\"edge4\" class=\"edge\">\n<title>3&#45;&gt;4</title>\n<path fill=\"none\" stroke=\"#000000\" d=\"M348.6432,-341.8796C334.4706,-332.1868 319.2775,-321.7961 304.7712,-311.8752\"/>\n<polygon fill=\"#000000\" stroke=\"#000000\" points=\"306.5525,-308.8531 296.3224,-306.0969 302.6008,-314.6311 306.5525,-308.8531\"/>\n</g>\n<!-- 9 -->\n<g id=\"node10\" class=\"node\">\n<title>9</title>\n<polygon fill=\"#f8decc\" stroke=\"#000000\" points=\"492,-306 337,-306 337,-223 492,-223 492,-306\"/>\n<text text-anchor=\"middle\" x=\"414.5\" y=\"-290.8\" font-family=\"Helvetica,sans-Serif\" font-size=\"14.00\" fill=\"#000000\">elites &lt;= 5.5</text>\n<text text-anchor=\"middle\" x=\"414.5\" y=\"-275.8\" font-family=\"Helvetica,sans-Serif\" font-size=\"14.00\" fill=\"#000000\">gini = 0.653</text>\n<text text-anchor=\"middle\" x=\"414.5\" y=\"-260.8\" font-family=\"Helvetica,sans-Serif\" font-size=\"14.00\" fill=\"#000000\">samples = 120</text>\n<text text-anchor=\"middle\" x=\"414.5\" y=\"-245.8\" font-family=\"Helvetica,sans-Serif\" font-size=\"14.00\" fill=\"#000000\">value = [57, 6, 22, 35]</text>\n<text text-anchor=\"middle\" x=\"414.5\" y=\"-230.8\" font-family=\"Helvetica,sans-Serif\" font-size=\"14.00\" fill=\"#000000\">class = soldoff&#45;high</text>\n</g>\n<!-- 3&#45;&gt;9 -->\n<g id=\"edge9\" class=\"edge\">\n<title>3&#45;&gt;9</title>\n<path fill=\"none\" stroke=\"#000000\" d=\"M411.2488,-341.8796C411.5931,-333.6838 411.9584,-324.9891 412.3151,-316.5013\"/>\n<polygon fill=\"#000000\" stroke=\"#000000\" points=\"415.8208,-316.4362 412.7438,-306.2981 408.827,-316.1423 415.8208,-316.4362\"/>\n</g>\n<!-- 5 -->\n<g id=\"node6\" class=\"node\">\n<title>5</title>\n<polygon fill=\"#fbece1\" stroke=\"#000000\" points=\"147,-179.5 0,-179.5 0,-111.5 147,-111.5 147,-179.5\"/>\n<text text-anchor=\"middle\" x=\"73.5\" y=\"-164.3\" font-family=\"Helvetica,sans-Serif\" font-size=\"14.00\" fill=\"#000000\">gini = 0.698</text>\n<text text-anchor=\"middle\" x=\"73.5\" y=\"-149.3\" font-family=\"Helvetica,sans-Serif\" font-size=\"14.00\" fill=\"#000000\">samples = 56</text>\n<text text-anchor=\"middle\" x=\"73.5\" y=\"-134.3\" font-family=\"Helvetica,sans-Serif\" font-size=\"14.00\" fill=\"#000000\">value = [23, 7, 9, 17]</text>\n<text text-anchor=\"middle\" x=\"73.5\" y=\"-119.3\" font-family=\"Helvetica,sans-Serif\" font-size=\"14.00\" fill=\"#000000\">class = soldoff&#45;high</text>\n</g>\n<!-- 4&#45;&gt;5 -->\n<g id=\"edge5\" class=\"edge\">\n<title>4&#45;&gt;5</title>\n<path fill=\"none\" stroke=\"#000000\" d=\"M178.8403,-222.8796C162.4459,-210.8368 144.5849,-197.7167 128.3058,-185.7586\"/>\n<polygon fill=\"#000000\" stroke=\"#000000\" points=\"130.0846,-182.7224 119.9532,-179.623 125.9405,-188.3639 130.0846,-182.7224\"/>\n</g>\n<!-- 6 -->\n<g id=\"node7\" class=\"node\">\n<title>6</title>\n<polygon fill=\"#b8f5b2\" stroke=\"#000000\" points=\"312,-187 165,-187 165,-104 312,-104 312,-187\"/>\n<text text-anchor=\"middle\" x=\"238.5\" y=\"-171.8\" font-family=\"Helvetica,sans-Serif\" font-size=\"14.00\" fill=\"#000000\">elites &lt;= 3.5</text>\n<text text-anchor=\"middle\" x=\"238.5\" y=\"-156.8\" font-family=\"Helvetica,sans-Serif\" font-size=\"14.00\" fill=\"#000000\">gini = 0.652</text>\n<text text-anchor=\"middle\" x=\"238.5\" y=\"-141.8\" font-family=\"Helvetica,sans-Serif\" font-size=\"14.00\" fill=\"#000000\">samples = 62</text>\n<text text-anchor=\"middle\" x=\"238.5\" y=\"-126.8\" font-family=\"Helvetica,sans-Serif\" font-size=\"14.00\" fill=\"#000000\">value = [8, 32, 9, 13]</text>\n<text text-anchor=\"middle\" x=\"238.5\" y=\"-111.8\" font-family=\"Helvetica,sans-Serif\" font-size=\"14.00\" fill=\"#000000\">class = bankrupt</text>\n</g>\n<!-- 4&#45;&gt;6 -->\n<g id=\"edge6\" class=\"edge\">\n<title>4&#45;&gt;6</title>\n<path fill=\"none\" stroke=\"#000000\" d=\"M236.5493,-222.8796C236.7559,-214.6838 236.9751,-205.9891 237.189,-197.5013\"/>\n<polygon fill=\"#000000\" stroke=\"#000000\" points=\"240.693,-197.3831 237.4463,-187.2981 233.6953,-197.2067 240.693,-197.3831\"/>\n</g>\n<!-- 7 -->\n<g id=\"node8\" class=\"node\">\n<title>7</title>\n<polygon fill=\"#fbebfc\" stroke=\"#000000\" points=\"232,-68 85,-68 85,0 232,0 232,-68\"/>\n<text text-anchor=\"middle\" x=\"158.5\" y=\"-52.8\" font-family=\"Helvetica,sans-Serif\" font-size=\"14.00\" fill=\"#000000\">gini = 0.741</text>\n<text text-anchor=\"middle\" x=\"158.5\" y=\"-37.8\" font-family=\"Helvetica,sans-Serif\" font-size=\"14.00\" fill=\"#000000\">samples = 40</text>\n<text text-anchor=\"middle\" x=\"158.5\" y=\"-22.8\" font-family=\"Helvetica,sans-Serif\" font-size=\"14.00\" fill=\"#000000\">value = [8, 10, 9, 13]</text>\n<text text-anchor=\"middle\" x=\"158.5\" y=\"-7.8\" font-family=\"Helvetica,sans-Serif\" font-size=\"14.00\" fill=\"#000000\">class = ipo</text>\n</g>\n<!-- 6&#45;&gt;7 -->\n<g id=\"edge7\" class=\"edge\">\n<title>6&#45;&gt;7</title>\n<path fill=\"none\" stroke=\"#000000\" d=\"M208.711,-103.9815C202.2486,-94.9747 195.4052,-85.4367 188.919,-76.3965\"/>\n<polygon fill=\"#000000\" stroke=\"#000000\" points=\"191.7572,-74.3483 183.0838,-68.2637 186.0697,-78.4291 191.7572,-74.3483\"/>\n</g>\n<!-- 8 -->\n<g id=\"node9\" class=\"node\">\n<title>8</title>\n<polygon fill=\"#47e539\" stroke=\"#000000\" points=\"389,-68 250,-68 250,0 389,0 389,-68\"/>\n<text text-anchor=\"middle\" x=\"319.5\" y=\"-52.8\" font-family=\"Helvetica,sans-Serif\" font-size=\"14.00\" fill=\"#000000\">gini = 0.0</text>\n<text text-anchor=\"middle\" x=\"319.5\" y=\"-37.8\" font-family=\"Helvetica,sans-Serif\" font-size=\"14.00\" fill=\"#000000\">samples = 22</text>\n<text text-anchor=\"middle\" x=\"319.5\" y=\"-22.8\" font-family=\"Helvetica,sans-Serif\" font-size=\"14.00\" fill=\"#000000\">value = [0, 22, 0, 0]</text>\n<text text-anchor=\"middle\" x=\"319.5\" y=\"-7.8\" font-family=\"Helvetica,sans-Serif\" font-size=\"14.00\" fill=\"#000000\">class = bankrupt</text>\n</g>\n<!-- 6&#45;&gt;8 -->\n<g id=\"edge8\" class=\"edge\">\n<title>6&#45;&gt;8</title>\n<path fill=\"none\" stroke=\"#000000\" d=\"M268.6614,-103.9815C275.2045,-94.9747 282.1334,-85.4367 288.7008,-76.3965\"/>\n<polygon fill=\"#000000\" stroke=\"#000000\" points=\"291.5631,-78.4113 294.6089,-68.2637 285.8998,-74.2971 291.5631,-78.4113\"/>\n</g>\n<!-- 10 -->\n<g id=\"node11\" class=\"node\">\n<title>10</title>\n<polygon fill=\"#f7d8c1\" stroke=\"#000000\" points=\"490,-179.5 335,-179.5 335,-111.5 490,-111.5 490,-179.5\"/>\n<text text-anchor=\"middle\" x=\"412.5\" y=\"-164.3\" font-family=\"Helvetica,sans-Serif\" font-size=\"14.00\" fill=\"#000000\">gini = 0.611</text>\n<text text-anchor=\"middle\" x=\"412.5\" y=\"-149.3\" font-family=\"Helvetica,sans-Serif\" font-size=\"14.00\" fill=\"#000000\">samples = 107</text>\n<text text-anchor=\"middle\" x=\"412.5\" y=\"-134.3\" font-family=\"Helvetica,sans-Serif\" font-size=\"14.00\" fill=\"#000000\">value = [56, 3, 15, 33]</text>\n<text text-anchor=\"middle\" x=\"412.5\" y=\"-119.3\" font-family=\"Helvetica,sans-Serif\" font-size=\"14.00\" fill=\"#000000\">class = soldoff&#45;high</text>\n</g>\n<!-- 9&#45;&gt;10 -->\n<g id=\"edge10\" class=\"edge\">\n<title>9&#45;&gt;10</title>\n<path fill=\"none\" stroke=\"#000000\" d=\"M413.8005,-222.8796C413.6212,-212.2134 413.4278,-200.7021 413.2462,-189.9015\"/>\n<polygon fill=\"#000000\" stroke=\"#000000\" points=\"416.7444,-189.7547 413.0767,-179.8149 409.7454,-189.8724 416.7444,-189.7547\"/>\n</g>\n<!-- 11 -->\n<g id=\"node12\" class=\"node\">\n<title>11</title>\n<polygon fill=\"#b0d8f5\" stroke=\"#000000\" points=\"643,-179.5 508,-179.5 508,-111.5 643,-111.5 643,-179.5\"/>\n<text text-anchor=\"middle\" x=\"575.5\" y=\"-164.3\" font-family=\"Helvetica,sans-Serif\" font-size=\"14.00\" fill=\"#000000\">gini = 0.627</text>\n<text text-anchor=\"middle\" x=\"575.5\" y=\"-149.3\" font-family=\"Helvetica,sans-Serif\" font-size=\"14.00\" fill=\"#000000\">samples = 13</text>\n<text text-anchor=\"middle\" x=\"575.5\" y=\"-134.3\" font-family=\"Helvetica,sans-Serif\" font-size=\"14.00\" fill=\"#000000\">value = [1, 3, 7, 2]</text>\n<text text-anchor=\"middle\" x=\"575.5\" y=\"-119.3\" font-family=\"Helvetica,sans-Serif\" font-size=\"14.00\" fill=\"#000000\">class = soldoff&#45;low</text>\n</g>\n<!-- 9&#45;&gt;11 -->\n<g id=\"edge11\" class=\"edge\">\n<title>9&#45;&gt;11</title>\n<path fill=\"none\" stroke=\"#000000\" d=\"M470.81,-222.8796C487.1032,-210.8368 504.8539,-197.7167 521.0325,-185.7586\"/>\n<polygon fill=\"#000000\" stroke=\"#000000\" points=\"523.3721,-188.3816 529.3335,-179.623 519.2114,-182.7524 523.3721,-188.3816\"/>\n</g>\n<!-- 13 -->\n<g id=\"node14\" class=\"node\">\n<title>13</title>\n<polygon fill=\"#8dc6f0\" stroke=\"#000000\" points=\"657,-298.5 518,-298.5 518,-230.5 657,-230.5 657,-298.5\"/>\n<text text-anchor=\"middle\" x=\"587.5\" y=\"-283.3\" font-family=\"Helvetica,sans-Serif\" font-size=\"14.00\" fill=\"#000000\">gini = 0.532</text>\n<text text-anchor=\"middle\" x=\"587.5\" y=\"-268.3\" font-family=\"Helvetica,sans-Serif\" font-size=\"14.00\" fill=\"#000000\">samples = 54</text>\n<text text-anchor=\"middle\" x=\"587.5\" y=\"-253.3\" font-family=\"Helvetica,sans-Serif\" font-size=\"14.00\" fill=\"#000000\">value = [7, 3, 35, 9]</text>\n<text text-anchor=\"middle\" x=\"587.5\" y=\"-238.3\" font-family=\"Helvetica,sans-Serif\" font-size=\"14.00\" fill=\"#000000\">class = soldoff&#45;low</text>\n</g>\n<!-- 12&#45;&gt;13 -->\n<g id=\"edge13\" class=\"edge\">\n<title>12&#45;&gt;13</title>\n<path fill=\"none\" stroke=\"#000000\" d=\"M590.101,-341.8796C589.7425,-331.2134 589.3555,-319.7021 588.9925,-308.9015\"/>\n<polygon fill=\"#000000\" stroke=\"#000000\" points=\"592.4875,-308.6917 588.6534,-298.8149 585.4915,-308.9269 592.4875,-308.6917\"/>\n</g>\n<!-- 14 -->\n<g id=\"node15\" class=\"node\">\n<title>14</title>\n<polygon fill=\"#f1b991\" stroke=\"#000000\" points=\"816,-298.5 675,-298.5 675,-230.5 816,-230.5 816,-298.5\"/>\n<text text-anchor=\"middle\" x=\"745.5\" y=\"-283.3\" font-family=\"Helvetica,sans-Serif\" font-size=\"14.00\" fill=\"#000000\">gini = 0.529</text>\n<text text-anchor=\"middle\" x=\"745.5\" y=\"-268.3\" font-family=\"Helvetica,sans-Serif\" font-size=\"14.00\" fill=\"#000000\">samples = 11</text>\n<text text-anchor=\"middle\" x=\"745.5\" y=\"-253.3\" font-family=\"Helvetica,sans-Serif\" font-size=\"14.00\" fill=\"#000000\">value = [7, 0, 2, 2]</text>\n<text text-anchor=\"middle\" x=\"745.5\" y=\"-238.3\" font-family=\"Helvetica,sans-Serif\" font-size=\"14.00\" fill=\"#000000\">class = soldoff&#45;high</text>\n</g>\n<!-- 12&#45;&gt;14 -->\n<g id=\"edge14\" class=\"edge\">\n<title>12&#45;&gt;14</title>\n<path fill=\"none\" stroke=\"#000000\" d=\"M645.3617,-341.8796C660.7304,-330.0038 677.4547,-317.0804 692.7559,-305.2568\"/>\n<polygon fill=\"#000000\" stroke=\"#000000\" points=\"695.3196,-307.699 701.0924,-298.8149 691.0395,-302.1599 695.3196,-307.699\"/>\n</g>\n<!-- 16 -->\n<g id=\"node17\" class=\"node\">\n<title>16</title>\n<polygon fill=\"#eef7fd\" stroke=\"#000000\" points=\"851.5,-417.5 687.5,-417.5 687.5,-349.5 851.5,-349.5 851.5,-417.5\"/>\n<text text-anchor=\"middle\" x=\"769.5\" y=\"-402.3\" font-family=\"Helvetica,sans-Serif\" font-size=\"14.00\" fill=\"#000000\">gini = 0.663</text>\n<text text-anchor=\"middle\" x=\"769.5\" y=\"-387.3\" font-family=\"Helvetica,sans-Serif\" font-size=\"14.00\" fill=\"#000000\">samples = 225</text>\n<text text-anchor=\"middle\" x=\"769.5\" y=\"-372.3\" font-family=\"Helvetica,sans-Serif\" font-size=\"14.00\" fill=\"#000000\">value = [20, 27, 95, 83]</text>\n<text text-anchor=\"middle\" x=\"769.5\" y=\"-357.3\" font-family=\"Helvetica,sans-Serif\" font-size=\"14.00\" fill=\"#000000\">class = soldoff&#45;low</text>\n</g>\n<!-- 15&#45;&gt;16 -->\n<g id=\"edge16\" class=\"edge\">\n<title>15&#45;&gt;16</title>\n<path fill=\"none\" stroke=\"#000000\" d=\"M822.8204,-460.8796C815.0917,-449.6636 806.7191,-437.5131 798.9492,-426.2372\"/>\n<polygon fill=\"#000000\" stroke=\"#000000\" points=\"801.7018,-424.0634 793.1456,-417.8149 795.9377,-428.0353 801.7018,-424.0634\"/>\n</g>\n<!-- 17 -->\n<g id=\"node18\" class=\"node\">\n<title>17</title>\n<polygon fill=\"#fcf0fd\" stroke=\"#000000\" points=\"1033.5,-425 869.5,-425 869.5,-342 1033.5,-342 1033.5,-425\"/>\n<text text-anchor=\"middle\" x=\"951.5\" y=\"-409.8\" font-family=\"Helvetica,sans-Serif\" font-size=\"14.00\" fill=\"#000000\">elites &lt;= 3.5</text>\n<text text-anchor=\"middle\" x=\"951.5\" y=\"-394.8\" font-family=\"Helvetica,sans-Serif\" font-size=\"14.00\" fill=\"#000000\">gini = 0.727</text>\n<text text-anchor=\"middle\" x=\"951.5\" y=\"-379.8\" font-family=\"Helvetica,sans-Serif\" font-size=\"14.00\" fill=\"#000000\">samples = 108</text>\n<text text-anchor=\"middle\" x=\"951.5\" y=\"-364.8\" font-family=\"Helvetica,sans-Serif\" font-size=\"14.00\" fill=\"#000000\">value = [15, 31, 25, 37]</text>\n<text text-anchor=\"middle\" x=\"951.5\" y=\"-349.8\" font-family=\"Helvetica,sans-Serif\" font-size=\"14.00\" fill=\"#000000\">class = ipo</text>\n</g>\n<!-- 15&#45;&gt;17 -->\n<g id=\"edge17\" class=\"edge\">\n<title>15&#45;&gt;17</title>\n<path fill=\"none\" stroke=\"#000000\" d=\"M886.4751,-460.8796C894.0435,-451.8733 902.1181,-442.2644 909.912,-432.9897\"/>\n<polygon fill=\"#000000\" stroke=\"#000000\" points=\"912.6216,-435.2056 916.3756,-425.2981 907.2626,-430.7022 912.6216,-435.2056\"/>\n</g>\n<!-- 18 -->\n<g id=\"node19\" class=\"node\">\n<title>18</title>\n<polygon fill=\"#f5ccf8\" stroke=\"#000000\" points=\"1009,-306 854,-306 854,-223 1009,-223 1009,-306\"/>\n<text text-anchor=\"middle\" x=\"931.5\" y=\"-290.8\" font-family=\"Helvetica,sans-Serif\" font-size=\"14.00\" fill=\"#000000\">months &lt;= 35.5</text>\n<text text-anchor=\"middle\" x=\"931.5\" y=\"-275.8\" font-family=\"Helvetica,sans-Serif\" font-size=\"14.00\" fill=\"#000000\">gini = 0.671</text>\n<text text-anchor=\"middle\" x=\"931.5\" y=\"-260.8\" font-family=\"Helvetica,sans-Serif\" font-size=\"14.00\" fill=\"#000000\">samples = 75</text>\n<text text-anchor=\"middle\" x=\"931.5\" y=\"-245.8\" font-family=\"Helvetica,sans-Serif\" font-size=\"14.00\" fill=\"#000000\">value = [11, 8, 21, 35]</text>\n<text text-anchor=\"middle\" x=\"931.5\" y=\"-230.8\" font-family=\"Helvetica,sans-Serif\" font-size=\"14.00\" fill=\"#000000\">class = ipo</text>\n</g>\n<!-- 17&#45;&gt;18 -->\n<g id=\"edge18\" class=\"edge\">\n<title>17&#45;&gt;18</title>\n<path fill=\"none\" stroke=\"#000000\" d=\"M944.505,-341.8796C943.1124,-333.5938 941.6341,-324.798 940.1927,-316.2216\"/>\n<polygon fill=\"#000000\" stroke=\"#000000\" points=\"943.634,-315.5796 938.5249,-306.2981 936.7308,-316.7399 943.634,-315.5796\"/>\n</g>\n<!-- 21 -->\n<g id=\"node22\" class=\"node\">\n<title>21</title>\n<polygon fill=\"#86ee7d\" stroke=\"#000000\" points=\"1215.5,-306 1027.5,-306 1027.5,-223 1215.5,-223 1215.5,-306\"/>\n<text text-anchor=\"middle\" x=\"1121.5\" y=\"-290.8\" font-family=\"Helvetica,sans-Serif\" font-size=\"14.00\" fill=\"#000000\">industry_healthcare &lt;= 0.5</text>\n<text text-anchor=\"middle\" x=\"1121.5\" y=\"-275.8\" font-family=\"Helvetica,sans-Serif\" font-size=\"14.00\" fill=\"#000000\">gini = 0.481</text>\n<text text-anchor=\"middle\" x=\"1121.5\" y=\"-260.8\" font-family=\"Helvetica,sans-Serif\" font-size=\"14.00\" fill=\"#000000\">samples = 33</text>\n<text text-anchor=\"middle\" x=\"1121.5\" y=\"-245.8\" font-family=\"Helvetica,sans-Serif\" font-size=\"14.00\" fill=\"#000000\">value = [4, 23, 4, 2]</text>\n<text text-anchor=\"middle\" x=\"1121.5\" y=\"-230.8\" font-family=\"Helvetica,sans-Serif\" font-size=\"14.00\" fill=\"#000000\">class = bankrupt</text>\n</g>\n<!-- 17&#45;&gt;21 -->\n<g id=\"edge21\" class=\"edge\">\n<title>17&#45;&gt;21</title>\n<path fill=\"none\" stroke=\"#000000\" d=\"M1010.9578,-341.8796C1024.8046,-332.1868 1039.6484,-321.7961 1053.8212,-311.8752\"/>\n<polygon fill=\"#000000\" stroke=\"#000000\" points=\"1055.8906,-314.6989 1062.0758,-306.0969 1051.8764,-308.9643 1055.8906,-314.6989\"/>\n</g>\n<!-- 19 -->\n<g id=\"node20\" class=\"node\">\n<title>19</title>\n<polygon fill=\"#ffffff\" stroke=\"#000000\" points=\"854,-179.5 707,-179.5 707,-111.5 854,-111.5 854,-179.5\"/>\n<text text-anchor=\"middle\" x=\"780.5\" y=\"-164.3\" font-family=\"Helvetica,sans-Serif\" font-size=\"14.00\" fill=\"#000000\">gini = 0.667</text>\n<text text-anchor=\"middle\" x=\"780.5\" y=\"-149.3\" font-family=\"Helvetica,sans-Serif\" font-size=\"14.00\" fill=\"#000000\">samples = 51</text>\n<text text-anchor=\"middle\" x=\"780.5\" y=\"-134.3\" font-family=\"Helvetica,sans-Serif\" font-size=\"14.00\" fill=\"#000000\">value = [4, 7, 20, 20]</text>\n<text text-anchor=\"middle\" x=\"780.5\" y=\"-119.3\" font-family=\"Helvetica,sans-Serif\" font-size=\"14.00\" fill=\"#000000\">class = soldoff&#45;low</text>\n</g>\n<!-- 18&#45;&gt;19 -->\n<g id=\"edge19\" class=\"edge\">\n<title>18&#45;&gt;19</title>\n<path fill=\"none\" stroke=\"#000000\" d=\"M878.6875,-222.8796C863.6183,-211.0038 847.2197,-198.0804 832.2166,-186.2568\"/>\n<polygon fill=\"#000000\" stroke=\"#000000\" points=\"834.0631,-183.2557 824.0425,-179.8149 829.7302,-188.7536 834.0631,-183.2557\"/>\n</g>\n<!-- 20 -->\n<g id=\"node21\" class=\"node\">\n<title>20</title>\n<polygon fill=\"#eca2f3\" stroke=\"#000000\" points=\"1011,-179.5 872,-179.5 872,-111.5 1011,-111.5 1011,-179.5\"/>\n<text text-anchor=\"middle\" x=\"941.5\" y=\"-164.3\" font-family=\"Helvetica,sans-Serif\" font-size=\"14.00\" fill=\"#000000\">gini = 0.521</text>\n<text text-anchor=\"middle\" x=\"941.5\" y=\"-149.3\" font-family=\"Helvetica,sans-Serif\" font-size=\"14.00\" fill=\"#000000\">samples = 24</text>\n<text text-anchor=\"middle\" x=\"941.5\" y=\"-134.3\" font-family=\"Helvetica,sans-Serif\" font-size=\"14.00\" fill=\"#000000\">value = [7, 1, 1, 15]</text>\n<text text-anchor=\"middle\" x=\"941.5\" y=\"-119.3\" font-family=\"Helvetica,sans-Serif\" font-size=\"14.00\" fill=\"#000000\">class = ipo</text>\n</g>\n<!-- 18&#45;&gt;20 -->\n<g id=\"edge20\" class=\"edge\">\n<title>18&#45;&gt;20</title>\n<path fill=\"none\" stroke=\"#000000\" d=\"M934.9975,-222.8796C935.8938,-212.2134 936.8612,-200.7021 937.7688,-189.9015\"/>\n<polygon fill=\"#000000\" stroke=\"#000000\" points=\"941.2666,-190.0729 938.6164,-179.8149 934.2912,-189.4867 941.2666,-190.0729\"/>\n</g>\n<!-- 22 -->\n<g id=\"node23\" class=\"node\">\n<title>22</title>\n<polygon fill=\"#e0fbde\" stroke=\"#000000\" points=\"1178,-179.5 1047,-179.5 1047,-111.5 1178,-111.5 1178,-179.5\"/>\n<text text-anchor=\"middle\" x=\"1112.5\" y=\"-164.3\" font-family=\"Helvetica,sans-Serif\" font-size=\"14.00\" fill=\"#000000\">gini = 0.719</text>\n<text text-anchor=\"middle\" x=\"1112.5\" y=\"-149.3\" font-family=\"Helvetica,sans-Serif\" font-size=\"14.00\" fill=\"#000000\">samples = 16</text>\n<text text-anchor=\"middle\" x=\"1112.5\" y=\"-134.3\" font-family=\"Helvetica,sans-Serif\" font-size=\"14.00\" fill=\"#000000\">value = [4, 6, 4, 2]</text>\n<text text-anchor=\"middle\" x=\"1112.5\" y=\"-119.3\" font-family=\"Helvetica,sans-Serif\" font-size=\"14.00\" fill=\"#000000\">class = bankrupt</text>\n</g>\n<!-- 21&#45;&gt;22 -->\n<g id=\"edge22\" class=\"edge\">\n<title>21&#45;&gt;22</title>\n<path fill=\"none\" stroke=\"#000000\" d=\"M1118.3522,-222.8796C1117.5455,-212.2134 1116.6749,-200.7021 1115.8581,-189.9015\"/>\n<polygon fill=\"#000000\" stroke=\"#000000\" points=\"1119.3395,-189.5225 1115.0952,-179.8149 1112.3595,-190.0504 1119.3395,-189.5225\"/>\n</g>\n<!-- 23 -->\n<g id=\"node24\" class=\"node\">\n<title>23</title>\n<polygon fill=\"#47e539\" stroke=\"#000000\" points=\"1335,-179.5 1196,-179.5 1196,-111.5 1335,-111.5 1335,-179.5\"/>\n<text text-anchor=\"middle\" x=\"1265.5\" y=\"-164.3\" font-family=\"Helvetica,sans-Serif\" font-size=\"14.00\" fill=\"#000000\">gini = 0.0</text>\n<text text-anchor=\"middle\" x=\"1265.5\" y=\"-149.3\" font-family=\"Helvetica,sans-Serif\" font-size=\"14.00\" fill=\"#000000\">samples = 17</text>\n<text text-anchor=\"middle\" x=\"1265.5\" y=\"-134.3\" font-family=\"Helvetica,sans-Serif\" font-size=\"14.00\" fill=\"#000000\">value = [0, 17, 0, 0]</text>\n<text text-anchor=\"middle\" x=\"1265.5\" y=\"-119.3\" font-family=\"Helvetica,sans-Serif\" font-size=\"14.00\" fill=\"#000000\">class = bankrupt</text>\n</g>\n<!-- 21&#45;&gt;23 -->\n<g id=\"edge23\" class=\"edge\">\n<title>21&#45;&gt;23</title>\n<path fill=\"none\" stroke=\"#000000\" d=\"M1171.8642,-222.8796C1186.2349,-211.0038 1201.8733,-198.0804 1216.1808,-186.2568\"/>\n<polygon fill=\"#000000\" stroke=\"#000000\" points=\"1218.4971,-188.8831 1223.976,-179.8149 1214.038,-183.4872 1218.4971,-188.8831\"/>\n</g>\n<!-- 25 -->\n<g id=\"node26\" class=\"node\">\n<title>25</title>\n<polygon fill=\"#dfeffb\" stroke=\"#000000\" points=\"1207.5,-544 1043.5,-544 1043.5,-461 1207.5,-461 1207.5,-544\"/>\n<text text-anchor=\"middle\" x=\"1125.5\" y=\"-528.8\" font-family=\"Helvetica,sans-Serif\" font-size=\"14.00\" fill=\"#000000\">pfunding &lt;= 950000.0</text>\n<text text-anchor=\"middle\" x=\"1125.5\" y=\"-513.8\" font-family=\"Helvetica,sans-Serif\" font-size=\"14.00\" fill=\"#000000\">gini = 0.678</text>\n<text text-anchor=\"middle\" x=\"1125.5\" y=\"-498.8\" font-family=\"Helvetica,sans-Serif\" font-size=\"14.00\" fill=\"#000000\">samples = 201</text>\n<text text-anchor=\"middle\" x=\"1125.5\" y=\"-483.8\" font-family=\"Helvetica,sans-Serif\" font-size=\"14.00\" fill=\"#000000\">value = [65, 23, 87, 26]</text>\n<text text-anchor=\"middle\" x=\"1125.5\" y=\"-468.8\" font-family=\"Helvetica,sans-Serif\" font-size=\"14.00\" fill=\"#000000\">class = soldoff&#45;low</text>\n</g>\n<!-- 24&#45;&gt;25 -->\n<g id=\"edge25\" class=\"edge\">\n<title>24&#45;&gt;25</title>\n<path fill=\"none\" stroke=\"#000000\" d=\"M1125.5,-579.8796C1125.5,-571.6838 1125.5,-562.9891 1125.5,-554.5013\"/>\n<polygon fill=\"#000000\" stroke=\"#000000\" points=\"1129.0001,-554.298 1125.5,-544.2981 1122.0001,-554.2981 1129.0001,-554.298\"/>\n</g>\n<!-- 28 -->\n<g id=\"node29\" class=\"node\">\n<title>28</title>\n<polygon fill=\"#eeae80\" stroke=\"#000000\" points=\"1373,-536.5 1226,-536.5 1226,-468.5 1373,-468.5 1373,-536.5\"/>\n<text text-anchor=\"middle\" x=\"1299.5\" y=\"-521.3\" font-family=\"Helvetica,sans-Serif\" font-size=\"14.00\" fill=\"#000000\">gini = 0.426</text>\n<text text-anchor=\"middle\" x=\"1299.5\" y=\"-506.3\" font-family=\"Helvetica,sans-Serif\" font-size=\"14.00\" fill=\"#000000\">samples = 90</text>\n<text text-anchor=\"middle\" x=\"1299.5\" y=\"-491.3\" font-family=\"Helvetica,sans-Serif\" font-size=\"14.00\" fill=\"#000000\">value = [65, 5, 20, 0]</text>\n<text text-anchor=\"middle\" x=\"1299.5\" y=\"-476.3\" font-family=\"Helvetica,sans-Serif\" font-size=\"14.00\" fill=\"#000000\">class = soldoff&#45;high</text>\n</g>\n<!-- 24&#45;&gt;28 -->\n<g id=\"edge28\" class=\"edge\">\n<title>24&#45;&gt;28</title>\n<path fill=\"none\" stroke=\"#000000\" d=\"M1186.3568,-579.8796C1204.1271,-567.7263 1223.5017,-554.4759 1241.1153,-542.4297\"/>\n<polygon fill=\"#000000\" stroke=\"#000000\" points=\"1243.3274,-545.1572 1249.6058,-536.623 1239.3757,-539.3792 1243.3274,-545.1572\"/>\n</g>\n<!-- 26 -->\n<g id=\"node27\" class=\"node\">\n<title>26</title>\n<polygon fill=\"#f0b489\" stroke=\"#000000\" points=\"1199,-417.5 1052,-417.5 1052,-349.5 1199,-349.5 1199,-417.5\"/>\n<text text-anchor=\"middle\" x=\"1125.5\" y=\"-402.3\" font-family=\"Helvetica,sans-Serif\" font-size=\"14.00\" fill=\"#000000\">gini = 0.502</text>\n<text text-anchor=\"middle\" x=\"1125.5\" y=\"-387.3\" font-family=\"Helvetica,sans-Serif\" font-size=\"14.00\" fill=\"#000000\">samples = 58</text>\n<text text-anchor=\"middle\" x=\"1125.5\" y=\"-372.3\" font-family=\"Helvetica,sans-Serif\" font-size=\"14.00\" fill=\"#000000\">value = [39, 5, 3, 11]</text>\n<text text-anchor=\"middle\" x=\"1125.5\" y=\"-357.3\" font-family=\"Helvetica,sans-Serif\" font-size=\"14.00\" fill=\"#000000\">class = soldoff&#45;high</text>\n</g>\n<!-- 25&#45;&gt;26 -->\n<g id=\"edge26\" class=\"edge\">\n<title>25&#45;&gt;26</title>\n<path fill=\"none\" stroke=\"#000000\" d=\"M1125.5,-460.8796C1125.5,-450.2134 1125.5,-438.7021 1125.5,-427.9015\"/>\n<polygon fill=\"#000000\" stroke=\"#000000\" points=\"1129.0001,-427.8149 1125.5,-417.8149 1122.0001,-427.815 1129.0001,-427.8149\"/>\n</g>\n<!-- 27 -->\n<g id=\"node28\" class=\"node\">\n<title>27</title>\n<polygon fill=\"#9dcef2\" stroke=\"#000000\" points=\"1381.5,-417.5 1217.5,-417.5 1217.5,-349.5 1381.5,-349.5 1381.5,-417.5\"/>\n<text text-anchor=\"middle\" x=\"1299.5\" y=\"-402.3\" font-family=\"Helvetica,sans-Serif\" font-size=\"14.00\" fill=\"#000000\">gini = 0.595</text>\n<text text-anchor=\"middle\" x=\"1299.5\" y=\"-387.3\" font-family=\"Helvetica,sans-Serif\" font-size=\"14.00\" fill=\"#000000\">samples = 143</text>\n<text text-anchor=\"middle\" x=\"1299.5\" y=\"-372.3\" font-family=\"Helvetica,sans-Serif\" font-size=\"14.00\" fill=\"#000000\">value = [26, 18, 84, 15]</text>\n<text text-anchor=\"middle\" x=\"1299.5\" y=\"-357.3\" font-family=\"Helvetica,sans-Serif\" font-size=\"14.00\" fill=\"#000000\">class = soldoff&#45;low</text>\n</g>\n<!-- 25&#45;&gt;27 -->\n<g id=\"edge27\" class=\"edge\">\n<title>25&#45;&gt;27</title>\n<path fill=\"none\" stroke=\"#000000\" d=\"M1186.3568,-460.8796C1204.1271,-448.7263 1223.5017,-435.4759 1241.1153,-423.4297\"/>\n<polygon fill=\"#000000\" stroke=\"#000000\" points=\"1243.3274,-426.1572 1249.6058,-417.623 1239.3757,-420.3792 1243.3274,-426.1572\"/>\n</g>\n</g>\n</svg>\n"
          },
          "metadata": {},
          "execution_count": 59
        }
      ]
    },
    {
      "cell_type": "markdown",
      "source": [
        "## B\n",
        "\n",
        "**Using your tree plot, what would be the predicted outcome for a defense company who has no patents and 4 elites?** \n",
        "\n",
        "**On how many observations would this prediction be based (i.e., how many observations are in the reminal node where the prediction was made)?**"
      ],
      "metadata": {
        "id": "HoENYZ-zTc_X"
      }
    },
    {
      "cell_type": "markdown",
      "source": [
        "The predicted outcome is Sold Off - High, based on 107 observations, 56 of which were Sold off high. "
      ],
      "metadata": {
        "id": "u75gIAKEU3Qr"
      }
    },
    {
      "cell_type": "markdown",
      "source": [
        "# Q3\n",
        "\n",
        "**Apply your model to the test set to evaluate its accuracy. Create a confusion matrix and then respond to the prompts below.**"
      ],
      "metadata": {
        "id": "Oh_8NQ2iVIS9"
      }
    },
    {
      "cell_type": "code",
      "source": [
        "predictions = model.predict(x_test)"
      ],
      "metadata": {
        "id": "ltouNpdNVXN6"
      },
      "execution_count": 60,
      "outputs": []
    },
    {
      "cell_type": "code",
      "source": [
        "df_pred = x_test\n",
        "\n",
        "df_pred['predicted_class'] = predictions\n",
        "df_pred['actual_class'] = y_test\n",
        "\n",
        "df_pred"
      ],
      "metadata": {
        "id": "elZTSWEWViPe",
        "colab": {
          "base_uri": "https://localhost:8080/",
          "height": 423
        },
        "outputId": "38db5766-afcd-4de5-dc32-1c2217e38910"
      },
      "execution_count": 61,
      "outputs": [
        {
          "output_type": "execute_result",
          "data": {
            "text/plain": [
              "      months  pfunding  patents  smember  elites  industry_defense  \\\n",
              "662       17   6000000        1        0       5                 1   \n",
              "492       28   7000000        1        0       4                 0   \n",
              "137       28   5700000        1        0       2                 0   \n",
              "637       15   8500000        1        0       0                 0   \n",
              "639       36   3300000        1        0       0                 1   \n",
              "...      ...       ...      ...      ...     ...               ...   \n",
              "511       41    500000        0        0       3                 1   \n",
              "588       27   9300000        1        0       3                 0   \n",
              "189       27   3300000        1        0       5                 0   \n",
              "1042      42   2700000        1        0       7                 1   \n",
              "288       33   2300000        1        0       6                 0   \n",
              "\n",
              "      industry_healthcare  industry_media  industry_tech predicted_class  \\\n",
              "662                     0               0              0             ipo   \n",
              "492                     1               0              0             ipo   \n",
              "137                     0               0              1        bankrupt   \n",
              "637                     1               0              0    soldoff-high   \n",
              "639                     0               0              0    soldoff-high   \n",
              "...                   ...             ...            ...             ...   \n",
              "511                     0               0              0        bankrupt   \n",
              "588                     1               0              0    soldoff-high   \n",
              "189                     1               0              0    soldoff-high   \n",
              "1042                    0               0              0    soldoff-high   \n",
              "288                     1               0              0    soldoff-high   \n",
              "\n",
              "      actual_class  \n",
              "662            ipo  \n",
              "492            ipo  \n",
              "137   soldoff-high  \n",
              "637       bankrupt  \n",
              "639   soldoff-high  \n",
              "...            ...  \n",
              "511       bankrupt  \n",
              "588            ipo  \n",
              "189       bankrupt  \n",
              "1042           ipo  \n",
              "288   soldoff-high  \n",
              "\n",
              "[232 rows x 11 columns]"
            ],
            "text/html": [
              "\n",
              "  <div id=\"df-28b566e9-f444-4f0c-9405-d82e43a815f2\">\n",
              "    <div class=\"colab-df-container\">\n",
              "      <div>\n",
              "<style scoped>\n",
              "    .dataframe tbody tr th:only-of-type {\n",
              "        vertical-align: middle;\n",
              "    }\n",
              "\n",
              "    .dataframe tbody tr th {\n",
              "        vertical-align: top;\n",
              "    }\n",
              "\n",
              "    .dataframe thead th {\n",
              "        text-align: right;\n",
              "    }\n",
              "</style>\n",
              "<table border=\"1\" class=\"dataframe\">\n",
              "  <thead>\n",
              "    <tr style=\"text-align: right;\">\n",
              "      <th></th>\n",
              "      <th>months</th>\n",
              "      <th>pfunding</th>\n",
              "      <th>patents</th>\n",
              "      <th>smember</th>\n",
              "      <th>elites</th>\n",
              "      <th>industry_defense</th>\n",
              "      <th>industry_healthcare</th>\n",
              "      <th>industry_media</th>\n",
              "      <th>industry_tech</th>\n",
              "      <th>predicted_class</th>\n",
              "      <th>actual_class</th>\n",
              "    </tr>\n",
              "  </thead>\n",
              "  <tbody>\n",
              "    <tr>\n",
              "      <th>662</th>\n",
              "      <td>17</td>\n",
              "      <td>6000000</td>\n",
              "      <td>1</td>\n",
              "      <td>0</td>\n",
              "      <td>5</td>\n",
              "      <td>1</td>\n",
              "      <td>0</td>\n",
              "      <td>0</td>\n",
              "      <td>0</td>\n",
              "      <td>ipo</td>\n",
              "      <td>ipo</td>\n",
              "    </tr>\n",
              "    <tr>\n",
              "      <th>492</th>\n",
              "      <td>28</td>\n",
              "      <td>7000000</td>\n",
              "      <td>1</td>\n",
              "      <td>0</td>\n",
              "      <td>4</td>\n",
              "      <td>0</td>\n",
              "      <td>1</td>\n",
              "      <td>0</td>\n",
              "      <td>0</td>\n",
              "      <td>ipo</td>\n",
              "      <td>ipo</td>\n",
              "    </tr>\n",
              "    <tr>\n",
              "      <th>137</th>\n",
              "      <td>28</td>\n",
              "      <td>5700000</td>\n",
              "      <td>1</td>\n",
              "      <td>0</td>\n",
              "      <td>2</td>\n",
              "      <td>0</td>\n",
              "      <td>0</td>\n",
              "      <td>0</td>\n",
              "      <td>1</td>\n",
              "      <td>bankrupt</td>\n",
              "      <td>soldoff-high</td>\n",
              "    </tr>\n",
              "    <tr>\n",
              "      <th>637</th>\n",
              "      <td>15</td>\n",
              "      <td>8500000</td>\n",
              "      <td>1</td>\n",
              "      <td>0</td>\n",
              "      <td>0</td>\n",
              "      <td>0</td>\n",
              "      <td>1</td>\n",
              "      <td>0</td>\n",
              "      <td>0</td>\n",
              "      <td>soldoff-high</td>\n",
              "      <td>bankrupt</td>\n",
              "    </tr>\n",
              "    <tr>\n",
              "      <th>639</th>\n",
              "      <td>36</td>\n",
              "      <td>3300000</td>\n",
              "      <td>1</td>\n",
              "      <td>0</td>\n",
              "      <td>0</td>\n",
              "      <td>1</td>\n",
              "      <td>0</td>\n",
              "      <td>0</td>\n",
              "      <td>0</td>\n",
              "      <td>soldoff-high</td>\n",
              "      <td>soldoff-high</td>\n",
              "    </tr>\n",
              "    <tr>\n",
              "      <th>...</th>\n",
              "      <td>...</td>\n",
              "      <td>...</td>\n",
              "      <td>...</td>\n",
              "      <td>...</td>\n",
              "      <td>...</td>\n",
              "      <td>...</td>\n",
              "      <td>...</td>\n",
              "      <td>...</td>\n",
              "      <td>...</td>\n",
              "      <td>...</td>\n",
              "      <td>...</td>\n",
              "    </tr>\n",
              "    <tr>\n",
              "      <th>511</th>\n",
              "      <td>41</td>\n",
              "      <td>500000</td>\n",
              "      <td>0</td>\n",
              "      <td>0</td>\n",
              "      <td>3</td>\n",
              "      <td>1</td>\n",
              "      <td>0</td>\n",
              "      <td>0</td>\n",
              "      <td>0</td>\n",
              "      <td>bankrupt</td>\n",
              "      <td>bankrupt</td>\n",
              "    </tr>\n",
              "    <tr>\n",
              "      <th>588</th>\n",
              "      <td>27</td>\n",
              "      <td>9300000</td>\n",
              "      <td>1</td>\n",
              "      <td>0</td>\n",
              "      <td>3</td>\n",
              "      <td>0</td>\n",
              "      <td>1</td>\n",
              "      <td>0</td>\n",
              "      <td>0</td>\n",
              "      <td>soldoff-high</td>\n",
              "      <td>ipo</td>\n",
              "    </tr>\n",
              "    <tr>\n",
              "      <th>189</th>\n",
              "      <td>27</td>\n",
              "      <td>3300000</td>\n",
              "      <td>1</td>\n",
              "      <td>0</td>\n",
              "      <td>5</td>\n",
              "      <td>0</td>\n",
              "      <td>1</td>\n",
              "      <td>0</td>\n",
              "      <td>0</td>\n",
              "      <td>soldoff-high</td>\n",
              "      <td>bankrupt</td>\n",
              "    </tr>\n",
              "    <tr>\n",
              "      <th>1042</th>\n",
              "      <td>42</td>\n",
              "      <td>2700000</td>\n",
              "      <td>1</td>\n",
              "      <td>0</td>\n",
              "      <td>7</td>\n",
              "      <td>1</td>\n",
              "      <td>0</td>\n",
              "      <td>0</td>\n",
              "      <td>0</td>\n",
              "      <td>soldoff-high</td>\n",
              "      <td>ipo</td>\n",
              "    </tr>\n",
              "    <tr>\n",
              "      <th>288</th>\n",
              "      <td>33</td>\n",
              "      <td>2300000</td>\n",
              "      <td>1</td>\n",
              "      <td>0</td>\n",
              "      <td>6</td>\n",
              "      <td>0</td>\n",
              "      <td>1</td>\n",
              "      <td>0</td>\n",
              "      <td>0</td>\n",
              "      <td>soldoff-high</td>\n",
              "      <td>soldoff-high</td>\n",
              "    </tr>\n",
              "  </tbody>\n",
              "</table>\n",
              "<p>232 rows × 11 columns</p>\n",
              "</div>\n",
              "      <button class=\"colab-df-convert\" onclick=\"convertToInteractive('df-28b566e9-f444-4f0c-9405-d82e43a815f2')\"\n",
              "              title=\"Convert this dataframe to an interactive table.\"\n",
              "              style=\"display:none;\">\n",
              "        \n",
              "  <svg xmlns=\"http://www.w3.org/2000/svg\" height=\"24px\"viewBox=\"0 0 24 24\"\n",
              "       width=\"24px\">\n",
              "    <path d=\"M0 0h24v24H0V0z\" fill=\"none\"/>\n",
              "    <path d=\"M18.56 5.44l.94 2.06.94-2.06 2.06-.94-2.06-.94-.94-2.06-.94 2.06-2.06.94zm-11 1L8.5 8.5l.94-2.06 2.06-.94-2.06-.94L8.5 2.5l-.94 2.06-2.06.94zm10 10l.94 2.06.94-2.06 2.06-.94-2.06-.94-.94-2.06-.94 2.06-2.06.94z\"/><path d=\"M17.41 7.96l-1.37-1.37c-.4-.4-.92-.59-1.43-.59-.52 0-1.04.2-1.43.59L10.3 9.45l-7.72 7.72c-.78.78-.78 2.05 0 2.83L4 21.41c.39.39.9.59 1.41.59.51 0 1.02-.2 1.41-.59l7.78-7.78 2.81-2.81c.8-.78.8-2.07 0-2.86zM5.41 20L4 18.59l7.72-7.72 1.47 1.35L5.41 20z\"/>\n",
              "  </svg>\n",
              "      </button>\n",
              "      \n",
              "  <style>\n",
              "    .colab-df-container {\n",
              "      display:flex;\n",
              "      flex-wrap:wrap;\n",
              "      gap: 12px;\n",
              "    }\n",
              "\n",
              "    .colab-df-convert {\n",
              "      background-color: #E8F0FE;\n",
              "      border: none;\n",
              "      border-radius: 50%;\n",
              "      cursor: pointer;\n",
              "      display: none;\n",
              "      fill: #1967D2;\n",
              "      height: 32px;\n",
              "      padding: 0 0 0 0;\n",
              "      width: 32px;\n",
              "    }\n",
              "\n",
              "    .colab-df-convert:hover {\n",
              "      background-color: #E2EBFA;\n",
              "      box-shadow: 0px 1px 2px rgba(60, 64, 67, 0.3), 0px 1px 3px 1px rgba(60, 64, 67, 0.15);\n",
              "      fill: #174EA6;\n",
              "    }\n",
              "\n",
              "    [theme=dark] .colab-df-convert {\n",
              "      background-color: #3B4455;\n",
              "      fill: #D2E3FC;\n",
              "    }\n",
              "\n",
              "    [theme=dark] .colab-df-convert:hover {\n",
              "      background-color: #434B5C;\n",
              "      box-shadow: 0px 1px 3px 1px rgba(0, 0, 0, 0.15);\n",
              "      filter: drop-shadow(0px 1px 2px rgba(0, 0, 0, 0.3));\n",
              "      fill: #FFFFFF;\n",
              "    }\n",
              "  </style>\n",
              "\n",
              "      <script>\n",
              "        const buttonEl =\n",
              "          document.querySelector('#df-28b566e9-f444-4f0c-9405-d82e43a815f2 button.colab-df-convert');\n",
              "        buttonEl.style.display =\n",
              "          google.colab.kernel.accessAllowed ? 'block' : 'none';\n",
              "\n",
              "        async function convertToInteractive(key) {\n",
              "          const element = document.querySelector('#df-28b566e9-f444-4f0c-9405-d82e43a815f2');\n",
              "          const dataTable =\n",
              "            await google.colab.kernel.invokeFunction('convertToInteractive',\n",
              "                                                     [key], {});\n",
              "          if (!dataTable) return;\n",
              "\n",
              "          const docLinkHtml = 'Like what you see? Visit the ' +\n",
              "            '<a target=\"_blank\" href=https://colab.research.google.com/notebooks/data_table.ipynb>data table notebook</a>'\n",
              "            + ' to learn more about interactive tables.';\n",
              "          element.innerHTML = '';\n",
              "          dataTable['output_type'] = 'display_data';\n",
              "          await google.colab.output.renderOutput(dataTable, element);\n",
              "          const docLink = document.createElement('div');\n",
              "          docLink.innerHTML = docLinkHtml;\n",
              "          element.appendChild(docLink);\n",
              "        }\n",
              "      </script>\n",
              "    </div>\n",
              "  </div>\n",
              "  "
            ]
          },
          "metadata": {},
          "execution_count": 61
        }
      ]
    },
    {
      "cell_type": "code",
      "source": [
        "conf = pd.DataFrame(df_pred, columns=['actual_class','predicted_class'])\n",
        "confusion_matrix = pd.crosstab(conf['actual_class'], conf['predicted_class'], rownames=['Actual'], colnames=['Predicted'])\n",
        "\n",
        "sns.heatmap(confusion_matrix, annot=True) \n",
        "sns.set(rc={'figure.figsize':(12,10)}) \n",
        "plt.show()\n"
      ],
      "metadata": {
        "id": "a4-hAg1XVmFl",
        "colab": {
          "base_uri": "https://localhost:8080/",
          "height": 611
        },
        "outputId": "7c49aaf5-97a0-4df5-c3a3-7dcb69baad3e"
      },
      "execution_count": 62,
      "outputs": [
        {
          "output_type": "display_data",
          "data": {
            "text/plain": [
              "<Figure size 864x720 with 2 Axes>"
            ],
            "image/png": "[encoded data removed]"
          },
          "metadata": {}
        }
      ]
    },
    {
      "cell_type": "markdown",
      "source": [
        "## A\n",
        "\n",
        "**For each of the four outcomes, provide the number of times the model predicted it, the number of times it predicted accurately, and the % accuracy (ratio of the # of predictions / # of accurate predictions).**"
      ],
      "metadata": {
        "id": "3AKVcm4-XaNy"
      }
    },
    {
      "cell_type": "markdown",
      "source": [
        "* Prediction: **Bankrupt**\n",
        "  * Times Predicted: 87\n",
        "  * Predicted Accurately: 46 \n",
        "  * % Accuracy: 52.9%\n",
        "\n",
        "* Prediction: **Soldoff-Low**\n",
        "  * Times Predicted: 17\n",
        "  * Predicted Accurately: 5\n",
        "  * % Accuracy: 29.4%\n",
        "\n",
        "* Prediction: **Soldoff-High**\n",
        "  * Times Predicted: 109\n",
        "  * Predicted Accurately: 57\n",
        "  * % Accuracy: 52.3%\n",
        "\n",
        "* Prediction: **IPO**\n",
        "  * Times Predicted: 19\n",
        "  * Predicted Accurately: 17\n",
        "  * % Accuracy: 89.5%\n"
      ],
      "metadata": {
        "id": "ltEStm3KYDWD"
      }
    },
    {
      "cell_type": "markdown",
      "source": [
        "## B\n",
        "\n",
        "**Considering *all* predictions, in what percentage of observations did the model make an accurate prediction? Show your formula.**\n"
      ],
      "metadata": {
        "id": "VRlGLP2caEwU"
      }
    },
    {
      "cell_type": "code",
      "source": [
        "accuracy = (5+57+17+46)/len(df)\n",
        "print(\"overall accuracy = \", accuracy)"
      ],
      "metadata": {
        "id": "iIQ62qSCaSKB",
        "colab": {
          "base_uri": "https://localhost:8080/"
        },
        "outputId": "4c737539-4ac1-4fc1-ef9d-60f93c6f7830"
      },
      "execution_count": 63,
      "outputs": [
        {
          "output_type": "stream",
          "name": "stdout",
          "text": [
            "overall accuracy =  0.10785159620362382\n"
          ]
        }
      ]
    },
    {
      "cell_type": "markdown",
      "source": [
        "## C\n",
        "\n",
        "**Given this accuracy percentage, does it make more sense to use the *a priori* prediction approach or the decision tree model that was generated? Explain your answer.** \n"
      ],
      "metadata": {
        "id": "2SlFVHkdbXp4"
      }
    },
    {
      "cell_type": "markdown",
      "source": [
        "The accuracy percentage based on all observations is 10.8%, while the a priori prediction was 33%, so it makes more sense to use the a priori prediction. We want the model to usually be at least 10% better than a priori, and the overall accuracy percentage calculated is less than the a priori prediction. "
      ],
      "metadata": {
        "id": "zEf85aaKbeQt"
      }
    },
    {
      "cell_type": "markdown",
      "source": [
        "## Q4\n",
        "\n",
        "**Next, compare this model's performance against three other possible decision tree models, each of which use different parameters. In a text cell placed before each new model, outline the `criterion` used (e.g., 'gini', 'entropy', or 'log-loss') , the `max_depth`, the `min_samples_leaf`, and the `min_impurity_decrease`.**\n",
        "\n",
        "**Remember that the first model used the following paramters:**\n",
        "\n",
        "* `criterion` = gini\n",
        "* `max_depth` = 5\n",
        "* `min_samples_leaf` = 8\n",
        "* `min_impurity_decrease` = 0.004\n",
        "\n",
        "**So change *at least* one of these parameters for each of your new models.**\n",
        "\n",
        "**For each model generate a `classification_report` to show its overall accuracy on the test_set.**\n"
      ],
      "metadata": {
        "id": "KoMgeVFtb8gR"
      }
    },
    {
      "cell_type": "markdown",
      "source": [
        "### **Model 1:**\n",
        "\n",
        "* `criterion` = gini\n",
        "* `max_depth` = 5\n",
        "* `min_samples_leaf` = 8\n",
        "* `min_impurity_decrease` = 0.004"
      ],
      "metadata": {
        "id": "1JQ-4bsAdVVt"
      }
    },
    {
      "cell_type": "code",
      "source": [
        "print(classification_report(y_test, predictions))"
      ],
      "metadata": {
        "colab": {
          "base_uri": "https://localhost:8080/"
        },
        "id": "_Bl_11r1dcXE",
        "outputId": "80ccfd9e-59c2-45f7-daa6-5eaeba4aa5ce"
      },
      "execution_count": 64,
      "outputs": [
        {
          "output_type": "stream",
          "name": "stdout",
          "text": [
            "              precision    recall  f1-score   support\n",
            "\n",
            "    bankrupt       0.53      0.66      0.59        70\n",
            "         ipo       0.89      0.42      0.58        40\n",
            "soldoff-high       0.52      0.71      0.60        80\n",
            " soldoff-low       0.29      0.12      0.17        42\n",
            "\n",
            "    accuracy                           0.54       232\n",
            "   macro avg       0.56      0.48      0.48       232\n",
            "weighted avg       0.55      0.54      0.51       232\n",
            "\n"
          ]
        }
      ]
    },
    {
      "cell_type": "markdown",
      "source": [
        "### **Model 2:** \n",
        "\n",
        "* `criterion` = entropy\n",
        "* `max_depth` = 5\n",
        "* `min_samples_leaf` = 10\n",
        "* `min_impurity_decrease` = 0.004"
      ],
      "metadata": {
        "id": "tftOkzA6djuW"
      }
    },
    {
      "cell_type": "code",
      "source": [
        "model_2 = DecisionTreeClassifier(criterion = 'entropy', random_state=100, max_depth=5, min_samples_leaf=10, min_impurity_decrease=0.004)\n",
        "model_2.fit(x_train, y_train)"
      ],
      "metadata": {
        "id": "X0T4GJdRdq3N",
        "colab": {
          "base_uri": "https://localhost:8080/"
        },
        "outputId": "157adcf3-ca59-4729-90bb-1b90c1056519"
      },
      "execution_count": 84,
      "outputs": [
        {
          "output_type": "execute_result",
          "data": {
            "text/plain": [
              "DecisionTreeClassifier(criterion='entropy', max_depth=5,\n",
              "                       min_impurity_decrease=0.004, min_samples_leaf=10,\n",
              "                       random_state=100)"
            ]
          },
          "metadata": {},
          "execution_count": 84
        }
      ]
    },
    {
      "cell_type": "code",
      "source": [
        "predictions = model_2.predict(x_test)"
      ],
      "metadata": {
        "id": "TObL_o6LdrVw"
      },
      "execution_count": 85,
      "outputs": []
    },
    {
      "cell_type": "code",
      "source": [
        "print(classification_report(y_test, predictions))"
      ],
      "metadata": {
        "id": "VfkaGIP9dsQi",
        "colab": {
          "base_uri": "https://localhost:8080/"
        },
        "outputId": "fbcc788d-15fd-4173-f229-7df1d29bd290"
      },
      "execution_count": 86,
      "outputs": [
        {
          "output_type": "stream",
          "name": "stdout",
          "text": [
            "              precision    recall  f1-score   support\n",
            "\n",
            "    bankrupt       0.55      0.70      0.62        70\n",
            "         ipo       0.89      0.42      0.58        40\n",
            "soldoff-high       0.58      0.61      0.59        80\n",
            " soldoff-low       0.49      0.45      0.47        42\n",
            "\n",
            "    accuracy                           0.58       232\n",
            "   macro avg       0.63      0.55      0.56       232\n",
            "weighted avg       0.61      0.58      0.58       232\n",
            "\n"
          ]
        }
      ]
    },
    {
      "cell_type": "markdown",
      "source": [
        "### **Model 3:**\n",
        "\n",
        "* `criterion` = gini\n",
        "* `max_depth` = 8\n",
        "* `min_samples_leaf` = 8\n",
        "* `min_impurity_decrease` = 0.004"
      ],
      "metadata": {
        "id": "2yM0Fa89dsr9"
      }
    },
    {
      "cell_type": "code",
      "source": [
        "model_3 = DecisionTreeClassifier(criterion = 'gini', random_state=100, max_depth=8, min_samples_leaf=8, min_impurity_decrease=0.004)\n",
        "model_3.fit(x_train, y_train)"
      ],
      "metadata": {
        "id": "tgu87Wx_d0lZ",
        "colab": {
          "base_uri": "https://localhost:8080/"
        },
        "outputId": "bd292375-eefb-46e5-8aff-ab976b87aa73"
      },
      "execution_count": 68,
      "outputs": [
        {
          "output_type": "execute_result",
          "data": {
            "text/plain": [
              "DecisionTreeClassifier(max_depth=8, min_impurity_decrease=0.004,\n",
              "                       min_samples_leaf=8, random_state=100)"
            ]
          },
          "metadata": {},
          "execution_count": 68
        }
      ]
    },
    {
      "cell_type": "code",
      "source": [
        "predictions = model_3.predict(x_test)\n"
      ],
      "metadata": {
        "id": "Xn9cFhhFd1FG"
      },
      "execution_count": 69,
      "outputs": []
    },
    {
      "cell_type": "code",
      "source": [
        "print(classification_report(y_test, predictions))"
      ],
      "metadata": {
        "id": "BAgRXt-Jd08F",
        "colab": {
          "base_uri": "https://localhost:8080/"
        },
        "outputId": "30384bfc-1bdd-412f-fa2e-2bf0c8edb0eb"
      },
      "execution_count": 70,
      "outputs": [
        {
          "output_type": "stream",
          "name": "stdout",
          "text": [
            "              precision    recall  f1-score   support\n",
            "\n",
            "    bankrupt       0.53      0.66      0.59        70\n",
            "         ipo       0.89      0.42      0.58        40\n",
            "soldoff-high       0.52      0.71      0.60        80\n",
            " soldoff-low       0.29      0.12      0.17        42\n",
            "\n",
            "    accuracy                           0.54       232\n",
            "   macro avg       0.56      0.48      0.48       232\n",
            "weighted avg       0.55      0.54      0.51       232\n",
            "\n"
          ]
        }
      ]
    },
    {
      "cell_type": "markdown",
      "source": [
        "### **Model 4:**\n",
        "\n",
        "* `criterion` = entropy\n",
        "* `max_depth` = 5\n",
        "* `min_samples_leaf` = 12\n",
        "* `min_impurity_decrease` = 0.002"
      ],
      "metadata": {
        "id": "UMFVCnYad1e0"
      }
    },
    {
      "cell_type": "code",
      "source": [
        "model_4 = DecisionTreeClassifier(criterion = 'entropy', random_state=100, max_depth=5, min_samples_leaf=12, min_impurity_decrease=0.002)\n",
        "model_4.fit(x_train, y_train)"
      ],
      "metadata": {
        "id": "qIubs97ed3bh",
        "colab": {
          "base_uri": "https://localhost:8080/"
        },
        "outputId": "66e43a17-f05c-4b78-e1e5-8ab801ef71e6"
      },
      "execution_count": 71,
      "outputs": [
        {
          "output_type": "execute_result",
          "data": {
            "text/plain": [
              "DecisionTreeClassifier(criterion='entropy', max_depth=5,\n",
              "                       min_impurity_decrease=0.002, min_samples_leaf=12,\n",
              "                       random_state=100)"
            ]
          },
          "metadata": {},
          "execution_count": 71
        }
      ]
    },
    {
      "cell_type": "code",
      "source": [
        "predictions = model_4.predict(x_test)"
      ],
      "metadata": {
        "id": "W-CKoPIhd3UW"
      },
      "execution_count": 72,
      "outputs": []
    },
    {
      "cell_type": "code",
      "source": [
        "print(classification_report(y_test, predictions))"
      ],
      "metadata": {
        "id": "OtMF2OfFd3Lm",
        "colab": {
          "base_uri": "https://localhost:8080/"
        },
        "outputId": "bdd2ff3a-3f9c-48c6-f539-37e4648f6dd5"
      },
      "execution_count": 73,
      "outputs": [
        {
          "output_type": "stream",
          "name": "stdout",
          "text": [
            "              precision    recall  f1-score   support\n",
            "\n",
            "    bankrupt       0.53      0.70      0.60        70\n",
            "         ipo       0.89      0.42      0.58        40\n",
            "soldoff-high       0.59      0.60      0.59        80\n",
            " soldoff-low       0.49      0.45      0.47        42\n",
            "\n",
            "    accuracy                           0.57       232\n",
            "   macro avg       0.62      0.54      0.56       232\n",
            "weighted avg       0.61      0.57      0.57       232\n",
            "\n"
          ]
        }
      ]
    },
    {
      "cell_type": "markdown",
      "source": [
        "## A\n",
        "\n",
        "**What parameters led to the best-performing (highest overall accuracy) model? What was the highest accuracy achieved?**"
      ],
      "metadata": {
        "id": "Xp9N_pe3eX0o"
      }
    },
    {
      "cell_type": "markdown",
      "source": [
        "* `criterion` = entropy\n",
        "* `max_depth` = 5\n",
        "* `min_samples_leaf` = 10\n",
        "* `min_impurity_decrease` = 0.004\n",
        "\n",
        "These parameters led to the highest accuracy model I came up with, with accuracy of 58%. "
      ],
      "metadata": {
        "id": "eayDeM8pegVK"
      }
    },
    {
      "cell_type": "markdown",
      "source": [
        "## B\n",
        "\n",
        "**Plot your best performing decision tree using the `export_graphviz` function from the `tree` library.**"
      ],
      "metadata": {
        "id": "dE5B_sRheuXD"
      }
    },
    {
      "cell_type": "code",
      "source": [
        "labels = y.value_counts()\n",
        "dot_data_2 = tree.export_graphviz(model_2, out_file=None, \n",
        "                                feature_names=x.columns,  \n",
        "                                class_names=labels.index.values,\n",
        "                                filled=True) #plot model\n",
        "\n",
        "# Draw graph\n",
        "graph = graphviz.Source(dot_data_2, format=\"png\") \n",
        "graph"
      ],
      "metadata": {
        "id": "JTyoOrSOgDPm",
        "colab": {
          "base_uri": "https://localhost:8080/",
          "height": 937
        },
        "outputId": "34cd5437-66be-4da0-8104-f8c7ca37190a"
      },
      "execution_count": 74,
      "outputs": [
        {
          "output_type": "execute_result",
          "data": {
            "text/plain": [
              "<graphviz.files.Source at 0x7f8dd9f056d0>"
            ],
            "image/svg+xml": "<?xml version=\"1.0\" encoding=\"UTF-8\" standalone=\"no\"?>\n<!DOCTYPE svg PUBLIC \"-//W3C//DTD SVG 1.1//EN\"\n \"http://www.w3.org/Graphics/SVG/1.1/DTD/svg11.dtd\">\n<!-- Generated by graphviz version 2.40.1 (20161225.0304)\n -->\n<!-- Title: Tree Pages: 1 -->\n<svg width=\"3269pt\" height=\"671pt\"\n viewBox=\"0.00 0.00 3269.00 671.00\" xmlns=\"http://www.w3.org/2000/svg\" xmlns:xlink=\"http://www.w3.org/1999/xlink\">\n<g id=\"graph0\" class=\"graph\" transform=\"scale(1 1) rotate(0) translate(4 667)\">\n<title>Tree</title>\n<polygon fill=\"#ffffff\" stroke=\"transparent\" points=\"-4,4 -4,-667 3265,-667 3265,4 -4,4\"/>\n<!-- 0 -->\n<g id=\"node1\" class=\"node\">\n<title>0</title>\n<polygon fill=\"#f4fafe\" stroke=\"#000000\" points=\"2369,-663 2172,-663 2172,-580 2369,-580 2369,-663\"/>\n<text text-anchor=\"middle\" x=\"2270.5\" y=\"-647.8\" font-family=\"Helvetica,sans-Serif\" font-size=\"14.00\" fill=\"#000000\">industry_tech &lt;= 0.5</text>\n<text text-anchor=\"middle\" x=\"2270.5\" y=\"-632.8\" font-family=\"Helvetica,sans-Serif\" font-size=\"14.00\" fill=\"#000000\">entropy = 1.942</text>\n<text text-anchor=\"middle\" x=\"2270.5\" y=\"-617.8\" font-family=\"Helvetica,sans-Serif\" font-size=\"14.00\" fill=\"#000000\">samples = 927</text>\n<text text-anchor=\"middle\" x=\"2270.5\" y=\"-602.8\" font-family=\"Helvetica,sans-Serif\" font-size=\"14.00\" fill=\"#000000\">value = [267, 134, 304, 222]</text>\n<text text-anchor=\"middle\" x=\"2270.5\" y=\"-587.8\" font-family=\"Helvetica,sans-Serif\" font-size=\"14.00\" fill=\"#000000\">class = soldoff&#45;low</text>\n</g>\n<!-- 1 -->\n<g id=\"node2\" class=\"node\">\n<title>1</title>\n<polygon fill=\"#ffffff\" stroke=\"#000000\" points=\"2010,-544 1813,-544 1813,-461 2010,-461 2010,-544\"/>\n<text text-anchor=\"middle\" x=\"1911.5\" y=\"-528.8\" font-family=\"Helvetica,sans-Serif\" font-size=\"14.00\" fill=\"#000000\">patents &lt;= 0.5</text>\n<text text-anchor=\"middle\" x=\"1911.5\" y=\"-513.8\" font-family=\"Helvetica,sans-Serif\" font-size=\"14.00\" fill=\"#000000\">entropy = 1.955</text>\n<text text-anchor=\"middle\" x=\"1911.5\" y=\"-498.8\" font-family=\"Helvetica,sans-Serif\" font-size=\"14.00\" fill=\"#000000\">samples = 636</text>\n<text text-anchor=\"middle\" x=\"1911.5\" y=\"-483.8\" font-family=\"Helvetica,sans-Serif\" font-size=\"14.00\" fill=\"#000000\">value = [137, 106, 197, 196]</text>\n<text text-anchor=\"middle\" x=\"1911.5\" y=\"-468.8\" font-family=\"Helvetica,sans-Serif\" font-size=\"14.00\" fill=\"#000000\">class = soldoff&#45;low</text>\n</g>\n<!-- 0&#45;&gt;1 -->\n<g id=\"edge1\" class=\"edge\">\n<title>0&#45;&gt;1</title>\n<path fill=\"none\" stroke=\"#000000\" d=\"M2171.9268,-588.8253C2124.736,-573.1827 2068.1069,-554.4115 2019.7256,-538.3742\"/>\n<polygon fill=\"#000000\" stroke=\"#000000\" points=\"2020.758,-535.0292 2010.1646,-535.205 2018.5554,-541.6737 2020.758,-535.0292\"/>\n<text text-anchor=\"middle\" x=\"2021.3823\" y=\"-553.8469\" font-family=\"Helvetica,sans-Serif\" font-size=\"14.00\" fill=\"#000000\">True</text>\n</g>\n<!-- 32 -->\n<g id=\"node33\" class=\"node\">\n<title>32</title>\n<polygon fill=\"#fcefe6\" stroke=\"#000000\" points=\"2679.5,-544 2499.5,-544 2499.5,-461 2679.5,-461 2679.5,-544\"/>\n<text text-anchor=\"middle\" x=\"2589.5\" y=\"-528.8\" font-family=\"Helvetica,sans-Serif\" font-size=\"14.00\" fill=\"#000000\">pfunding &lt;= 4950000.0</text>\n<text text-anchor=\"middle\" x=\"2589.5\" y=\"-513.8\" font-family=\"Helvetica,sans-Serif\" font-size=\"14.00\" fill=\"#000000\">entropy = 1.686</text>\n<text text-anchor=\"middle\" x=\"2589.5\" y=\"-498.8\" font-family=\"Helvetica,sans-Serif\" font-size=\"14.00\" fill=\"#000000\">samples = 291</text>\n<text text-anchor=\"middle\" x=\"2589.5\" y=\"-483.8\" font-family=\"Helvetica,sans-Serif\" font-size=\"14.00\" fill=\"#000000\">value = [130, 28, 107, 26]</text>\n<text text-anchor=\"middle\" x=\"2589.5\" y=\"-468.8\" font-family=\"Helvetica,sans-Serif\" font-size=\"14.00\" fill=\"#000000\">class = soldoff&#45;high</text>\n</g>\n<!-- 0&#45;&gt;32 -->\n<g id=\"edge32\" class=\"edge\">\n<title>0&#45;&gt;32</title>\n<path fill=\"none\" stroke=\"#000000\" d=\"M2369.249,-584.6626C2407.5409,-570.3782 2451.3251,-554.0449 2489.7151,-539.7238\"/>\n<polygon fill=\"#000000\" stroke=\"#000000\" points=\"2491.2064,-542.9032 2499.3524,-536.1287 2488.7597,-536.3447 2491.2064,-542.9032\"/>\n<text text-anchor=\"middle\" x=\"2488.9682\" y=\"-555.1701\" font-family=\"Helvetica,sans-Serif\" font-size=\"14.00\" fill=\"#000000\">False</text>\n</g>\n<!-- 2 -->\n<g id=\"node3\" class=\"node\">\n<title>2</title>\n<polygon fill=\"#fcf1e9\" stroke=\"#000000\" points=\"1050.5,-425 862.5,-425 862.5,-342 1050.5,-342 1050.5,-425\"/>\n<text text-anchor=\"middle\" x=\"956.5\" y=\"-409.8\" font-family=\"Helvetica,sans-Serif\" font-size=\"14.00\" fill=\"#000000\">industry_healthcare &lt;= 0.5</text>\n<text text-anchor=\"middle\" x=\"956.5\" y=\"-394.8\" font-family=\"Helvetica,sans-Serif\" font-size=\"14.00\" fill=\"#000000\">entropy = 1.953</text>\n<text text-anchor=\"middle\" x=\"956.5\" y=\"-379.8\" font-family=\"Helvetica,sans-Serif\" font-size=\"14.00\" fill=\"#000000\">samples = 303</text>\n<text text-anchor=\"middle\" x=\"956.5\" y=\"-364.8\" font-family=\"Helvetica,sans-Serif\" font-size=\"14.00\" fill=\"#000000\">value = [102, 48, 77, 76]</text>\n<text text-anchor=\"middle\" x=\"956.5\" y=\"-349.8\" font-family=\"Helvetica,sans-Serif\" font-size=\"14.00\" fill=\"#000000\">class = soldoff&#45;high</text>\n</g>\n<!-- 1&#45;&gt;2 -->\n<g id=\"edge2\" class=\"edge\">\n<title>1&#45;&gt;2</title>\n<path fill=\"none\" stroke=\"#000000\" d=\"M1812.8952,-490.2131C1631.4459,-467.6032 1246.2737,-419.6079 1060.7145,-396.4859\"/>\n<polygon fill=\"#000000\" stroke=\"#000000\" points=\"1061.0336,-392.9987 1050.6775,-395.2352 1060.168,-399.945 1061.0336,-392.9987\"/>\n</g>\n<!-- 17 -->\n<g id=\"node18\" class=\"node\">\n<title>17</title>\n<polygon fill=\"#ffffff\" stroke=\"#000000\" points=\"2001.5,-425 1821.5,-425 1821.5,-342 2001.5,-342 2001.5,-425\"/>\n<text text-anchor=\"middle\" x=\"1911.5\" y=\"-409.8\" font-family=\"Helvetica,sans-Serif\" font-size=\"14.00\" fill=\"#000000\">elites &lt;= 3.5</text>\n<text text-anchor=\"middle\" x=\"1911.5\" y=\"-394.8\" font-family=\"Helvetica,sans-Serif\" font-size=\"14.00\" fill=\"#000000\">entropy = 1.842</text>\n<text text-anchor=\"middle\" x=\"1911.5\" y=\"-379.8\" font-family=\"Helvetica,sans-Serif\" font-size=\"14.00\" fill=\"#000000\">samples = 333</text>\n<text text-anchor=\"middle\" x=\"1911.5\" y=\"-364.8\" font-family=\"Helvetica,sans-Serif\" font-size=\"14.00\" fill=\"#000000\">value = [35, 58, 120, 120]</text>\n<text text-anchor=\"middle\" x=\"1911.5\" y=\"-349.8\" font-family=\"Helvetica,sans-Serif\" font-size=\"14.00\" fill=\"#000000\">class = soldoff&#45;low</text>\n</g>\n<!-- 1&#45;&gt;17 -->\n<g id=\"edge17\" class=\"edge\">\n<title>1&#45;&gt;17</title>\n<path fill=\"none\" stroke=\"#000000\" d=\"M1911.5,-460.8796C1911.5,-452.6838 1911.5,-443.9891 1911.5,-435.5013\"/>\n<polygon fill=\"#000000\" stroke=\"#000000\" points=\"1915.0001,-435.298 1911.5,-425.2981 1908.0001,-435.2981 1915.0001,-435.298\"/>\n</g>\n<!-- 3 -->\n<g id=\"node4\" class=\"node\">\n<title>3</title>\n<polygon fill=\"#fdf3ec\" stroke=\"#000000\" points=\"563.5,-306 403.5,-306 403.5,-223 563.5,-223 563.5,-306\"/>\n<text text-anchor=\"middle\" x=\"483.5\" y=\"-290.8\" font-family=\"Helvetica,sans-Serif\" font-size=\"14.00\" fill=\"#000000\">industry_media &lt;= 0.5</text>\n<text text-anchor=\"middle\" x=\"483.5\" y=\"-275.8\" font-family=\"Helvetica,sans-Serif\" font-size=\"14.00\" fill=\"#000000\">entropy = 1.767</text>\n<text text-anchor=\"middle\" x=\"483.5\" y=\"-260.8\" font-family=\"Helvetica,sans-Serif\" font-size=\"14.00\" fill=\"#000000\">samples = 185</text>\n<text text-anchor=\"middle\" x=\"483.5\" y=\"-245.8\" font-family=\"Helvetica,sans-Serif\" font-size=\"14.00\" fill=\"#000000\">value = [71, 9, 59, 46]</text>\n<text text-anchor=\"middle\" x=\"483.5\" y=\"-230.8\" font-family=\"Helvetica,sans-Serif\" font-size=\"14.00\" fill=\"#000000\">class = soldoff&#45;high</text>\n</g>\n<!-- 2&#45;&gt;3 -->\n<g id=\"edge3\" class=\"edge\">\n<title>2&#45;&gt;3</title>\n<path fill=\"none\" stroke=\"#000000\" d=\"M862.4849,-359.8472C778.4744,-338.7113 656.2211,-307.9541 573.4683,-287.1347\"/>\n<polygon fill=\"#000000\" stroke=\"#000000\" points=\"574.1293,-283.692 563.5775,-284.6464 572.4213,-290.4805 574.1293,-283.692\"/>\n</g>\n<!-- 10 -->\n<g id=\"node11\" class=\"node\">\n<title>10</title>\n<polygon fill=\"#eefded\" stroke=\"#000000\" points=\"1040,-306 873,-306 873,-223 1040,-223 1040,-306\"/>\n<text text-anchor=\"middle\" x=\"956.5\" y=\"-290.8\" font-family=\"Helvetica,sans-Serif\" font-size=\"14.00\" fill=\"#000000\">pfunding &lt;= 4800000.0</text>\n<text text-anchor=\"middle\" x=\"956.5\" y=\"-275.8\" font-family=\"Helvetica,sans-Serif\" font-size=\"14.00\" fill=\"#000000\">entropy = 1.951</text>\n<text text-anchor=\"middle\" x=\"956.5\" y=\"-260.8\" font-family=\"Helvetica,sans-Serif\" font-size=\"14.00\" fill=\"#000000\">samples = 118</text>\n<text text-anchor=\"middle\" x=\"956.5\" y=\"-245.8\" font-family=\"Helvetica,sans-Serif\" font-size=\"14.00\" fill=\"#000000\">value = [31, 39, 18, 30]</text>\n<text text-anchor=\"middle\" x=\"956.5\" y=\"-230.8\" font-family=\"Helvetica,sans-Serif\" font-size=\"14.00\" fill=\"#000000\">class = bankrupt</text>\n</g>\n<!-- 2&#45;&gt;10 -->\n<g id=\"edge10\" class=\"edge\">\n<title>2&#45;&gt;10</title>\n<path fill=\"none\" stroke=\"#000000\" d=\"M956.5,-341.8796C956.5,-333.6838 956.5,-324.9891 956.5,-316.5013\"/>\n<polygon fill=\"#000000\" stroke=\"#000000\" points=\"960.0001,-316.298 956.5,-306.2981 953.0001,-316.2981 960.0001,-316.298\"/>\n</g>\n<!-- 4 -->\n<g id=\"node5\" class=\"node\">\n<title>4</title>\n<polygon fill=\"#f8decc\" stroke=\"#000000\" points=\"318,-187 163,-187 163,-104 318,-104 318,-187\"/>\n<text text-anchor=\"middle\" x=\"240.5\" y=\"-171.8\" font-family=\"Helvetica,sans-Serif\" font-size=\"14.00\" fill=\"#000000\">elites &lt;= 5.5</text>\n<text text-anchor=\"middle\" x=\"240.5\" y=\"-156.8\" font-family=\"Helvetica,sans-Serif\" font-size=\"14.00\" fill=\"#000000\">entropy = 1.693</text>\n<text text-anchor=\"middle\" x=\"240.5\" y=\"-141.8\" font-family=\"Helvetica,sans-Serif\" font-size=\"14.00\" fill=\"#000000\">samples = 120</text>\n<text text-anchor=\"middle\" x=\"240.5\" y=\"-126.8\" font-family=\"Helvetica,sans-Serif\" font-size=\"14.00\" fill=\"#000000\">value = [57, 6, 22, 35]</text>\n<text text-anchor=\"middle\" x=\"240.5\" y=\"-111.8\" font-family=\"Helvetica,sans-Serif\" font-size=\"14.00\" fill=\"#000000\">class = soldoff&#45;high</text>\n</g>\n<!-- 3&#45;&gt;4 -->\n<g id=\"edge4\" class=\"edge\">\n<title>3&#45;&gt;4</title>\n<path fill=\"none\" stroke=\"#000000\" d=\"M403.2593,-225.2052C378.8809,-213.2668 351.9879,-200.097 327.2044,-187.9602\"/>\n<polygon fill=\"#000000\" stroke=\"#000000\" points=\"328.6979,-184.7945 318.1776,-183.5397 325.6192,-191.0811 328.6979,-184.7945\"/>\n</g>\n<!-- 7 -->\n<g id=\"node8\" class=\"node\">\n<title>7</title>\n<polygon fill=\"#a6d3f3\" stroke=\"#000000\" points=\"561,-187 406,-187 406,-104 561,-104 561,-187\"/>\n<text text-anchor=\"middle\" x=\"483.5\" y=\"-171.8\" font-family=\"Helvetica,sans-Serif\" font-size=\"14.00\" fill=\"#000000\">months &lt;= 35.5</text>\n<text text-anchor=\"middle\" x=\"483.5\" y=\"-156.8\" font-family=\"Helvetica,sans-Serif\" font-size=\"14.00\" fill=\"#000000\">entropy = 1.578</text>\n<text text-anchor=\"middle\" x=\"483.5\" y=\"-141.8\" font-family=\"Helvetica,sans-Serif\" font-size=\"14.00\" fill=\"#000000\">samples = 65</text>\n<text text-anchor=\"middle\" x=\"483.5\" y=\"-126.8\" font-family=\"Helvetica,sans-Serif\" font-size=\"14.00\" fill=\"#000000\">value = [14, 3, 37, 11]</text>\n<text text-anchor=\"middle\" x=\"483.5\" y=\"-111.8\" font-family=\"Helvetica,sans-Serif\" font-size=\"14.00\" fill=\"#000000\">class = soldoff&#45;low</text>\n</g>\n<!-- 3&#45;&gt;7 -->\n<g id=\"edge7\" class=\"edge\">\n<title>3&#45;&gt;7</title>\n<path fill=\"none\" stroke=\"#000000\" d=\"M483.5,-222.8796C483.5,-214.6838 483.5,-205.9891 483.5,-197.5013\"/>\n<polygon fill=\"#000000\" stroke=\"#000000\" points=\"487.0001,-197.298 483.5,-187.2981 480.0001,-197.2981 487.0001,-197.298\"/>\n</g>\n<!-- 5 -->\n<g id=\"node6\" class=\"node\">\n<title>5</title>\n<polygon fill=\"#f7d8c1\" stroke=\"#000000\" points=\"155,-68 0,-68 0,0 155,0 155,-68\"/>\n<text text-anchor=\"middle\" x=\"77.5\" y=\"-52.8\" font-family=\"Helvetica,sans-Serif\" font-size=\"14.00\" fill=\"#000000\">entropy = 1.554</text>\n<text text-anchor=\"middle\" x=\"77.5\" y=\"-37.8\" font-family=\"Helvetica,sans-Serif\" font-size=\"14.00\" fill=\"#000000\">samples = 107</text>\n<text text-anchor=\"middle\" x=\"77.5\" y=\"-22.8\" font-family=\"Helvetica,sans-Serif\" font-size=\"14.00\" fill=\"#000000\">value = [56, 3, 15, 33]</text>\n<text text-anchor=\"middle\" x=\"77.5\" y=\"-7.8\" font-family=\"Helvetica,sans-Serif\" font-size=\"14.00\" fill=\"#000000\">class = soldoff&#45;high</text>\n</g>\n<!-- 4&#45;&gt;5 -->\n<g id=\"edge5\" class=\"edge\">\n<title>4&#45;&gt;5</title>\n<path fill=\"none\" stroke=\"#000000\" d=\"M179.8048,-103.9815C165.353,-94.0957 149.9658,-83.5701 135.632,-73.7651\"/>\n<polygon fill=\"#000000\" stroke=\"#000000\" points=\"137.559,-70.8428 127.3292,-68.0856 133.6068,-76.6204 137.559,-70.8428\"/>\n</g>\n<!-- 6 -->\n<g id=\"node7\" class=\"node\">\n<title>6</title>\n<polygon fill=\"#b0d8f5\" stroke=\"#000000\" points=\"308,-68 173,-68 173,0 308,0 308,-68\"/>\n<text text-anchor=\"middle\" x=\"240.5\" y=\"-52.8\" font-family=\"Helvetica,sans-Serif\" font-size=\"14.00\" fill=\"#000000\">entropy = 1.669</text>\n<text text-anchor=\"middle\" x=\"240.5\" y=\"-37.8\" font-family=\"Helvetica,sans-Serif\" font-size=\"14.00\" fill=\"#000000\">samples = 13</text>\n<text text-anchor=\"middle\" x=\"240.5\" y=\"-22.8\" font-family=\"Helvetica,sans-Serif\" font-size=\"14.00\" fill=\"#000000\">value = [1, 3, 7, 2]</text>\n<text text-anchor=\"middle\" x=\"240.5\" y=\"-7.8\" font-family=\"Helvetica,sans-Serif\" font-size=\"14.00\" fill=\"#000000\">class = soldoff&#45;low</text>\n</g>\n<!-- 4&#45;&gt;6 -->\n<g id=\"edge6\" class=\"edge\">\n<title>4&#45;&gt;6</title>\n<path fill=\"none\" stroke=\"#000000\" d=\"M240.5,-103.9815C240.5,-95.618 240.5,-86.7965 240.5,-78.3409\"/>\n<polygon fill=\"#000000\" stroke=\"#000000\" points=\"244.0001,-78.2636 240.5,-68.2637 237.0001,-78.2637 244.0001,-78.2636\"/>\n</g>\n<!-- 8 -->\n<g id=\"node9\" class=\"node\">\n<title>8</title>\n<polygon fill=\"#8dc6f0\" stroke=\"#000000\" points=\"465,-68 326,-68 326,0 465,0 465,-68\"/>\n<text text-anchor=\"middle\" x=\"395.5\" y=\"-52.8\" font-family=\"Helvetica,sans-Serif\" font-size=\"14.00\" fill=\"#000000\">entropy = 1.45</text>\n<text text-anchor=\"middle\" x=\"395.5\" y=\"-37.8\" font-family=\"Helvetica,sans-Serif\" font-size=\"14.00\" fill=\"#000000\">samples = 54</text>\n<text text-anchor=\"middle\" x=\"395.5\" y=\"-22.8\" font-family=\"Helvetica,sans-Serif\" font-size=\"14.00\" fill=\"#000000\">value = [7, 3, 35, 9]</text>\n<text text-anchor=\"middle\" x=\"395.5\" y=\"-7.8\" font-family=\"Helvetica,sans-Serif\" font-size=\"14.00\" fill=\"#000000\">class = soldoff&#45;low</text>\n</g>\n<!-- 7&#45;&gt;8 -->\n<g id=\"edge8\" class=\"edge\">\n<title>7&#45;&gt;8</title>\n<path fill=\"none\" stroke=\"#000000\" d=\"M450.732,-103.9815C443.551,-94.8828 435.9421,-85.242 428.7426,-76.1199\"/>\n<polygon fill=\"#000000\" stroke=\"#000000\" points=\"431.4849,-73.9451 422.5422,-68.2637 425.9901,-78.2818 431.4849,-73.9451\"/>\n</g>\n<!-- 9 -->\n<g id=\"node10\" class=\"node\">\n<title>9</title>\n<polygon fill=\"#f1b991\" stroke=\"#000000\" points=\"624,-68 483,-68 483,0 624,0 624,-68\"/>\n<text text-anchor=\"middle\" x=\"553.5\" y=\"-52.8\" font-family=\"Helvetica,sans-Serif\" font-size=\"14.00\" fill=\"#000000\">entropy = 1.309</text>\n<text text-anchor=\"middle\" x=\"553.5\" y=\"-37.8\" font-family=\"Helvetica,sans-Serif\" font-size=\"14.00\" fill=\"#000000\">samples = 11</text>\n<text text-anchor=\"middle\" x=\"553.5\" y=\"-22.8\" font-family=\"Helvetica,sans-Serif\" font-size=\"14.00\" fill=\"#000000\">value = [7, 0, 2, 2]</text>\n<text text-anchor=\"middle\" x=\"553.5\" y=\"-7.8\" font-family=\"Helvetica,sans-Serif\" font-size=\"14.00\" fill=\"#000000\">class = soldoff&#45;high</text>\n</g>\n<!-- 7&#45;&gt;9 -->\n<g id=\"edge9\" class=\"edge\">\n<title>7&#45;&gt;9</title>\n<path fill=\"none\" stroke=\"#000000\" d=\"M509.5654,-103.9815C515.1045,-95.1585 520.9636,-85.8258 526.5355,-76.9506\"/>\n<polygon fill=\"#000000\" stroke=\"#000000\" points=\"529.6363,-78.594 531.9892,-68.2637 523.7078,-74.872 529.6363,-78.594\"/>\n</g>\n<!-- 11 -->\n<g id=\"node12\" class=\"node\">\n<title>11</title>\n<polygon fill=\"#fdf4ee\" stroke=\"#000000\" points=\"945,-187 798,-187 798,-104 945,-104 945,-187\"/>\n<text text-anchor=\"middle\" x=\"871.5\" y=\"-171.8\" font-family=\"Helvetica,sans-Serif\" font-size=\"14.00\" fill=\"#000000\">smember &lt;= 0.5</text>\n<text text-anchor=\"middle\" x=\"871.5\" y=\"-156.8\" font-family=\"Helvetica,sans-Serif\" font-size=\"14.00\" fill=\"#000000\">entropy = 1.828</text>\n<text text-anchor=\"middle\" x=\"871.5\" y=\"-141.8\" font-family=\"Helvetica,sans-Serif\" font-size=\"14.00\" fill=\"#000000\">samples = 51</text>\n<text text-anchor=\"middle\" x=\"871.5\" y=\"-126.8\" font-family=\"Helvetica,sans-Serif\" font-size=\"14.00\" fill=\"#000000\">value = [20, 5, 9, 17]</text>\n<text text-anchor=\"middle\" x=\"871.5\" y=\"-111.8\" font-family=\"Helvetica,sans-Serif\" font-size=\"14.00\" fill=\"#000000\">class = soldoff&#45;high</text>\n</g>\n<!-- 10&#45;&gt;11 -->\n<g id=\"edge11\" class=\"edge\">\n<title>10&#45;&gt;11</title>\n<path fill=\"none\" stroke=\"#000000\" d=\"M926.7711,-222.8796C920.4667,-214.0534 913.749,-204.6485 907.2476,-195.5466\"/>\n<polygon fill=\"#000000\" stroke=\"#000000\" points=\"910.0163,-193.4011 901.3558,-187.2981 904.3201,-197.4698 910.0163,-193.4011\"/>\n</g>\n<!-- 14 -->\n<g id=\"node15\" class=\"node\">\n<title>14</title>\n<polygon fill=\"#b7f5b2\" stroke=\"#000000\" points=\"1118,-187 963,-187 963,-104 1118,-104 1118,-187\"/>\n<text text-anchor=\"middle\" x=\"1040.5\" y=\"-171.8\" font-family=\"Helvetica,sans-Serif\" font-size=\"14.00\" fill=\"#000000\">elites &lt;= 3.5</text>\n<text text-anchor=\"middle\" x=\"1040.5\" y=\"-156.8\" font-family=\"Helvetica,sans-Serif\" font-size=\"14.00\" fill=\"#000000\">entropy = 1.773</text>\n<text text-anchor=\"middle\" x=\"1040.5\" y=\"-141.8\" font-family=\"Helvetica,sans-Serif\" font-size=\"14.00\" fill=\"#000000\">samples = 67</text>\n<text text-anchor=\"middle\" x=\"1040.5\" y=\"-126.8\" font-family=\"Helvetica,sans-Serif\" font-size=\"14.00\" fill=\"#000000\">value = [11, 34, 9, 13]</text>\n<text text-anchor=\"middle\" x=\"1040.5\" y=\"-111.8\" font-family=\"Helvetica,sans-Serif\" font-size=\"14.00\" fill=\"#000000\">class = bankrupt</text>\n</g>\n<!-- 10&#45;&gt;14 -->\n<g id=\"edge14\" class=\"edge\">\n<title>10&#45;&gt;14</title>\n<path fill=\"none\" stroke=\"#000000\" d=\"M985.8791,-222.8796C992.1094,-214.0534 998.7481,-204.6485 1005.173,-195.5466\"/>\n<polygon fill=\"#000000\" stroke=\"#000000\" points=\"1008.088,-197.4862 1010.9955,-187.2981 1002.3692,-193.4494 1008.088,-197.4862\"/>\n</g>\n<!-- 12 -->\n<g id=\"node13\" class=\"node\">\n<title>12</title>\n<polygon fill=\"#fae6d7\" stroke=\"#000000\" points=\"789,-68 642,-68 642,0 789,0 789,-68\"/>\n<text text-anchor=\"middle\" x=\"715.5\" y=\"-52.8\" font-family=\"Helvetica,sans-Serif\" font-size=\"14.00\" fill=\"#000000\">entropy = 1.593</text>\n<text text-anchor=\"middle\" x=\"715.5\" y=\"-37.8\" font-family=\"Helvetica,sans-Serif\" font-size=\"14.00\" fill=\"#000000\">samples = 39</text>\n<text text-anchor=\"middle\" x=\"715.5\" y=\"-22.8\" font-family=\"Helvetica,sans-Serif\" font-size=\"14.00\" fill=\"#000000\">value = [19, 2, 4, 14]</text>\n<text text-anchor=\"middle\" x=\"715.5\" y=\"-7.8\" font-family=\"Helvetica,sans-Serif\" font-size=\"14.00\" fill=\"#000000\">class = soldoff&#45;high</text>\n</g>\n<!-- 11&#45;&gt;12 -->\n<g id=\"edge12\" class=\"edge\">\n<title>11&#45;&gt;12</title>\n<path fill=\"none\" stroke=\"#000000\" d=\"M813.4114,-103.9815C799.7811,-94.2394 785.2816,-83.8759 771.7342,-74.193\"/>\n<polygon fill=\"#000000\" stroke=\"#000000\" points=\"773.6092,-71.2311 763.4384,-68.2637 769.5388,-76.926 773.6092,-71.2311\"/>\n</g>\n<!-- 13 -->\n<g id=\"node14\" class=\"node\">\n<title>13</title>\n<polygon fill=\"#d3e9f9\" stroke=\"#000000\" points=\"942,-68 807,-68 807,0 942,0 942,-68\"/>\n<text text-anchor=\"middle\" x=\"874.5\" y=\"-52.8\" font-family=\"Helvetica,sans-Serif\" font-size=\"14.00\" fill=\"#000000\">entropy = 1.825</text>\n<text text-anchor=\"middle\" x=\"874.5\" y=\"-37.8\" font-family=\"Helvetica,sans-Serif\" font-size=\"14.00\" fill=\"#000000\">samples = 12</text>\n<text text-anchor=\"middle\" x=\"874.5\" y=\"-22.8\" font-family=\"Helvetica,sans-Serif\" font-size=\"14.00\" fill=\"#000000\">value = [1, 3, 5, 3]</text>\n<text text-anchor=\"middle\" x=\"874.5\" y=\"-7.8\" font-family=\"Helvetica,sans-Serif\" font-size=\"14.00\" fill=\"#000000\">class = soldoff&#45;low</text>\n</g>\n<!-- 11&#45;&gt;13 -->\n<g id=\"edge13\" class=\"edge\">\n<title>11&#45;&gt;13</title>\n<path fill=\"none\" stroke=\"#000000\" d=\"M872.6171,-103.9815C872.8421,-95.618 873.0795,-86.7965 873.307,-78.3409\"/>\n<polygon fill=\"#000000\" stroke=\"#000000\" points=\"876.8078,-78.3542 873.5781,-68.2637 869.8103,-78.1659 876.8078,-78.3542\"/>\n</g>\n<!-- 15 -->\n<g id=\"node16\" class=\"node\">\n<title>15</title>\n<polygon fill=\"#fef9fe\" stroke=\"#000000\" points=\"1115,-68 960,-68 960,0 1115,0 1115,-68\"/>\n<text text-anchor=\"middle\" x=\"1037.5\" y=\"-52.8\" font-family=\"Helvetica,sans-Serif\" font-size=\"14.00\" fill=\"#000000\">entropy = 1.987</text>\n<text text-anchor=\"middle\" x=\"1037.5\" y=\"-37.8\" font-family=\"Helvetica,sans-Serif\" font-size=\"14.00\" fill=\"#000000\">samples = 45</text>\n<text text-anchor=\"middle\" x=\"1037.5\" y=\"-22.8\" font-family=\"Helvetica,sans-Serif\" font-size=\"14.00\" fill=\"#000000\">value = [11, 12, 9, 13]</text>\n<text text-anchor=\"middle\" x=\"1037.5\" y=\"-7.8\" font-family=\"Helvetica,sans-Serif\" font-size=\"14.00\" fill=\"#000000\">class = ipo</text>\n</g>\n<!-- 14&#45;&gt;15 -->\n<g id=\"edge15\" class=\"edge\">\n<title>14&#45;&gt;15</title>\n<path fill=\"none\" stroke=\"#000000\" d=\"M1039.3829,-103.9815C1039.1579,-95.618 1038.9205,-86.7965 1038.693,-78.3409\"/>\n<polygon fill=\"#000000\" stroke=\"#000000\" points=\"1042.1897,-78.1659 1038.4219,-68.2637 1035.1922,-78.3542 1042.1897,-78.1659\"/>\n</g>\n<!-- 16 -->\n<g id=\"node17\" class=\"node\">\n<title>16</title>\n<polygon fill=\"#47e539\" stroke=\"#000000\" points=\"1272,-68 1133,-68 1133,0 1272,0 1272,-68\"/>\n<text text-anchor=\"middle\" x=\"1202.5\" y=\"-52.8\" font-family=\"Helvetica,sans-Serif\" font-size=\"14.00\" fill=\"#000000\">entropy = 0.0</text>\n<text text-anchor=\"middle\" x=\"1202.5\" y=\"-37.8\" font-family=\"Helvetica,sans-Serif\" font-size=\"14.00\" fill=\"#000000\">samples = 22</text>\n<text text-anchor=\"middle\" x=\"1202.5\" y=\"-22.8\" font-family=\"Helvetica,sans-Serif\" font-size=\"14.00\" fill=\"#000000\">value = [0, 22, 0, 0]</text>\n<text text-anchor=\"middle\" x=\"1202.5\" y=\"-7.8\" font-family=\"Helvetica,sans-Serif\" font-size=\"14.00\" fill=\"#000000\">class = bankrupt</text>\n</g>\n<!-- 14&#45;&gt;16 -->\n<g id=\"edge16\" class=\"edge\">\n<title>14&#45;&gt;16</title>\n<path fill=\"none\" stroke=\"#000000\" d=\"M1100.8228,-103.9815C1115.186,-94.0957 1130.4788,-83.5701 1144.7247,-73.7651\"/>\n<polygon fill=\"#000000\" stroke=\"#000000\" points=\"1146.7234,-76.6384 1152.9765,-68.0856 1142.7546,-70.8722 1146.7234,-76.6384\"/>\n</g>\n<!-- 18 -->\n<g id=\"node19\" class=\"node\">\n<title>18</title>\n<polygon fill=\"#fdf6fe\" stroke=\"#000000\" points=\"1872.5,-306 1708.5,-306 1708.5,-223 1872.5,-223 1872.5,-306\"/>\n<text text-anchor=\"middle\" x=\"1790.5\" y=\"-290.8\" font-family=\"Helvetica,sans-Serif\" font-size=\"14.00\" fill=\"#000000\">industry_media &lt;= 0.5</text>\n<text text-anchor=\"middle\" x=\"1790.5\" y=\"-275.8\" font-family=\"Helvetica,sans-Serif\" font-size=\"14.00\" fill=\"#000000\">entropy = 1.794</text>\n<text text-anchor=\"middle\" x=\"1790.5\" y=\"-260.8\" font-family=\"Helvetica,sans-Serif\" font-size=\"14.00\" fill=\"#000000\">samples = 233</text>\n<text text-anchor=\"middle\" x=\"1790.5\" y=\"-245.8\" font-family=\"Helvetica,sans-Serif\" font-size=\"14.00\" fill=\"#000000\">value = [30, 26, 85, 92]</text>\n<text text-anchor=\"middle\" x=\"1790.5\" y=\"-230.8\" font-family=\"Helvetica,sans-Serif\" font-size=\"14.00\" fill=\"#000000\">class = ipo</text>\n</g>\n<!-- 17&#45;&gt;18 -->\n<g id=\"edge18\" class=\"edge\">\n<title>17&#45;&gt;18</title>\n<path fill=\"none\" stroke=\"#000000\" d=\"M1869.1801,-341.8796C1859.8392,-332.6931 1849.861,-322.8798 1840.256,-313.4336\"/>\n<polygon fill=\"#000000\" stroke=\"#000000\" points=\"1842.5845,-310.8146 1833.0006,-306.2981 1837.6762,-315.8054 1842.5845,-310.8146\"/>\n</g>\n<!-- 25 -->\n<g id=\"node26\" class=\"node\">\n<title>25</title>\n<polygon fill=\"#f6fbfe\" stroke=\"#000000\" points=\"2161,-306 1994,-306 1994,-223 2161,-223 2161,-306\"/>\n<text text-anchor=\"middle\" x=\"2077.5\" y=\"-290.8\" font-family=\"Helvetica,sans-Serif\" font-size=\"14.00\" fill=\"#000000\">pfunding &lt;= 5000000.0</text>\n<text text-anchor=\"middle\" x=\"2077.5\" y=\"-275.8\" font-family=\"Helvetica,sans-Serif\" font-size=\"14.00\" fill=\"#000000\">entropy = 1.786</text>\n<text text-anchor=\"middle\" x=\"2077.5\" y=\"-260.8\" font-family=\"Helvetica,sans-Serif\" font-size=\"14.00\" fill=\"#000000\">samples = 100</text>\n<text text-anchor=\"middle\" x=\"2077.5\" y=\"-245.8\" font-family=\"Helvetica,sans-Serif\" font-size=\"14.00\" fill=\"#000000\">value = [5, 32, 35, 28]</text>\n<text text-anchor=\"middle\" x=\"2077.5\" y=\"-230.8\" font-family=\"Helvetica,sans-Serif\" font-size=\"14.00\" fill=\"#000000\">class = soldoff&#45;low</text>\n</g>\n<!-- 17&#45;&gt;25 -->\n<g id=\"edge25\" class=\"edge\">\n<title>17&#45;&gt;25</title>\n<path fill=\"none\" stroke=\"#000000\" d=\"M1969.5587,-341.8796C1982.9534,-332.2774 1997.3035,-321.9903 2011.0255,-312.1534\"/>\n<polygon fill=\"#000000\" stroke=\"#000000\" points=\"2013.3858,-314.7678 2019.474,-306.0969 2009.3074,-309.0786 2013.3858,-314.7678\"/>\n</g>\n<!-- 19 -->\n<g id=\"node20\" class=\"node\">\n<title>19</title>\n<polygon fill=\"#f8defb\" stroke=\"#000000\" points=\"1634.5,-187 1446.5,-187 1446.5,-104 1634.5,-104 1634.5,-187\"/>\n<text text-anchor=\"middle\" x=\"1540.5\" y=\"-171.8\" font-family=\"Helvetica,sans-Serif\" font-size=\"14.00\" fill=\"#000000\">industry_healthcare &lt;= 0.5</text>\n<text text-anchor=\"middle\" x=\"1540.5\" y=\"-156.8\" font-family=\"Helvetica,sans-Serif\" font-size=\"14.00\" fill=\"#000000\">entropy = 1.738</text>\n<text text-anchor=\"middle\" x=\"1540.5\" y=\"-141.8\" font-family=\"Helvetica,sans-Serif\" font-size=\"14.00\" fill=\"#000000\">samples = 181</text>\n<text text-anchor=\"middle\" x=\"1540.5\" y=\"-126.8\" font-family=\"Helvetica,sans-Serif\" font-size=\"14.00\" fill=\"#000000\">value = [17, 22, 61, 81]</text>\n<text text-anchor=\"middle\" x=\"1540.5\" y=\"-111.8\" font-family=\"Helvetica,sans-Serif\" font-size=\"14.00\" fill=\"#000000\">class = ipo</text>\n</g>\n<!-- 18&#45;&gt;19 -->\n<g id=\"edge19\" class=\"edge\">\n<title>18&#45;&gt;19</title>\n<path fill=\"none\" stroke=\"#000000\" d=\"M1708.2944,-225.3701C1685.554,-214.5457 1660.6646,-202.6983 1637.1824,-191.5208\"/>\n<polygon fill=\"#000000\" stroke=\"#000000\" points=\"1638.4474,-188.2467 1627.9139,-187.109 1635.4389,-194.5672 1638.4474,-188.2467\"/>\n</g>\n<!-- 22 -->\n<g id=\"node23\" class=\"node\">\n<title>22</title>\n<polygon fill=\"#c7e3f8\" stroke=\"#000000\" points=\"1869.5,-187 1711.5,-187 1711.5,-104 1869.5,-104 1869.5,-187\"/>\n<text text-anchor=\"middle\" x=\"1790.5\" y=\"-171.8\" font-family=\"Helvetica,sans-Serif\" font-size=\"14.00\" fill=\"#000000\">pfunding &lt;= 750000.0</text>\n<text text-anchor=\"middle\" x=\"1790.5\" y=\"-156.8\" font-family=\"Helvetica,sans-Serif\" font-size=\"14.00\" fill=\"#000000\">entropy = 1.774</text>\n<text text-anchor=\"middle\" x=\"1790.5\" y=\"-141.8\" font-family=\"Helvetica,sans-Serif\" font-size=\"14.00\" fill=\"#000000\">samples = 52</text>\n<text text-anchor=\"middle\" x=\"1790.5\" y=\"-126.8\" font-family=\"Helvetica,sans-Serif\" font-size=\"14.00\" fill=\"#000000\">value = [13, 4, 24, 11]</text>\n<text text-anchor=\"middle\" x=\"1790.5\" y=\"-111.8\" font-family=\"Helvetica,sans-Serif\" font-size=\"14.00\" fill=\"#000000\">class = soldoff&#45;low</text>\n</g>\n<!-- 18&#45;&gt;22 -->\n<g id=\"edge22\" class=\"edge\">\n<title>18&#45;&gt;22</title>\n<path fill=\"none\" stroke=\"#000000\" d=\"M1790.5,-222.8796C1790.5,-214.6838 1790.5,-205.9891 1790.5,-197.5013\"/>\n<polygon fill=\"#000000\" stroke=\"#000000\" points=\"1794.0001,-197.298 1790.5,-187.2981 1787.0001,-197.2981 1794.0001,-197.298\"/>\n</g>\n<!-- 20 -->\n<g id=\"node21\" class=\"node\">\n<title>20</title>\n<polygon fill=\"#f2bef6\" stroke=\"#000000\" points=\"1445,-68 1290,-68 1290,0 1445,0 1445,-68\"/>\n<text text-anchor=\"middle\" x=\"1367.5\" y=\"-52.8\" font-family=\"Helvetica,sans-Serif\" font-size=\"14.00\" fill=\"#000000\">entropy = 1.587</text>\n<text text-anchor=\"middle\" x=\"1367.5\" y=\"-37.8\" font-family=\"Helvetica,sans-Serif\" font-size=\"14.00\" fill=\"#000000\">samples = 96</text>\n<text text-anchor=\"middle\" x=\"1367.5\" y=\"-22.8\" font-family=\"Helvetica,sans-Serif\" font-size=\"14.00\" fill=\"#000000\">value = [11, 5, 29, 51]</text>\n<text text-anchor=\"middle\" x=\"1367.5\" y=\"-7.8\" font-family=\"Helvetica,sans-Serif\" font-size=\"14.00\" fill=\"#000000\">class = ipo</text>\n</g>\n<!-- 19&#45;&gt;20 -->\n<g id=\"edge20\" class=\"edge\">\n<title>19&#45;&gt;20</title>\n<path fill=\"none\" stroke=\"#000000\" d=\"M1476.0812,-103.9815C1460.7427,-94.0957 1444.4115,-83.5701 1429.1984,-73.7651\"/>\n<polygon fill=\"#000000\" stroke=\"#000000\" points=\"1430.6878,-70.5611 1420.3862,-68.0856 1426.8956,-76.445 1430.6878,-70.5611\"/>\n</g>\n<!-- 21 -->\n<g id=\"node22\" class=\"node\">\n<title>21</title>\n<polygon fill=\"#f8fbfe\" stroke=\"#000000\" points=\"1618,-68 1463,-68 1463,0 1618,0 1618,-68\"/>\n<text text-anchor=\"middle\" x=\"1540.5\" y=\"-52.8\" font-family=\"Helvetica,sans-Serif\" font-size=\"14.00\" fill=\"#000000\">entropy = 1.795</text>\n<text text-anchor=\"middle\" x=\"1540.5\" y=\"-37.8\" font-family=\"Helvetica,sans-Serif\" font-size=\"14.00\" fill=\"#000000\">samples = 85</text>\n<text text-anchor=\"middle\" x=\"1540.5\" y=\"-22.8\" font-family=\"Helvetica,sans-Serif\" font-size=\"14.00\" fill=\"#000000\">value = [6, 17, 32, 30]</text>\n<text text-anchor=\"middle\" x=\"1540.5\" y=\"-7.8\" font-family=\"Helvetica,sans-Serif\" font-size=\"14.00\" fill=\"#000000\">class = soldoff&#45;low</text>\n</g>\n<!-- 19&#45;&gt;21 -->\n<g id=\"edge21\" class=\"edge\">\n<title>19&#45;&gt;21</title>\n<path fill=\"none\" stroke=\"#000000\" d=\"M1540.5,-103.9815C1540.5,-95.618 1540.5,-86.7965 1540.5,-78.3409\"/>\n<polygon fill=\"#000000\" stroke=\"#000000\" points=\"1544.0001,-78.2636 1540.5,-68.2637 1537.0001,-78.2637 1544.0001,-78.2636\"/>\n</g>\n<!-- 23 -->\n<g id=\"node24\" class=\"node\">\n<title>23</title>\n<polygon fill=\"#f4c9aa\" stroke=\"#000000\" points=\"1777,-68 1636,-68 1636,0 1777,0 1777,-68\"/>\n<text text-anchor=\"middle\" x=\"1706.5\" y=\"-52.8\" font-family=\"Helvetica,sans-Serif\" font-size=\"14.00\" fill=\"#000000\">entropy = 0.946</text>\n<text text-anchor=\"middle\" x=\"1706.5\" y=\"-37.8\" font-family=\"Helvetica,sans-Serif\" font-size=\"14.00\" fill=\"#000000\">samples = 11</text>\n<text text-anchor=\"middle\" x=\"1706.5\" y=\"-22.8\" font-family=\"Helvetica,sans-Serif\" font-size=\"14.00\" fill=\"#000000\">value = [7, 0, 4, 0]</text>\n<text text-anchor=\"middle\" x=\"1706.5\" y=\"-7.8\" font-family=\"Helvetica,sans-Serif\" font-size=\"14.00\" fill=\"#000000\">class = soldoff&#45;high</text>\n</g>\n<!-- 22&#45;&gt;23 -->\n<g id=\"edge23\" class=\"edge\">\n<title>22&#45;&gt;23</title>\n<path fill=\"none\" stroke=\"#000000\" d=\"M1759.2215,-103.9815C1752.4361,-94.9747 1745.2505,-85.4367 1738.4399,-76.3965\"/>\n<polygon fill=\"#000000\" stroke=\"#000000\" points=\"1741.1257,-74.1448 1732.313,-68.2637 1735.5347,-78.3568 1741.1257,-74.1448\"/>\n</g>\n<!-- 24 -->\n<g id=\"node25\" class=\"node\">\n<title>24</title>\n<polygon fill=\"#c4e2f7\" stroke=\"#000000\" points=\"1942,-68 1795,-68 1795,0 1942,0 1942,-68\"/>\n<text text-anchor=\"middle\" x=\"1868.5\" y=\"-52.8\" font-family=\"Helvetica,sans-Serif\" font-size=\"14.00\" fill=\"#000000\">entropy = 1.748</text>\n<text text-anchor=\"middle\" x=\"1868.5\" y=\"-37.8\" font-family=\"Helvetica,sans-Serif\" font-size=\"14.00\" fill=\"#000000\">samples = 41</text>\n<text text-anchor=\"middle\" x=\"1868.5\" y=\"-22.8\" font-family=\"Helvetica,sans-Serif\" font-size=\"14.00\" fill=\"#000000\">value = [6, 4, 20, 11]</text>\n<text text-anchor=\"middle\" x=\"1868.5\" y=\"-7.8\" font-family=\"Helvetica,sans-Serif\" font-size=\"14.00\" fill=\"#000000\">class = soldoff&#45;low</text>\n</g>\n<!-- 22&#45;&gt;24 -->\n<g id=\"edge24\" class=\"edge\">\n<title>22&#45;&gt;24</title>\n<path fill=\"none\" stroke=\"#000000\" d=\"M1819.5443,-103.9815C1825.7808,-95.0666 1832.3813,-85.6313 1838.6478,-76.6734\"/>\n<polygon fill=\"#000000\" stroke=\"#000000\" points=\"1841.6665,-78.464 1844.5308,-68.2637 1835.9307,-74.4515 1841.6665,-78.464\"/>\n</g>\n<!-- 26 -->\n<g id=\"node27\" class=\"node\">\n<title>26</title>\n<polygon fill=\"#e7f3fc\" stroke=\"#000000\" points=\"2164,-187 1991,-187 1991,-104 2164,-104 2164,-187\"/>\n<text text-anchor=\"middle\" x=\"2077.5\" y=\"-171.8\" font-family=\"Helvetica,sans-Serif\" font-size=\"14.00\" fill=\"#000000\">industry_defense &lt;= 0.5</text>\n<text text-anchor=\"middle\" x=\"2077.5\" y=\"-156.8\" font-family=\"Helvetica,sans-Serif\" font-size=\"14.00\" fill=\"#000000\">entropy = 1.524</text>\n<text text-anchor=\"middle\" x=\"2077.5\" y=\"-141.8\" font-family=\"Helvetica,sans-Serif\" font-size=\"14.00\" fill=\"#000000\">samples = 67</text>\n<text text-anchor=\"middle\" x=\"2077.5\" y=\"-126.8\" font-family=\"Helvetica,sans-Serif\" font-size=\"14.00\" fill=\"#000000\">value = [1, 9, 31, 26]</text>\n<text text-anchor=\"middle\" x=\"2077.5\" y=\"-111.8\" font-family=\"Helvetica,sans-Serif\" font-size=\"14.00\" fill=\"#000000\">class = soldoff&#45;low</text>\n</g>\n<!-- 25&#45;&gt;26 -->\n<g id=\"edge26\" class=\"edge\">\n<title>25&#45;&gt;26</title>\n<path fill=\"none\" stroke=\"#000000\" d=\"M2077.5,-222.8796C2077.5,-214.6838 2077.5,-205.9891 2077.5,-197.5013\"/>\n<polygon fill=\"#000000\" stroke=\"#000000\" points=\"2081.0001,-197.298 2077.5,-187.2981 2074.0001,-197.2981 2081.0001,-197.298\"/>\n</g>\n<!-- 29 -->\n<g id=\"node30\" class=\"node\">\n<title>29</title>\n<polygon fill=\"#86ee7d\" stroke=\"#000000\" points=\"2422.5,-187 2234.5,-187 2234.5,-104 2422.5,-104 2422.5,-187\"/>\n<text text-anchor=\"middle\" x=\"2328.5\" y=\"-171.8\" font-family=\"Helvetica,sans-Serif\" font-size=\"14.00\" fill=\"#000000\">industry_healthcare &lt;= 0.5</text>\n<text text-anchor=\"middle\" x=\"2328.5\" y=\"-156.8\" font-family=\"Helvetica,sans-Serif\" font-size=\"14.00\" fill=\"#000000\">entropy = 1.346</text>\n<text text-anchor=\"middle\" x=\"2328.5\" y=\"-141.8\" font-family=\"Helvetica,sans-Serif\" font-size=\"14.00\" fill=\"#000000\">samples = 33</text>\n<text text-anchor=\"middle\" x=\"2328.5\" y=\"-126.8\" font-family=\"Helvetica,sans-Serif\" font-size=\"14.00\" fill=\"#000000\">value = [4, 23, 4, 2]</text>\n<text text-anchor=\"middle\" x=\"2328.5\" y=\"-111.8\" font-family=\"Helvetica,sans-Serif\" font-size=\"14.00\" fill=\"#000000\">class = bankrupt</text>\n</g>\n<!-- 25&#45;&gt;29 -->\n<g id=\"edge29\" class=\"edge\">\n<title>25&#45;&gt;29</title>\n<path fill=\"none\" stroke=\"#000000\" d=\"M2161.0794,-224.8747C2183.615,-214.1905 2208.1881,-202.5403 2231.3942,-191.5382\"/>\n<polygon fill=\"#000000\" stroke=\"#000000\" points=\"2233.0189,-194.6414 2240.5554,-187.1949 2230.02,-188.3163 2233.0189,-194.6414\"/>\n</g>\n<!-- 27 -->\n<g id=\"node28\" class=\"node\">\n<title>27</title>\n<polygon fill=\"#f8dcfa\" stroke=\"#000000\" points=\"2107,-68 1960,-68 1960,0 2107,0 2107,-68\"/>\n<text text-anchor=\"middle\" x=\"2033.5\" y=\"-52.8\" font-family=\"Helvetica,sans-Serif\" font-size=\"14.00\" fill=\"#000000\">entropy = 1.324</text>\n<text text-anchor=\"middle\" x=\"2033.5\" y=\"-37.8\" font-family=\"Helvetica,sans-Serif\" font-size=\"14.00\" fill=\"#000000\">samples = 48</text>\n<text text-anchor=\"middle\" x=\"2033.5\" y=\"-22.8\" font-family=\"Helvetica,sans-Serif\" font-size=\"14.00\" fill=\"#000000\">value = [1, 2, 20, 25]</text>\n<text text-anchor=\"middle\" x=\"2033.5\" y=\"-7.8\" font-family=\"Helvetica,sans-Serif\" font-size=\"14.00\" fill=\"#000000\">class = ipo</text>\n</g>\n<!-- 26&#45;&gt;27 -->\n<g id=\"edge27\" class=\"edge\">\n<title>26&#45;&gt;27</title>\n<path fill=\"none\" stroke=\"#000000\" d=\"M2061.116,-103.9815C2057.7431,-95.4342 2054.1814,-86.4086 2050.778,-77.7839\"/>\n<polygon fill=\"#000000\" stroke=\"#000000\" points=\"2053.9475,-76.2808 2047.0211,-68.2637 2047.4362,-78.8504 2053.9475,-76.2808\"/>\n</g>\n<!-- 28 -->\n<g id=\"node29\" class=\"node\">\n<title>28</title>\n<polygon fill=\"#bddef6\" stroke=\"#000000\" points=\"2264,-68 2125,-68 2125,0 2264,0 2264,-68\"/>\n<text text-anchor=\"middle\" x=\"2194.5\" y=\"-52.8\" font-family=\"Helvetica,sans-Serif\" font-size=\"14.00\" fill=\"#000000\">entropy = 1.211</text>\n<text text-anchor=\"middle\" x=\"2194.5\" y=\"-37.8\" font-family=\"Helvetica,sans-Serif\" font-size=\"14.00\" fill=\"#000000\">samples = 19</text>\n<text text-anchor=\"middle\" x=\"2194.5\" y=\"-22.8\" font-family=\"Helvetica,sans-Serif\" font-size=\"14.00\" fill=\"#000000\">value = [0, 7, 11, 1]</text>\n<text text-anchor=\"middle\" x=\"2194.5\" y=\"-7.8\" font-family=\"Helvetica,sans-Serif\" font-size=\"14.00\" fill=\"#000000\">class = soldoff&#45;low</text>\n</g>\n<!-- 26&#45;&gt;28 -->\n<g id=\"edge28\" class=\"edge\">\n<title>26&#45;&gt;28</title>\n<path fill=\"none\" stroke=\"#000000\" d=\"M2121.0665,-103.9815C2130.9034,-94.607 2141.344,-84.6572 2151.1711,-75.2921\"/>\n<polygon fill=\"#000000\" stroke=\"#000000\" points=\"2153.7216,-77.6963 2158.5462,-68.2637 2148.8924,-72.6289 2153.7216,-77.6963\"/>\n</g>\n<!-- 30 -->\n<g id=\"node31\" class=\"node\">\n<title>30</title>\n<polygon fill=\"#e0fbde\" stroke=\"#000000\" points=\"2413,-68 2282,-68 2282,0 2413,0 2413,-68\"/>\n<text text-anchor=\"middle\" x=\"2347.5\" y=\"-52.8\" font-family=\"Helvetica,sans-Serif\" font-size=\"14.00\" fill=\"#000000\">entropy = 1.906</text>\n<text text-anchor=\"middle\" x=\"2347.5\" y=\"-37.8\" font-family=\"Helvetica,sans-Serif\" font-size=\"14.00\" fill=\"#000000\">samples = 16</text>\n<text text-anchor=\"middle\" x=\"2347.5\" y=\"-22.8\" font-family=\"Helvetica,sans-Serif\" font-size=\"14.00\" fill=\"#000000\">value = [4, 6, 4, 2]</text>\n<text text-anchor=\"middle\" x=\"2347.5\" y=\"-7.8\" font-family=\"Helvetica,sans-Serif\" font-size=\"14.00\" fill=\"#000000\">class = bankrupt</text>\n</g>\n<!-- 29&#45;&gt;30 -->\n<g id=\"edge30\" class=\"edge\">\n<title>29&#45;&gt;30</title>\n<path fill=\"none\" stroke=\"#000000\" d=\"M2335.5749,-103.9815C2337.0001,-95.618 2338.5033,-86.7965 2339.9442,-78.3409\"/>\n<polygon fill=\"#000000\" stroke=\"#000000\" points=\"2343.4317,-78.7095 2341.6613,-68.2637 2336.5312,-77.5336 2343.4317,-78.7095\"/>\n</g>\n<!-- 31 -->\n<g id=\"node32\" class=\"node\">\n<title>31</title>\n<polygon fill=\"#47e539\" stroke=\"#000000\" points=\"2570,-68 2431,-68 2431,0 2570,0 2570,-68\"/>\n<text text-anchor=\"middle\" x=\"2500.5\" y=\"-52.8\" font-family=\"Helvetica,sans-Serif\" font-size=\"14.00\" fill=\"#000000\">entropy = 0.0</text>\n<text text-anchor=\"middle\" x=\"2500.5\" y=\"-37.8\" font-family=\"Helvetica,sans-Serif\" font-size=\"14.00\" fill=\"#000000\">samples = 17</text>\n<text text-anchor=\"middle\" x=\"2500.5\" y=\"-22.8\" font-family=\"Helvetica,sans-Serif\" font-size=\"14.00\" fill=\"#000000\">value = [0, 17, 0, 0]</text>\n<text text-anchor=\"middle\" x=\"2500.5\" y=\"-7.8\" font-family=\"Helvetica,sans-Serif\" font-size=\"14.00\" fill=\"#000000\">class = bankrupt</text>\n</g>\n<!-- 29&#45;&gt;31 -->\n<g id=\"edge31\" class=\"edge\">\n<title>29&#45;&gt;31</title>\n<path fill=\"none\" stroke=\"#000000\" d=\"M2392.5465,-103.9815C2407.7963,-94.0957 2424.0331,-83.5701 2439.1583,-73.7651\"/>\n<polygon fill=\"#000000\" stroke=\"#000000\" points=\"2441.4322,-76.4622 2447.9195,-68.0856 2437.6245,-70.5884 2441.4322,-76.4622\"/>\n</g>\n<!-- 33 -->\n<g id=\"node34\" class=\"node\">\n<title>33</title>\n<polygon fill=\"#dfeffb\" stroke=\"#000000\" points=\"2671.5,-425 2507.5,-425 2507.5,-342 2671.5,-342 2671.5,-425\"/>\n<text text-anchor=\"middle\" x=\"2589.5\" y=\"-409.8\" font-family=\"Helvetica,sans-Serif\" font-size=\"14.00\" fill=\"#000000\">pfunding &lt;= 950000.0</text>\n<text text-anchor=\"middle\" x=\"2589.5\" y=\"-394.8\" font-family=\"Helvetica,sans-Serif\" font-size=\"14.00\" fill=\"#000000\">entropy = 1.789</text>\n<text text-anchor=\"middle\" x=\"2589.5\" y=\"-379.8\" font-family=\"Helvetica,sans-Serif\" font-size=\"14.00\" fill=\"#000000\">samples = 201</text>\n<text text-anchor=\"middle\" x=\"2589.5\" y=\"-364.8\" font-family=\"Helvetica,sans-Serif\" font-size=\"14.00\" fill=\"#000000\">value = [65, 23, 87, 26]</text>\n<text text-anchor=\"middle\" x=\"2589.5\" y=\"-349.8\" font-family=\"Helvetica,sans-Serif\" font-size=\"14.00\" fill=\"#000000\">class = soldoff&#45;low</text>\n</g>\n<!-- 32&#45;&gt;33 -->\n<g id=\"edge33\" class=\"edge\">\n<title>32&#45;&gt;33</title>\n<path fill=\"none\" stroke=\"#000000\" d=\"M2589.5,-460.8796C2589.5,-452.6838 2589.5,-443.9891 2589.5,-435.5013\"/>\n<polygon fill=\"#000000\" stroke=\"#000000\" points=\"2593.0001,-435.298 2589.5,-425.2981 2586.0001,-435.2981 2593.0001,-435.298\"/>\n</g>\n<!-- 44 -->\n<g id=\"node45\" class=\"node\">\n<title>44</title>\n<polygon fill=\"#eeae80\" stroke=\"#000000\" points=\"2837,-417.5 2690,-417.5 2690,-349.5 2837,-349.5 2837,-417.5\"/>\n<text text-anchor=\"middle\" x=\"2763.5\" y=\"-402.3\" font-family=\"Helvetica,sans-Serif\" font-size=\"14.00\" fill=\"#000000\">entropy = 1.053</text>\n<text text-anchor=\"middle\" x=\"2763.5\" y=\"-387.3\" font-family=\"Helvetica,sans-Serif\" font-size=\"14.00\" fill=\"#000000\">samples = 90</text>\n<text text-anchor=\"middle\" x=\"2763.5\" y=\"-372.3\" font-family=\"Helvetica,sans-Serif\" font-size=\"14.00\" fill=\"#000000\">value = [65, 5, 20, 0]</text>\n<text text-anchor=\"middle\" x=\"2763.5\" y=\"-357.3\" font-family=\"Helvetica,sans-Serif\" font-size=\"14.00\" fill=\"#000000\">class = soldoff&#45;high</text>\n</g>\n<!-- 32&#45;&gt;44 -->\n<g id=\"edge44\" class=\"edge\">\n<title>32&#45;&gt;44</title>\n<path fill=\"none\" stroke=\"#000000\" d=\"M2650.3568,-460.8796C2668.1271,-448.7263 2687.5017,-435.4759 2705.1153,-423.4297\"/>\n<polygon fill=\"#000000\" stroke=\"#000000\" points=\"2707.3274,-426.1572 2713.6058,-417.623 2703.3757,-420.3792 2707.3274,-426.1572\"/>\n</g>\n<!-- 34 -->\n<g id=\"node35\" class=\"node\">\n<title>34</title>\n<polygon fill=\"#f0b489\" stroke=\"#000000\" points=\"2663,-306 2516,-306 2516,-223 2663,-223 2663,-306\"/>\n<text text-anchor=\"middle\" x=\"2589.5\" y=\"-290.8\" font-family=\"Helvetica,sans-Serif\" font-size=\"14.00\" fill=\"#000000\">elites &lt;= 7.5</text>\n<text text-anchor=\"middle\" x=\"2589.5\" y=\"-275.8\" font-family=\"Helvetica,sans-Serif\" font-size=\"14.00\" fill=\"#000000\">entropy = 1.366</text>\n<text text-anchor=\"middle\" x=\"2589.5\" y=\"-260.8\" font-family=\"Helvetica,sans-Serif\" font-size=\"14.00\" fill=\"#000000\">samples = 58</text>\n<text text-anchor=\"middle\" x=\"2589.5\" y=\"-245.8\" font-family=\"Helvetica,sans-Serif\" font-size=\"14.00\" fill=\"#000000\">value = [39, 5, 3, 11]</text>\n<text text-anchor=\"middle\" x=\"2589.5\" y=\"-230.8\" font-family=\"Helvetica,sans-Serif\" font-size=\"14.00\" fill=\"#000000\">class = soldoff&#45;high</text>\n</g>\n<!-- 33&#45;&gt;34 -->\n<g id=\"edge34\" class=\"edge\">\n<title>33&#45;&gt;34</title>\n<path fill=\"none\" stroke=\"#000000\" d=\"M2589.5,-341.8796C2589.5,-333.6838 2589.5,-324.9891 2589.5,-316.5013\"/>\n<polygon fill=\"#000000\" stroke=\"#000000\" points=\"2593.0001,-316.298 2589.5,-306.2981 2586.0001,-316.2981 2593.0001,-316.298\"/>\n</g>\n<!-- 37 -->\n<g id=\"node38\" class=\"node\">\n<title>37</title>\n<polygon fill=\"#9dcef2\" stroke=\"#000000\" points=\"2924.5,-306 2760.5,-306 2760.5,-223 2924.5,-223 2924.5,-306\"/>\n<text text-anchor=\"middle\" x=\"2842.5\" y=\"-290.8\" font-family=\"Helvetica,sans-Serif\" font-size=\"14.00\" fill=\"#000000\">elites &lt;= 4.5</text>\n<text text-anchor=\"middle\" x=\"2842.5\" y=\"-275.8\" font-family=\"Helvetica,sans-Serif\" font-size=\"14.00\" fill=\"#000000\">entropy = 1.616</text>\n<text text-anchor=\"middle\" x=\"2842.5\" y=\"-260.8\" font-family=\"Helvetica,sans-Serif\" font-size=\"14.00\" fill=\"#000000\">samples = 143</text>\n<text text-anchor=\"middle\" x=\"2842.5\" y=\"-245.8\" font-family=\"Helvetica,sans-Serif\" font-size=\"14.00\" fill=\"#000000\">value = [26, 18, 84, 15]</text>\n<text text-anchor=\"middle\" x=\"2842.5\" y=\"-230.8\" font-family=\"Helvetica,sans-Serif\" font-size=\"14.00\" fill=\"#000000\">class = soldoff&#45;low</text>\n</g>\n<!-- 33&#45;&gt;37 -->\n<g id=\"edge37\" class=\"edge\">\n<title>33&#45;&gt;37</title>\n<path fill=\"none\" stroke=\"#000000\" d=\"M2671.6418,-344.8641C2697.0683,-332.9046 2725.2323,-319.6575 2751.2374,-307.4259\"/>\n<polygon fill=\"#000000\" stroke=\"#000000\" points=\"2752.7784,-310.569 2760.3377,-303.1455 2749.799,-304.2347 2752.7784,-310.569\"/>\n</g>\n<!-- 35 -->\n<g id=\"node36\" class=\"node\">\n<title>35</title>\n<polygon fill=\"#eda672\" stroke=\"#000000\" points=\"2582,-179.5 2441,-179.5 2441,-111.5 2582,-111.5 2582,-179.5\"/>\n<text text-anchor=\"middle\" x=\"2511.5\" y=\"-164.3\" font-family=\"Helvetica,sans-Serif\" font-size=\"14.00\" fill=\"#000000\">entropy = 1.149</text>\n<text text-anchor=\"middle\" x=\"2511.5\" y=\"-149.3\" font-family=\"Helvetica,sans-Serif\" font-size=\"14.00\" fill=\"#000000\">samples = 36</text>\n<text text-anchor=\"middle\" x=\"2511.5\" y=\"-134.3\" font-family=\"Helvetica,sans-Serif\" font-size=\"14.00\" fill=\"#000000\">value = [27, 1, 3, 5]</text>\n<text text-anchor=\"middle\" x=\"2511.5\" y=\"-119.3\" font-family=\"Helvetica,sans-Serif\" font-size=\"14.00\" fill=\"#000000\">class = soldoff&#45;high</text>\n</g>\n<!-- 34&#45;&gt;35 -->\n<g id=\"edge35\" class=\"edge\">\n<title>34&#45;&gt;35</title>\n<path fill=\"none\" stroke=\"#000000\" d=\"M2562.2194,-222.8796C2554.8677,-211.6636 2546.9036,-199.5131 2539.5126,-188.2372\"/>\n<polygon fill=\"#000000\" stroke=\"#000000\" points=\"2542.4014,-186.2598 2533.9921,-179.8149 2536.5469,-190.0972 2542.4014,-186.2598\"/>\n</g>\n<!-- 36 -->\n<g id=\"node37\" class=\"node\">\n<title>36</title>\n<polygon fill=\"#f5d0b5\" stroke=\"#000000\" points=\"2741,-179.5 2600,-179.5 2600,-111.5 2741,-111.5 2741,-179.5\"/>\n<text text-anchor=\"middle\" x=\"2670.5\" y=\"-164.3\" font-family=\"Helvetica,sans-Serif\" font-size=\"14.00\" fill=\"#000000\">entropy = 1.435</text>\n<text text-anchor=\"middle\" x=\"2670.5\" y=\"-149.3\" font-family=\"Helvetica,sans-Serif\" font-size=\"14.00\" fill=\"#000000\">samples = 22</text>\n<text text-anchor=\"middle\" x=\"2670.5\" y=\"-134.3\" font-family=\"Helvetica,sans-Serif\" font-size=\"14.00\" fill=\"#000000\">value = [12, 4, 0, 6]</text>\n<text text-anchor=\"middle\" x=\"2670.5\" y=\"-119.3\" font-family=\"Helvetica,sans-Serif\" font-size=\"14.00\" fill=\"#000000\">class = soldoff&#45;high</text>\n</g>\n<!-- 34&#45;&gt;36 -->\n<g id=\"edge36\" class=\"edge\">\n<title>34&#45;&gt;36</title>\n<path fill=\"none\" stroke=\"#000000\" d=\"M2617.8299,-222.8796C2625.4643,-211.6636 2633.7348,-199.5131 2641.4099,-188.2372\"/>\n<polygon fill=\"#000000\" stroke=\"#000000\" points=\"2644.4092,-190.0511 2647.1428,-179.8149 2638.6225,-186.1122 2644.4092,-190.0511\"/>\n</g>\n<!-- 38 -->\n<g id=\"node39\" class=\"node\">\n<title>38</title>\n<polygon fill=\"#6eb7ec\" stroke=\"#000000\" points=\"2926,-187 2759,-187 2759,-104 2926,-104 2926,-187\"/>\n<text text-anchor=\"middle\" x=\"2842.5\" y=\"-171.8\" font-family=\"Helvetica,sans-Serif\" font-size=\"14.00\" fill=\"#000000\">pfunding &lt;= 2050000.0</text>\n<text text-anchor=\"middle\" x=\"2842.5\" y=\"-156.8\" font-family=\"Helvetica,sans-Serif\" font-size=\"14.00\" fill=\"#000000\">entropy = 1.118</text>\n<text text-anchor=\"middle\" x=\"2842.5\" y=\"-141.8\" font-family=\"Helvetica,sans-Serif\" font-size=\"14.00\" fill=\"#000000\">samples = 34</text>\n<text text-anchor=\"middle\" x=\"2842.5\" y=\"-126.8\" font-family=\"Helvetica,sans-Serif\" font-size=\"14.00\" fill=\"#000000\">value = [3, 1, 26, 4]</text>\n<text text-anchor=\"middle\" x=\"2842.5\" y=\"-111.8\" font-family=\"Helvetica,sans-Serif\" font-size=\"14.00\" fill=\"#000000\">class = soldoff&#45;low</text>\n</g>\n<!-- 37&#45;&gt;38 -->\n<g id=\"edge38\" class=\"edge\">\n<title>37&#45;&gt;38</title>\n<path fill=\"none\" stroke=\"#000000\" d=\"M2842.5,-222.8796C2842.5,-214.6838 2842.5,-205.9891 2842.5,-197.5013\"/>\n<polygon fill=\"#000000\" stroke=\"#000000\" points=\"2846.0001,-197.298 2842.5,-187.2981 2839.0001,-197.2981 2846.0001,-197.298\"/>\n</g>\n<!-- 41 -->\n<g id=\"node42\" class=\"node\">\n<title>41</title>\n<polygon fill=\"#aed7f4\" stroke=\"#000000\" points=\"3111,-187 2944,-187 2944,-104 3111,-104 3111,-187\"/>\n<text text-anchor=\"middle\" x=\"3027.5\" y=\"-171.8\" font-family=\"Helvetica,sans-Serif\" font-size=\"14.00\" fill=\"#000000\">pfunding &lt;= 1250000.0</text>\n<text text-anchor=\"middle\" x=\"3027.5\" y=\"-156.8\" font-family=\"Helvetica,sans-Serif\" font-size=\"14.00\" fill=\"#000000\">entropy = 1.71</text>\n<text text-anchor=\"middle\" x=\"3027.5\" y=\"-141.8\" font-family=\"Helvetica,sans-Serif\" font-size=\"14.00\" fill=\"#000000\">samples = 109</text>\n<text text-anchor=\"middle\" x=\"3027.5\" y=\"-126.8\" font-family=\"Helvetica,sans-Serif\" font-size=\"14.00\" fill=\"#000000\">value = [23, 17, 58, 11]</text>\n<text text-anchor=\"middle\" x=\"3027.5\" y=\"-111.8\" font-family=\"Helvetica,sans-Serif\" font-size=\"14.00\" fill=\"#000000\">class = soldoff&#45;low</text>\n</g>\n<!-- 37&#45;&gt;41 -->\n<g id=\"edge41\" class=\"edge\">\n<title>37&#45;&gt;41</title>\n<path fill=\"none\" stroke=\"#000000\" d=\"M2907.204,-222.8796C2922.4135,-213.0962 2938.7282,-202.6019 2954.2818,-192.5971\"/>\n<polygon fill=\"#000000\" stroke=\"#000000\" points=\"2956.3157,-195.4505 2962.8325,-187.0969 2952.5287,-189.5632 2956.3157,-195.4505\"/>\n</g>\n<!-- 39 -->\n<g id=\"node40\" class=\"node\">\n<title>39</title>\n<polygon fill=\"#83c2ef\" stroke=\"#000000\" points=\"2763,-68 2628,-68 2628,0 2763,0 2763,-68\"/>\n<text text-anchor=\"middle\" x=\"2695.5\" y=\"-52.8\" font-family=\"Helvetica,sans-Serif\" font-size=\"14.00\" fill=\"#000000\">entropy = 1.157</text>\n<text text-anchor=\"middle\" x=\"2695.5\" y=\"-37.8\" font-family=\"Helvetica,sans-Serif\" font-size=\"14.00\" fill=\"#000000\">samples = 10</text>\n<text text-anchor=\"middle\" x=\"2695.5\" y=\"-22.8\" font-family=\"Helvetica,sans-Serif\" font-size=\"14.00\" fill=\"#000000\">value = [2, 1, 7, 0]</text>\n<text text-anchor=\"middle\" x=\"2695.5\" y=\"-7.8\" font-family=\"Helvetica,sans-Serif\" font-size=\"14.00\" fill=\"#000000\">class = soldoff&#45;low</text>\n</g>\n<!-- 38&#45;&gt;39 -->\n<g id=\"edge39\" class=\"edge\">\n<title>38&#45;&gt;39</title>\n<path fill=\"none\" stroke=\"#000000\" d=\"M2787.7626,-103.9815C2775.0399,-94.3313 2761.5134,-84.0714 2748.8515,-74.4673\"/>\n<polygon fill=\"#000000\" stroke=\"#000000\" points=\"2750.7553,-71.5184 2740.6727,-68.2637 2746.525,-77.0956 2750.7553,-71.5184\"/>\n</g>\n<!-- 40 -->\n<g id=\"node41\" class=\"node\">\n<title>40</title>\n<polygon fill=\"#6ab6ec\" stroke=\"#000000\" points=\"2920,-68 2781,-68 2781,0 2920,0 2920,-68\"/>\n<text text-anchor=\"middle\" x=\"2850.5\" y=\"-52.8\" font-family=\"Helvetica,sans-Serif\" font-size=\"14.00\" fill=\"#000000\">entropy = 0.889</text>\n<text text-anchor=\"middle\" x=\"2850.5\" y=\"-37.8\" font-family=\"Helvetica,sans-Serif\" font-size=\"14.00\" fill=\"#000000\">samples = 24</text>\n<text text-anchor=\"middle\" x=\"2850.5\" y=\"-22.8\" font-family=\"Helvetica,sans-Serif\" font-size=\"14.00\" fill=\"#000000\">value = [1, 0, 19, 4]</text>\n<text text-anchor=\"middle\" x=\"2850.5\" y=\"-7.8\" font-family=\"Helvetica,sans-Serif\" font-size=\"14.00\" fill=\"#000000\">class = soldoff&#45;low</text>\n</g>\n<!-- 38&#45;&gt;40 -->\n<g id=\"edge40\" class=\"edge\">\n<title>38&#45;&gt;40</title>\n<path fill=\"none\" stroke=\"#000000\" d=\"M2845.4789,-103.9815C2846.079,-95.618 2846.7119,-86.7965 2847.3186,-78.3409\"/>\n<polygon fill=\"#000000\" stroke=\"#000000\" points=\"2850.8169,-78.4885 2848.0416,-68.2637 2843.8349,-77.9875 2850.8169,-78.4885\"/>\n</g>\n<!-- 42 -->\n<g id=\"node43\" class=\"node\">\n<title>42</title>\n<polygon fill=\"#cee6f8\" stroke=\"#000000\" points=\"3088,-68 2953,-68 2953,0 3088,0 3088,-68\"/>\n<text text-anchor=\"middle\" x=\"3020.5\" y=\"-52.8\" font-family=\"Helvetica,sans-Serif\" font-size=\"14.00\" fill=\"#000000\">entropy = 1.459</text>\n<text text-anchor=\"middle\" x=\"3020.5\" y=\"-37.8\" font-family=\"Helvetica,sans-Serif\" font-size=\"14.00\" fill=\"#000000\">samples = 12</text>\n<text text-anchor=\"middle\" x=\"3020.5\" y=\"-22.8\" font-family=\"Helvetica,sans-Serif\" font-size=\"14.00\" fill=\"#000000\">value = [0, 4, 6, 2]</text>\n<text text-anchor=\"middle\" x=\"3020.5\" y=\"-7.8\" font-family=\"Helvetica,sans-Serif\" font-size=\"14.00\" fill=\"#000000\">class = soldoff&#45;low</text>\n</g>\n<!-- 41&#45;&gt;42 -->\n<g id=\"edge42\" class=\"edge\">\n<title>41&#45;&gt;42</title>\n<path fill=\"none\" stroke=\"#000000\" d=\"M3024.8935,-103.9815C3024.3684,-95.618 3023.8146,-86.7965 3023.2837,-78.3409\"/>\n<polygon fill=\"#000000\" stroke=\"#000000\" points=\"3026.7709,-78.0247 3022.6511,-68.2637 3019.7846,-78.4634 3026.7709,-78.0247\"/>\n</g>\n<!-- 43 -->\n<g id=\"node44\" class=\"node\">\n<title>43</title>\n<polygon fill=\"#b1d9f5\" stroke=\"#000000\" points=\"3261,-68 3106,-68 3106,0 3261,0 3261,-68\"/>\n<text text-anchor=\"middle\" x=\"3183.5\" y=\"-52.8\" font-family=\"Helvetica,sans-Serif\" font-size=\"14.00\" fill=\"#000000\">entropy = 1.681</text>\n<text text-anchor=\"middle\" x=\"3183.5\" y=\"-37.8\" font-family=\"Helvetica,sans-Serif\" font-size=\"14.00\" fill=\"#000000\">samples = 97</text>\n<text text-anchor=\"middle\" x=\"3183.5\" y=\"-22.8\" font-family=\"Helvetica,sans-Serif\" font-size=\"14.00\" fill=\"#000000\">value = [23, 13, 52, 9]</text>\n<text text-anchor=\"middle\" x=\"3183.5\" y=\"-7.8\" font-family=\"Helvetica,sans-Serif\" font-size=\"14.00\" fill=\"#000000\">class = soldoff&#45;low</text>\n</g>\n<!-- 41&#45;&gt;43 -->\n<g id=\"edge43\" class=\"edge\">\n<title>41&#45;&gt;43</title>\n<path fill=\"none\" stroke=\"#000000\" d=\"M3085.5886,-103.9815C3099.2189,-94.2394 3113.7184,-83.8759 3127.2658,-74.193\"/>\n<polygon fill=\"#000000\" stroke=\"#000000\" points=\"3129.4612,-76.926 3135.5616,-68.2637 3125.3908,-71.2311 3129.4612,-76.926\"/>\n</g>\n</g>\n</svg>\n"
          },
          "metadata": {},
          "execution_count": 74
        }
      ]
    },
    {
      "cell_type": "markdown",
      "source": [
        "# Q5\n",
        "\n",
        "**Arcturus has $11.5 million to invest and is considering from among 23 applicant firms. Create a Decision Trees model using your most accurate model (i.e., whichever model from Model 1-4 has the highest accuracy percentage), then apply the model as necessary to make predictions regarding the applicant firms.** \n",
        "\n",
        "**Data regarding these applicant firms can be found in the `fund-applicants.csv` data file. Note that there is no “outcome” column (the outcome hasn’t happened yet!).**\n",
        "\n",
        "**However, there is an `amount` column, which indicates the requested funding amount. Arcturus wants to make as much money as possible by investing its \\$11.5 million, which may require this amount be spread across multiple companies. However, for any specific applicant company, Arcturus must either invest the full requested amount or not at all (e.g., if a company has requested $2,500,000, then Arcturus must either invest \\$2,500,000 or make no investment in the company).**\n",
        "\n",
        "**Begin by importing the `fund-applicant.csv` file, then apply your best model to this new data (after taking any required preprocessing steps).**\n"
      ],
      "metadata": {
        "id": "9-5BKgd5e9sR"
      }
    },
    {
      "cell_type": "code",
      "source": [
        "df_2 = pd.read_csv('/content/fund-applicants.csv')\n",
        "df_2.head()"
      ],
      "metadata": {
        "id": "6wdDlWEBg59s",
        "colab": {
          "base_uri": "https://localhost:8080/",
          "height": 206
        },
        "outputId": "d466b55d-62a2-41dd-8bff-ee78117da6b0"
      },
      "execution_count": 76,
      "outputs": [
        {
          "output_type": "execute_result",
          "data": {
            "text/plain": [
              "   id    industry  months  pfunding  patents  smember  elites   amount\n",
              "0   1        tech      36   6800000        1        0       4  4000000\n",
              "1   2       media      23   6300000        0        1       3  1700000\n",
              "2   3  healthcare      27   6100000        0        1       0  3000000\n",
              "3   4     defense      33   2800000        1        0       0  1000000\n",
              "4   5     defense      39   5600000        1        0       2  5000000"
            ],
            "text/html": [
              "\n",
              "  <div id=\"df-b4784b91-de74-43a2-9198-ef21ae85b759\">\n",
              "    <div class=\"colab-df-container\">\n",
              "      <div>\n",
              "<style scoped>\n",
              "    .dataframe tbody tr th:only-of-type {\n",
              "        vertical-align: middle;\n",
              "    }\n",
              "\n",
              "    .dataframe tbody tr th {\n",
              "        vertical-align: top;\n",
              "    }\n",
              "\n",
              "    .dataframe thead th {\n",
              "        text-align: right;\n",
              "    }\n",
              "</style>\n",
              "<table border=\"1\" class=\"dataframe\">\n",
              "  <thead>\n",
              "    <tr style=\"text-align: right;\">\n",
              "      <th></th>\n",
              "      <th>id</th>\n",
              "      <th>industry</th>\n",
              "      <th>months</th>\n",
              "      <th>pfunding</th>\n",
              "      <th>patents</th>\n",
              "      <th>smember</th>\n",
              "      <th>elites</th>\n",
              "      <th>amount</th>\n",
              "    </tr>\n",
              "  </thead>\n",
              "  <tbody>\n",
              "    <tr>\n",
              "      <th>0</th>\n",
              "      <td>1</td>\n",
              "      <td>tech</td>\n",
              "      <td>36</td>\n",
              "      <td>6800000</td>\n",
              "      <td>1</td>\n",
              "      <td>0</td>\n",
              "      <td>4</td>\n",
              "      <td>4000000</td>\n",
              "    </tr>\n",
              "    <tr>\n",
              "      <th>1</th>\n",
              "      <td>2</td>\n",
              "      <td>media</td>\n",
              "      <td>23</td>\n",
              "      <td>6300000</td>\n",
              "      <td>0</td>\n",
              "      <td>1</td>\n",
              "      <td>3</td>\n",
              "      <td>1700000</td>\n",
              "    </tr>\n",
              "    <tr>\n",
              "      <th>2</th>\n",
              "      <td>3</td>\n",
              "      <td>healthcare</td>\n",
              "      <td>27</td>\n",
              "      <td>6100000</td>\n",
              "      <td>0</td>\n",
              "      <td>1</td>\n",
              "      <td>0</td>\n",
              "      <td>3000000</td>\n",
              "    </tr>\n",
              "    <tr>\n",
              "      <th>3</th>\n",
              "      <td>4</td>\n",
              "      <td>defense</td>\n",
              "      <td>33</td>\n",
              "      <td>2800000</td>\n",
              "      <td>1</td>\n",
              "      <td>0</td>\n",
              "      <td>0</td>\n",
              "      <td>1000000</td>\n",
              "    </tr>\n",
              "    <tr>\n",
              "      <th>4</th>\n",
              "      <td>5</td>\n",
              "      <td>defense</td>\n",
              "      <td>39</td>\n",
              "      <td>5600000</td>\n",
              "      <td>1</td>\n",
              "      <td>0</td>\n",
              "      <td>2</td>\n",
              "      <td>5000000</td>\n",
              "    </tr>\n",
              "  </tbody>\n",
              "</table>\n",
              "</div>\n",
              "      <button class=\"colab-df-convert\" onclick=\"convertToInteractive('df-b4784b91-de74-43a2-9198-ef21ae85b759')\"\n",
              "              title=\"Convert this dataframe to an interactive table.\"\n",
              "              style=\"display:none;\">\n",
              "        \n",
              "  <svg xmlns=\"http://www.w3.org/2000/svg\" height=\"24px\"viewBox=\"0 0 24 24\"\n",
              "       width=\"24px\">\n",
              "    <path d=\"M0 0h24v24H0V0z\" fill=\"none\"/>\n",
              "    <path d=\"M18.56 5.44l.94 2.06.94-2.06 2.06-.94-2.06-.94-.94-2.06-.94 2.06-2.06.94zm-11 1L8.5 8.5l.94-2.06 2.06-.94-2.06-.94L8.5 2.5l-.94 2.06-2.06.94zm10 10l.94 2.06.94-2.06 2.06-.94-2.06-.94-.94-2.06-.94 2.06-2.06.94z\"/><path d=\"M17.41 7.96l-1.37-1.37c-.4-.4-.92-.59-1.43-.59-.52 0-1.04.2-1.43.59L10.3 9.45l-7.72 7.72c-.78.78-.78 2.05 0 2.83L4 21.41c.39.39.9.59 1.41.59.51 0 1.02-.2 1.41-.59l7.78-7.78 2.81-2.81c.8-.78.8-2.07 0-2.86zM5.41 20L4 18.59l7.72-7.72 1.47 1.35L5.41 20z\"/>\n",
              "  </svg>\n",
              "      </button>\n",
              "      \n",
              "  <style>\n",
              "    .colab-df-container {\n",
              "      display:flex;\n",
              "      flex-wrap:wrap;\n",
              "      gap: 12px;\n",
              "    }\n",
              "\n",
              "    .colab-df-convert {\n",
              "      background-color: #E8F0FE;\n",
              "      border: none;\n",
              "      border-radius: 50%;\n",
              "      cursor: pointer;\n",
              "      display: none;\n",
              "      fill: #1967D2;\n",
              "      height: 32px;\n",
              "      padding: 0 0 0 0;\n",
              "      width: 32px;\n",
              "    }\n",
              "\n",
              "    .colab-df-convert:hover {\n",
              "      background-color: #E2EBFA;\n",
              "      box-shadow: 0px 1px 2px rgba(60, 64, 67, 0.3), 0px 1px 3px 1px rgba(60, 64, 67, 0.15);\n",
              "      fill: #174EA6;\n",
              "    }\n",
              "\n",
              "    [theme=dark] .colab-df-convert {\n",
              "      background-color: #3B4455;\n",
              "      fill: #D2E3FC;\n",
              "    }\n",
              "\n",
              "    [theme=dark] .colab-df-convert:hover {\n",
              "      background-color: #434B5C;\n",
              "      box-shadow: 0px 1px 3px 1px rgba(0, 0, 0, 0.15);\n",
              "      filter: drop-shadow(0px 1px 2px rgba(0, 0, 0, 0.3));\n",
              "      fill: #FFFFFF;\n",
              "    }\n",
              "  </style>\n",
              "\n",
              "      <script>\n",
              "        const buttonEl =\n",
              "          document.querySelector('#df-b4784b91-de74-43a2-9198-ef21ae85b759 button.colab-df-convert');\n",
              "        buttonEl.style.display =\n",
              "          google.colab.kernel.accessAllowed ? 'block' : 'none';\n",
              "\n",
              "        async function convertToInteractive(key) {\n",
              "          const element = document.querySelector('#df-b4784b91-de74-43a2-9198-ef21ae85b759');\n",
              "          const dataTable =\n",
              "            await google.colab.kernel.invokeFunction('convertToInteractive',\n",
              "                                                     [key], {});\n",
              "          if (!dataTable) return;\n",
              "\n",
              "          const docLinkHtml = 'Like what you see? Visit the ' +\n",
              "            '<a target=\"_blank\" href=https://colab.research.google.com/notebooks/data_table.ipynb>data table notebook</a>'\n",
              "            + ' to learn more about interactive tables.';\n",
              "          element.innerHTML = '';\n",
              "          dataTable['output_type'] = 'display_data';\n",
              "          await google.colab.output.renderOutput(dataTable, element);\n",
              "          const docLink = document.createElement('div');\n",
              "          docLink.innerHTML = docLinkHtml;\n",
              "          element.appendChild(docLink);\n",
              "        }\n",
              "      </script>\n",
              "    </div>\n",
              "  </div>\n",
              "  "
            ]
          },
          "metadata": {},
          "execution_count": 76
        }
      ]
    },
    {
      "cell_type": "code",
      "source": [
        "x = df_2.drop(['id', 'amount'], axis=1)\n",
        "x = pd.get_dummies(data=x, drop_first=False)"
      ],
      "metadata": {
        "id": "C5iydLj4hDik"
      },
      "execution_count": 90,
      "outputs": []
    },
    {
      "cell_type": "markdown",
      "source": [
        "## A\n",
        "\n",
        "**In addition to producing the predicted outcomes, also compute the predicted probabilities of the outcome using the `model.predict_proba()` function.**\n",
        "\n",
        "**Add both the predicted outcome and the predicted probability as columns to the your dataframe.**"
      ],
      "metadata": {
        "id": "ORzTzbO9l3og"
      }
    },
    {
      "cell_type": "code",
      "source": [
        "predictions = model_2.predict(x)\n",
        "proba = np.max(model_2.predict_proba(x), axis=1)"
      ],
      "metadata": {
        "id": "DCcLF2ZqhQrE"
      },
      "execution_count": 93,
      "outputs": []
    },
    {
      "cell_type": "code",
      "source": [
        "df_2['Predicted_class']= predictions\n",
        "df_2['Predicted_prob'] = proba\n",
        "df_2"
      ],
      "metadata": {
        "id": "bbcFG76Ph8C7",
        "colab": {
          "base_uri": "https://localhost:8080/",
          "height": 605
        },
        "outputId": "6083557e-e69e-40bf-8fc8-75484a1e4955"
      },
      "execution_count": 94,
      "outputs": [
        {
          "output_type": "execute_result",
          "data": {
            "text/plain": [
              "    id    industry  months  pfunding  patents  smember  elites   amount  \\\n",
              "0    1        tech      36   6800000        1        0       4  4000000   \n",
              "1    2       media      23   6300000        0        1       3  1700000   \n",
              "2    3  healthcare      27   6100000        0        1       0  3000000   \n",
              "3    4     defense      33   2800000        1        0       0  1000000   \n",
              "4    5     defense      39   5600000        1        0       2  5000000   \n",
              "5    6        tech      18   3500000        0        0       8  2500000   \n",
              "6    7        tech      24   4800000        0        1       6  4000000   \n",
              "7    8     defense      30   3900000        0        0       1  1200000   \n",
              "8    9       media      41   7800000        0        0       5  3500000   \n",
              "9   10     defense      21   7900000        0        0       3  4000000   \n",
              "10  11     defense      33   4600000        0        0       3  1500000   \n",
              "11  12        tech      33   7000000        1        1      10  3500000   \n",
              "12  13     defense      33   7200000        0        0       5  3600000   \n",
              "13  14  healthcare      32   2500000        1        0       2  2000000   \n",
              "14  15        tech      38   3200000        1        0       7  1800000   \n",
              "15  16        tech      20    500000        1        0       4  1000000   \n",
              "16  17  healthcare      32   2400000        0        0       6  1500000   \n",
              "17  18  healthcare      31   4700000        0        0       4  4000000   \n",
              "18  19  healthcare      37   5000000        0        0       0  1500000   \n",
              "19  20     defense      20   4000000        0        1       0  2000000   \n",
              "20  21  healthcare      37   7500000        0        1       7  5000000   \n",
              "21  22       media      26   4700000        1        1       0  2500000   \n",
              "22  23        tech      23   6500000        0        0      10  4000000   \n",
              "\n",
              "   Predicted_class  Predicted_prob  \n",
              "0         bankrupt        0.722222  \n",
              "1     soldoff-high        0.648148  \n",
              "2      soldoff-low        0.288889  \n",
              "3      soldoff-low        0.531250  \n",
              "4      soldoff-low        0.531250  \n",
              "5     soldoff-high        0.536082  \n",
              "6     soldoff-high        0.536082  \n",
              "7         bankrupt        0.523364  \n",
              "8         bankrupt        0.636364  \n",
              "9         bankrupt        0.523364  \n",
              "10        bankrupt        0.523364  \n",
              "11        bankrupt        0.722222  \n",
              "12        bankrupt        0.523364  \n",
              "13    soldoff-high        0.376471  \n",
              "14    soldoff-high        0.536082  \n",
              "15        bankrupt        0.750000  \n",
              "16        bankrupt        0.487179  \n",
              "17        bankrupt        0.487179  \n",
              "18     soldoff-low        0.288889  \n",
              "19        bankrupt        0.523364  \n",
              "20             ipo        1.000000  \n",
              "21    soldoff-high        0.487805  \n",
              "22        bankrupt        0.722222  "
            ],
            "text/html": [
              "\n",
              "  <div id=\"df-9edbdd3e-de57-4aba-a607-35543a02a62d\">\n",
              "    <div class=\"colab-df-container\">\n",
              "      <div>\n",
              "<style scoped>\n",
              "    .dataframe tbody tr th:only-of-type {\n",
              "        vertical-align: middle;\n",
              "    }\n",
              "\n",
              "    .dataframe tbody tr th {\n",
              "        vertical-align: top;\n",
              "    }\n",
              "\n",
              "    .dataframe thead th {\n",
              "        text-align: right;\n",
              "    }\n",
              "</style>\n",
              "<table border=\"1\" class=\"dataframe\">\n",
              "  <thead>\n",
              "    <tr style=\"text-align: right;\">\n",
              "      <th></th>\n",
              "      <th>id</th>\n",
              "      <th>industry</th>\n",
              "      <th>months</th>\n",
              "      <th>pfunding</th>\n",
              "      <th>patents</th>\n",
              "      <th>smember</th>\n",
              "      <th>elites</th>\n",
              "      <th>amount</th>\n",
              "      <th>Predicted_class</th>\n",
              "      <th>Predicted_prob</th>\n",
              "    </tr>\n",
              "  </thead>\n",
              "  <tbody>\n",
              "    <tr>\n",
              "      <th>0</th>\n",
              "      <td>1</td>\n",
              "      <td>tech</td>\n",
              "      <td>36</td>\n",
              "      <td>6800000</td>\n",
              "      <td>1</td>\n",
              "      <td>0</td>\n",
              "      <td>4</td>\n",
              "      <td>4000000</td>\n",
              "      <td>bankrupt</td>\n",
              "      <td>0.722222</td>\n",
              "    </tr>\n",
              "    <tr>\n",
              "      <th>1</th>\n",
              "      <td>2</td>\n",
              "      <td>media</td>\n",
              "      <td>23</td>\n",
              "      <td>6300000</td>\n",
              "      <td>0</td>\n",
              "      <td>1</td>\n",
              "      <td>3</td>\n",
              "      <td>1700000</td>\n",
              "      <td>soldoff-high</td>\n",
              "      <td>0.648148</td>\n",
              "    </tr>\n",
              "    <tr>\n",
              "      <th>2</th>\n",
              "      <td>3</td>\n",
              "      <td>healthcare</td>\n",
              "      <td>27</td>\n",
              "      <td>6100000</td>\n",
              "      <td>0</td>\n",
              "      <td>1</td>\n",
              "      <td>0</td>\n",
              "      <td>3000000</td>\n",
              "      <td>soldoff-low</td>\n",
              "      <td>0.288889</td>\n",
              "    </tr>\n",
              "    <tr>\n",
              "      <th>3</th>\n",
              "      <td>4</td>\n",
              "      <td>defense</td>\n",
              "      <td>33</td>\n",
              "      <td>2800000</td>\n",
              "      <td>1</td>\n",
              "      <td>0</td>\n",
              "      <td>0</td>\n",
              "      <td>1000000</td>\n",
              "      <td>soldoff-low</td>\n",
              "      <td>0.531250</td>\n",
              "    </tr>\n",
              "    <tr>\n",
              "      <th>4</th>\n",
              "      <td>5</td>\n",
              "      <td>defense</td>\n",
              "      <td>39</td>\n",
              "      <td>5600000</td>\n",
              "      <td>1</td>\n",
              "      <td>0</td>\n",
              "      <td>2</td>\n",
              "      <td>5000000</td>\n",
              "      <td>soldoff-low</td>\n",
              "      <td>0.531250</td>\n",
              "    </tr>\n",
              "    <tr>\n",
              "      <th>5</th>\n",
              "      <td>6</td>\n",
              "      <td>tech</td>\n",
              "      <td>18</td>\n",
              "      <td>3500000</td>\n",
              "      <td>0</td>\n",
              "      <td>0</td>\n",
              "      <td>8</td>\n",
              "      <td>2500000</td>\n",
              "      <td>soldoff-high</td>\n",
              "      <td>0.536082</td>\n",
              "    </tr>\n",
              "    <tr>\n",
              "      <th>6</th>\n",
              "      <td>7</td>\n",
              "      <td>tech</td>\n",
              "      <td>24</td>\n",
              "      <td>4800000</td>\n",
              "      <td>0</td>\n",
              "      <td>1</td>\n",
              "      <td>6</td>\n",
              "      <td>4000000</td>\n",
              "      <td>soldoff-high</td>\n",
              "      <td>0.536082</td>\n",
              "    </tr>\n",
              "    <tr>\n",
              "      <th>7</th>\n",
              "      <td>8</td>\n",
              "      <td>defense</td>\n",
              "      <td>30</td>\n",
              "      <td>3900000</td>\n",
              "      <td>0</td>\n",
              "      <td>0</td>\n",
              "      <td>1</td>\n",
              "      <td>1200000</td>\n",
              "      <td>bankrupt</td>\n",
              "      <td>0.523364</td>\n",
              "    </tr>\n",
              "    <tr>\n",
              "      <th>8</th>\n",
              "      <td>9</td>\n",
              "      <td>media</td>\n",
              "      <td>41</td>\n",
              "      <td>7800000</td>\n",
              "      <td>0</td>\n",
              "      <td>0</td>\n",
              "      <td>5</td>\n",
              "      <td>3500000</td>\n",
              "      <td>bankrupt</td>\n",
              "      <td>0.636364</td>\n",
              "    </tr>\n",
              "    <tr>\n",
              "      <th>9</th>\n",
              "      <td>10</td>\n",
              "      <td>defense</td>\n",
              "      <td>21</td>\n",
              "      <td>7900000</td>\n",
              "      <td>0</td>\n",
              "      <td>0</td>\n",
              "      <td>3</td>\n",
              "      <td>4000000</td>\n",
              "      <td>bankrupt</td>\n",
              "      <td>0.523364</td>\n",
              "    </tr>\n",
              "    <tr>\n",
              "      <th>10</th>\n",
              "      <td>11</td>\n",
              "      <td>defense</td>\n",
              "      <td>33</td>\n",
              "      <td>4600000</td>\n",
              "      <td>0</td>\n",
              "      <td>0</td>\n",
              "      <td>3</td>\n",
              "      <td>1500000</td>\n",
              "      <td>bankrupt</td>\n",
              "      <td>0.523364</td>\n",
              "    </tr>\n",
              "    <tr>\n",
              "      <th>11</th>\n",
              "      <td>12</td>\n",
              "      <td>tech</td>\n",
              "      <td>33</td>\n",
              "      <td>7000000</td>\n",
              "      <td>1</td>\n",
              "      <td>1</td>\n",
              "      <td>10</td>\n",
              "      <td>3500000</td>\n",
              "      <td>bankrupt</td>\n",
              "      <td>0.722222</td>\n",
              "    </tr>\n",
              "    <tr>\n",
              "      <th>12</th>\n",
              "      <td>13</td>\n",
              "      <td>defense</td>\n",
              "      <td>33</td>\n",
              "      <td>7200000</td>\n",
              "      <td>0</td>\n",
              "      <td>0</td>\n",
              "      <td>5</td>\n",
              "      <td>3600000</td>\n",
              "      <td>bankrupt</td>\n",
              "      <td>0.523364</td>\n",
              "    </tr>\n",
              "    <tr>\n",
              "      <th>13</th>\n",
              "      <td>14</td>\n",
              "      <td>healthcare</td>\n",
              "      <td>32</td>\n",
              "      <td>2500000</td>\n",
              "      <td>1</td>\n",
              "      <td>0</td>\n",
              "      <td>2</td>\n",
              "      <td>2000000</td>\n",
              "      <td>soldoff-high</td>\n",
              "      <td>0.376471</td>\n",
              "    </tr>\n",
              "    <tr>\n",
              "      <th>14</th>\n",
              "      <td>15</td>\n",
              "      <td>tech</td>\n",
              "      <td>38</td>\n",
              "      <td>3200000</td>\n",
              "      <td>1</td>\n",
              "      <td>0</td>\n",
              "      <td>7</td>\n",
              "      <td>1800000</td>\n",
              "      <td>soldoff-high</td>\n",
              "      <td>0.536082</td>\n",
              "    </tr>\n",
              "    <tr>\n",
              "      <th>15</th>\n",
              "      <td>16</td>\n",
              "      <td>tech</td>\n",
              "      <td>20</td>\n",
              "      <td>500000</td>\n",
              "      <td>1</td>\n",
              "      <td>0</td>\n",
              "      <td>4</td>\n",
              "      <td>1000000</td>\n",
              "      <td>bankrupt</td>\n",
              "      <td>0.750000</td>\n",
              "    </tr>\n",
              "    <tr>\n",
              "      <th>16</th>\n",
              "      <td>17</td>\n",
              "      <td>healthcare</td>\n",
              "      <td>32</td>\n",
              "      <td>2400000</td>\n",
              "      <td>0</td>\n",
              "      <td>0</td>\n",
              "      <td>6</td>\n",
              "      <td>1500000</td>\n",
              "      <td>bankrupt</td>\n",
              "      <td>0.487179</td>\n",
              "    </tr>\n",
              "    <tr>\n",
              "      <th>17</th>\n",
              "      <td>18</td>\n",
              "      <td>healthcare</td>\n",
              "      <td>31</td>\n",
              "      <td>4700000</td>\n",
              "      <td>0</td>\n",
              "      <td>0</td>\n",
              "      <td>4</td>\n",
              "      <td>4000000</td>\n",
              "      <td>bankrupt</td>\n",
              "      <td>0.487179</td>\n",
              "    </tr>\n",
              "    <tr>\n",
              "      <th>18</th>\n",
              "      <td>19</td>\n",
              "      <td>healthcare</td>\n",
              "      <td>37</td>\n",
              "      <td>5000000</td>\n",
              "      <td>0</td>\n",
              "      <td>0</td>\n",
              "      <td>0</td>\n",
              "      <td>1500000</td>\n",
              "      <td>soldoff-low</td>\n",
              "      <td>0.288889</td>\n",
              "    </tr>\n",
              "    <tr>\n",
              "      <th>19</th>\n",
              "      <td>20</td>\n",
              "      <td>defense</td>\n",
              "      <td>20</td>\n",
              "      <td>4000000</td>\n",
              "      <td>0</td>\n",
              "      <td>1</td>\n",
              "      <td>0</td>\n",
              "      <td>2000000</td>\n",
              "      <td>bankrupt</td>\n",
              "      <td>0.523364</td>\n",
              "    </tr>\n",
              "    <tr>\n",
              "      <th>20</th>\n",
              "      <td>21</td>\n",
              "      <td>healthcare</td>\n",
              "      <td>37</td>\n",
              "      <td>7500000</td>\n",
              "      <td>0</td>\n",
              "      <td>1</td>\n",
              "      <td>7</td>\n",
              "      <td>5000000</td>\n",
              "      <td>ipo</td>\n",
              "      <td>1.000000</td>\n",
              "    </tr>\n",
              "    <tr>\n",
              "      <th>21</th>\n",
              "      <td>22</td>\n",
              "      <td>media</td>\n",
              "      <td>26</td>\n",
              "      <td>4700000</td>\n",
              "      <td>1</td>\n",
              "      <td>1</td>\n",
              "      <td>0</td>\n",
              "      <td>2500000</td>\n",
              "      <td>soldoff-high</td>\n",
              "      <td>0.487805</td>\n",
              "    </tr>\n",
              "    <tr>\n",
              "      <th>22</th>\n",
              "      <td>23</td>\n",
              "      <td>tech</td>\n",
              "      <td>23</td>\n",
              "      <td>6500000</td>\n",
              "      <td>0</td>\n",
              "      <td>0</td>\n",
              "      <td>10</td>\n",
              "      <td>4000000</td>\n",
              "      <td>bankrupt</td>\n",
              "      <td>0.722222</td>\n",
              "    </tr>\n",
              "  </tbody>\n",
              "</table>\n",
              "</div>\n",
              "      <button class=\"colab-df-convert\" onclick=\"convertToInteractive('df-9edbdd3e-de57-4aba-a607-35543a02a62d')\"\n",
              "              title=\"Convert this dataframe to an interactive table.\"\n",
              "              style=\"display:none;\">\n",
              "        \n",
              "  <svg xmlns=\"http://www.w3.org/2000/svg\" height=\"24px\"viewBox=\"0 0 24 24\"\n",
              "       width=\"24px\">\n",
              "    <path d=\"M0 0h24v24H0V0z\" fill=\"none\"/>\n",
              "    <path d=\"M18.56 5.44l.94 2.06.94-2.06 2.06-.94-2.06-.94-.94-2.06-.94 2.06-2.06.94zm-11 1L8.5 8.5l.94-2.06 2.06-.94-2.06-.94L8.5 2.5l-.94 2.06-2.06.94zm10 10l.94 2.06.94-2.06 2.06-.94-2.06-.94-.94-2.06-.94 2.06-2.06.94z\"/><path d=\"M17.41 7.96l-1.37-1.37c-.4-.4-.92-.59-1.43-.59-.52 0-1.04.2-1.43.59L10.3 9.45l-7.72 7.72c-.78.78-.78 2.05 0 2.83L4 21.41c.39.39.9.59 1.41.59.51 0 1.02-.2 1.41-.59l7.78-7.78 2.81-2.81c.8-.78.8-2.07 0-2.86zM5.41 20L4 18.59l7.72-7.72 1.47 1.35L5.41 20z\"/>\n",
              "  </svg>\n",
              "      </button>\n",
              "      \n",
              "  <style>\n",
              "    .colab-df-container {\n",
              "      display:flex;\n",
              "      flex-wrap:wrap;\n",
              "      gap: 12px;\n",
              "    }\n",
              "\n",
              "    .colab-df-convert {\n",
              "      background-color: #E8F0FE;\n",
              "      border: none;\n",
              "      border-radius: 50%;\n",
              "      cursor: pointer;\n",
              "      display: none;\n",
              "      fill: #1967D2;\n",
              "      height: 32px;\n",
              "      padding: 0 0 0 0;\n",
              "      width: 32px;\n",
              "    }\n",
              "\n",
              "    .colab-df-convert:hover {\n",
              "      background-color: #E2EBFA;\n",
              "      box-shadow: 0px 1px 2px rgba(60, 64, 67, 0.3), 0px 1px 3px 1px rgba(60, 64, 67, 0.15);\n",
              "      fill: #174EA6;\n",
              "    }\n",
              "\n",
              "    [theme=dark] .colab-df-convert {\n",
              "      background-color: #3B4455;\n",
              "      fill: #D2E3FC;\n",
              "    }\n",
              "\n",
              "    [theme=dark] .colab-df-convert:hover {\n",
              "      background-color: #434B5C;\n",
              "      box-shadow: 0px 1px 3px 1px rgba(0, 0, 0, 0.15);\n",
              "      filter: drop-shadow(0px 1px 2px rgba(0, 0, 0, 0.3));\n",
              "      fill: #FFFFFF;\n",
              "    }\n",
              "  </style>\n",
              "\n",
              "      <script>\n",
              "        const buttonEl =\n",
              "          document.querySelector('#df-9edbdd3e-de57-4aba-a607-35543a02a62d button.colab-df-convert');\n",
              "        buttonEl.style.display =\n",
              "          google.colab.kernel.accessAllowed ? 'block' : 'none';\n",
              "\n",
              "        async function convertToInteractive(key) {\n",
              "          const element = document.querySelector('#df-9edbdd3e-de57-4aba-a607-35543a02a62d');\n",
              "          const dataTable =\n",
              "            await google.colab.kernel.invokeFunction('convertToInteractive',\n",
              "                                                     [key], {});\n",
              "          if (!dataTable) return;\n",
              "\n",
              "          const docLinkHtml = 'Like what you see? Visit the ' +\n",
              "            '<a target=\"_blank\" href=https://colab.research.google.com/notebooks/data_table.ipynb>data table notebook</a>'\n",
              "            + ' to learn more about interactive tables.';\n",
              "          element.innerHTML = '';\n",
              "          dataTable['output_type'] = 'display_data';\n",
              "          await google.colab.output.renderOutput(dataTable, element);\n",
              "          const docLink = document.createElement('div');\n",
              "          docLink.innerHTML = docLinkHtml;\n",
              "          element.appendChild(docLink);\n",
              "        }\n",
              "      </script>\n",
              "    </div>\n",
              "  </div>\n",
              "  "
            ]
          },
          "metadata": {},
          "execution_count": 94
        }
      ]
    },
    {
      "cell_type": "markdown",
      "source": [
        "## B\n",
        "\n",
        "**Describe what the predicted probabilities colum indicates (i.e., what do those values mean?). Are these probabilities based on the training or the test set?**"
      ],
      "metadata": {
        "id": "cWiAEabIlxF2"
      }
    },
    {
      "cell_type": "markdown",
      "source": [
        "The predicted probablity represents how confident we are. For example, on row 0, there is a 72% probability that the predicted class is bankrupt, meaning there is a 28% probability that the outcome is something else. These probabilities are based on the test set. "
      ],
      "metadata": {
        "id": "iCV2WcoYmpmE"
      }
    },
    {
      "cell_type": "markdown",
      "source": [
        "## C\n",
        "\n",
        "**Using the info provided from the predicted probabilities and predicted outcomes, indicate the companies' project IDs that Arcturus should invest in if, for the sake of diversification, they wanted to invest their \\$11.5 million in one project in each of the four industries: media, tech, healthcare, and defense.** \n",
        "\n",
        "**Give the IDs of the projects and explain why you’d recommend each project.**"
      ],
      "metadata": {
        "id": "_ycg2f3Tm0pt"
      }
    },
    {
      "cell_type": "markdown",
      "source": [
        "* **Healthcare:** 21. There is a 100% probability that the outcome of this investment would be an initial public offering, which is extremely profitable. \n",
        "\n",
        "* **Defense:** 4. Because Arcturus wants to invest in one company in each industry, this is the best option for defense. There's a 53% probability that they'll lose some money off this investment, so it's better to invest a smaller dollar amount into it, and it's better to invest expecting a low sell out than expecting bankruptcy. \n",
        "\n",
        "* **Media:** 2. There is a 65% probability that this investment would result in selling it off for a high return, which is a relatively high chance. Plus, we don't want to go over the 11.5 million allotment for investing. \n",
        "\n",
        "* **Tech:** 7. Investing 4 million dollars with a 54% probability of a high sell out would be a good idea. "
      ],
      "metadata": {
        "id": "4ZowaFZvnJHF"
      }
    }
  ]
}